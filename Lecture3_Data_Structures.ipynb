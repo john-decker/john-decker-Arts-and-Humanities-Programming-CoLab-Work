{
  "nbformat": 4,
  "nbformat_minor": 0,
  "metadata": {
    "colab": {
      "provenance": [],
      "collapsed_sections": [],
      "authorship_tag": "ABX9TyPbz+HR/0Do4FGV8JJ9ogSE",
      "include_colab_link": true
    },
    "kernelspec": {
      "name": "python3",
      "display_name": "Python 3"
    },
    "language_info": {
      "name": "python"
    }
  },
  "cells": [
    {
      "cell_type": "markdown",
      "metadata": {
        "id": "view-in-github",
        "colab_type": "text"
      },
      "source": [
        "<a href=\"https://colab.research.google.com/github/john-decker/john-decker-Arts-and-Humanities-Programming-CoLab-Work/blob/main/Lecture3_Data_Structures.ipynb\" target=\"_parent\"><img src=\"https://colab.research.google.com/assets/colab-badge.svg\" alt=\"Open In Colab\"/></a>"
      ]
    },
    {
      "cell_type": "markdown",
      "source": [
        "###Data Structures\n",
        "There are many data structures to choose from depending on the programming language you are using. In Python, the four basic structures are:\n",
        "\n",
        "**Tuple:** _short for “immutable”_. Tuples are enclosed in parentheses ( ). They can be read but cannot be changed once established to grow or shrink a tuple, we must create a new copy with the desired length. This is useful for creating stable data that cannot be accidentally changed or reassigned. Tuples can contain any data type.\n",
        "\n",
        "**List:** what it sounds like – _a list of items_. Lists are enclosed in square brackets [ ]. They can be read and changed (reassigned) as needed. Lists can grow or shrink as needed, making them a fairly dynamic data structure. Like tuples, lists can contain any data type.\n",
        "\n",
        "**Set:** an _unordered collection of unique items_. A set is instantiated by using the “set” keyword. It is important to note that “set” enforces uniqueness–i.e. there will be no repetition of elements. Set algebra operations such as “union,” “difference,” and “intersection” can be applied to them. An immutable set is called a “frozen set”. As with tuples, a frozen set can be used to create stable data that cannot be overwritten or reassigned.\n",
        "\n",
        "**Dictionary:** uses a _key/value pair_ to associate data. Dictionaries are enclosed in curly brackets { }. LIke lists and tuples, dictionaries can contain any data type. Note that keys are unique and immutable while values can be re-written as needed.\n",
        "\n",
        "These structures can be used individually, or can be nested. For example, you can have a list of lists, a dictionary of dictionaries, a list of tuples, a dictionary of lists of tuples, etc. In other words, there is a lot of flexibility in how you structure your data. Each approach has its advantages and disadvantages, so it is important to carefully consider what you use and how you use it.\n"
      ],
      "metadata": {
        "id": "_H6_wgKe_ZlY"
      }
    },
    {
      "cell_type": "code",
      "source": [
        "# Tuples\n",
        "goth_clowns = (\"Goth Clowns\", \"Kate Warren\", \"2020\", 50)\n",
        "doughnuts = (\"Doughnut Tray on Velvet\", \"Hermina Mendez\", \"2021\", 75)\n",
        "llamas = (\"Llama Jazz\", \"TrebleClef\", \"2022\", 90)"
      ],
      "metadata": {
        "id": "WVR84hjI_wpX"
      },
      "execution_count": null,
      "outputs": []
    },
    {
      "cell_type": "code",
      "source": [
        "goth_clowns"
      ],
      "metadata": {
        "id": "q74wcwhkECMv",
        "outputId": "d26ea68c-9ea7-4691-c8da-bbc3179608b3",
        "colab": {
          "base_uri": "https://localhost:8080/"
        }
      },
      "execution_count": null,
      "outputs": [
        {
          "output_type": "execute_result",
          "data": {
            "text/plain": [
              "('Goth Clowns', 'Kate Warren', '2020', 50)"
            ]
          },
          "metadata": {},
          "execution_count": 2
        }
      ]
    },
    {
      "cell_type": "code",
      "source": [
        "# Indexing with Tuples\n",
        "doughnuts[1]"
      ],
      "metadata": {
        "id": "GauivPEDEMMt",
        "outputId": "c3818ea4-2d9e-4806-ea6e-88acd119e19f",
        "colab": {
          "base_uri": "https://localhost:8080/",
          "height": 35
        }
      },
      "execution_count": null,
      "outputs": [
        {
          "output_type": "execute_result",
          "data": {
            "text/plain": [
              "'Hermina Mendez'"
            ],
            "application/vnd.google.colaboratory.intrinsic+json": {
              "type": "string"
            }
          },
          "metadata": {},
          "execution_count": 3
        }
      ]
    },
    {
      "cell_type": "code",
      "source": [
        "goth_clowns[0][2:4]"
      ],
      "metadata": {
        "id": "3T789aYaERK3",
        "outputId": "98b46f88-b9c8-4cb2-978a-979fe67443fd",
        "colab": {
          "base_uri": "https://localhost:8080/",
          "height": 35
        }
      },
      "execution_count": null,
      "outputs": [
        {
          "output_type": "execute_result",
          "data": {
            "text/plain": [
              "'th'"
            ],
            "application/vnd.google.colaboratory.intrinsic+json": {
              "type": "string"
            }
          },
          "metadata": {},
          "execution_count": 4
        }
      ]
    },
    {
      "cell_type": "markdown",
      "source": [
        "**ALERT:**<br/> \n",
        "Not all data types can be indexed, only those that are “subscriptable.” The integer at the end of our tuples, for example, cannot be accessed like the strings because integer objects are not subscriptable.\n",
        "\n",
        "Trying to access the second number in our price by slicing\n",
        "```\n",
        "goth_clowns[3][1]\n",
        "\n",
        "```\n",
        "will result in:<br/>\n",
        "> TypeError: 'int' object is not subscriptable"
      ],
      "metadata": {
        "id": "i6eTFpNxEbaI"
      }
    },
    {
      "cell_type": "code",
      "source": [
        "print(f\"Title: {llamas[0]}\\nArtist: {llamas[1]}\\nDate: {llamas[2]}\\nPrice: ${llamas[3]}\")"
      ],
      "metadata": {
        "id": "sC-CHRLxGXSF",
        "outputId": "ee2b7d04-cd90-45e8-9443-9b89d2c17400",
        "colab": {
          "base_uri": "https://localhost:8080/"
        }
      },
      "execution_count": null,
      "outputs": [
        {
          "output_type": "stream",
          "name": "stdout",
          "text": [
            "Title: Llama Jazz\n",
            "Artist: TrebleClef\n",
            "Date: 2022\n",
            "Price: $90\n"
          ]
        }
      ]
    },
    {
      "cell_type": "markdown",
      "source": [
        "**Remember** that items in a tuple are _immutable_, this means that once they are assigned they can’t be changed. The length of a tuple also cannot be changed – i.e. it can’t be grown or shrunk if more or less information is needed. Try it for yourself. Attempt to reassign the artist name for llamas. Let’s say that the artist previously known as “TrebleClef” now calls themself “Arctic Star”. What happens when you try the following code?\n",
        "\n",
        "```\n",
        "llamas[1] = \"Artic Star\"\n",
        "print(llamas)\n",
        "\n",
        "```"
      ],
      "metadata": {
        "id": "sEUal3GvpPNs"
      }
    },
    {
      "cell_type": "code",
      "source": [
        "# Create a new tuple to update it\n",
        "llamas = (\"Llama Jazz\", \"Artic Star\", \"2022\", 90)\n",
        "print(llamas)"
      ],
      "metadata": {
        "id": "qPHt3RPipYQL",
        "outputId": "791892a0-52b3-40b4-ff2d-7dc38ac2f392",
        "colab": {
          "base_uri": "https://localhost:8080/"
        }
      },
      "execution_count": null,
      "outputs": [
        {
          "output_type": "stream",
          "name": "stdout",
          "text": [
            "('Llama Jazz', 'Artic Star', '2022', 90)\n"
          ]
        }
      ]
    },
    {
      "cell_type": "markdown",
      "source": [
        "####Try it yourself: \n",
        "Create an imagined art collection and assign tuples with information about three or four works to variables. Select various portions of each tuple and use an f string to print out information. As a challenge, create an f string that prints the information in an order different from the way it appears in your tuple. You will have ten minutes; we'll check back in and see what you have.\n"
      ],
      "metadata": {
        "id": "qbr5BvxVqDC0"
      }
    },
    {
      "cell_type": "code",
      "source": [
        "print(f\"Price: {goth_clowns[3]}\\nDate:{goth_clowns[2]}\\nTitle: {goth_clowns[0]}\\nArtist: {goth_clowns[1]}\")"
      ],
      "metadata": {
        "id": "GQlF0lTni3jS",
        "outputId": "d51059c7-ea10-4dfe-9ddd-e79e2e536b86",
        "colab": {
          "base_uri": "https://localhost:8080/"
        }
      },
      "execution_count": null,
      "outputs": [
        {
          "output_type": "stream",
          "name": "stdout",
          "text": [
            "Price: 50\n",
            "Date:2020\n",
            "Title: Goth Clowns\n",
            "Artist: Kate Warren\n"
          ]
        }
      ]
    },
    {
      "cell_type": "markdown",
      "source": [
        "###Lists\n",
        "The tuples are good, but we can make them better. We can use a list to store our tuples to make our bookkeeping a little easier. Before we do that, though, let’s see a basic example of a list. A list uses square brackets ```[ ]``` and separates individual items with a comma. Unlike tuples, the items in a list can be altered and the list can be grown or shrunk as needed."
      ],
      "metadata": {
        "id": "CgUFbwYXrLGy"
      }
    },
    {
      "cell_type": "code",
      "source": [
        "grocery_list = [\"kale\", \"quinoa\", \"sweet potatoes\", \"black beans\", \"coffee\"]"
      ],
      "metadata": {
        "id": "KHblwqNarTzc"
      },
      "execution_count": null,
      "outputs": []
    },
    {
      "cell_type": "code",
      "source": [
        "# Access by index\n",
        "print(grocery_list[3])"
      ],
      "metadata": {
        "id": "o6wURtQor9iD",
        "outputId": "c99ad10e-f7b4-4ada-e925-9698bc79ba95",
        "colab": {
          "base_uri": "https://localhost:8080/"
        }
      },
      "execution_count": null,
      "outputs": [
        {
          "output_type": "stream",
          "name": "stdout",
          "text": [
            "black beans\n"
          ]
        }
      ]
    },
    {
      "cell_type": "code",
      "source": [
        "# Add to list\n",
        "grocery_list.append(\"zucchini\")\n",
        "print(grocery_list)"
      ],
      "metadata": {
        "id": "CrnWZ__usFel",
        "outputId": "a44452a4-cbc3-4553-eae7-36574306d33b",
        "colab": {
          "base_uri": "https://localhost:8080/"
        }
      },
      "execution_count": null,
      "outputs": [
        {
          "output_type": "stream",
          "name": "stdout",
          "text": [
            "['kale', 'quinoa', 'sweet potatoes', 'black beans', 'coffee', 'zucchini']\n"
          ]
        }
      ]
    },
    {
      "cell_type": "code",
      "source": [
        "# Get element at the end of the list\n",
        "print(grocery_list[-1])"
      ],
      "metadata": {
        "id": "Y2irmYPtsNJK",
        "outputId": "8567e25a-b1bf-46a5-a05d-f8a21f682b8b",
        "colab": {
          "base_uri": "https://localhost:8080/"
        }
      },
      "execution_count": null,
      "outputs": [
        {
          "output_type": "stream",
          "name": "stdout",
          "text": [
            "zucchini\n"
          ]
        }
      ]
    },
    {
      "cell_type": "code",
      "source": [
        "# Insert element at a particular spot\n",
        "grocery_list.insert(3, \"potato chips\")\n",
        "print(grocery_list)"
      ],
      "metadata": {
        "id": "xAj3h0GesWCr",
        "outputId": "517708b4-182e-4839-f568-99f8399a6765",
        "colab": {
          "base_uri": "https://localhost:8080/"
        }
      },
      "execution_count": null,
      "outputs": [
        {
          "output_type": "stream",
          "name": "stdout",
          "text": [
            "['kale', 'quinoa', 'sweet potatoes', 'potato chips', 'black beans', 'coffee', 'zucchini']\n"
          ]
        }
      ]
    },
    {
      "cell_type": "code",
      "source": [
        "# Add an element to the end of the list\n",
        "grocery_list.append(\"bananas\")\n",
        "print(grocery_list)"
      ],
      "metadata": {
        "id": "AiuY1M2hsknc",
        "outputId": "cb0a35c3-ca20-4bec-b714-00f48e9676f5",
        "colab": {
          "base_uri": "https://localhost:8080/"
        }
      },
      "execution_count": null,
      "outputs": [
        {
          "output_type": "stream",
          "name": "stdout",
          "text": [
            "['kale', 'quinoa', 'sweet potatoes', 'potato chips', 'black beans', 'coffee', 'zucchini', 'bananas']\n"
          ]
        }
      ]
    },
    {
      "cell_type": "code",
      "source": [
        "# \"Pop\" that element off the end of the list\n",
        "grocery_list.pop()\n",
        "print(grocery_list)"
      ],
      "metadata": {
        "id": "BtI17WMnswRM",
        "outputId": "2da7928d-74da-411c-c1fe-67072844e761",
        "colab": {
          "base_uri": "https://localhost:8080/"
        }
      },
      "execution_count": null,
      "outputs": [
        {
          "output_type": "stream",
          "name": "stdout",
          "text": [
            "['kale', 'quinoa', 'sweet potatoes', 'potato chips', 'black beans', 'coffee', 'zucchini']\n"
          ]
        }
      ]
    },
    {
      "cell_type": "code",
      "source": [
        "# \"Pop\" element from a specific index\n",
        "grocery_list.pop(3)\n",
        "print(grocery_list)"
      ],
      "metadata": {
        "id": "VKAawKxcs1je",
        "outputId": "af6f3d76-d06f-4414-bae2-30cd2776fe9f",
        "colab": {
          "base_uri": "https://localhost:8080/"
        }
      },
      "execution_count": null,
      "outputs": [
        {
          "output_type": "stream",
          "name": "stdout",
          "text": [
            "['kale', 'quinoa', 'sweet potatoes', 'black beans', 'coffee', 'zucchini']\n"
          ]
        }
      ]
    },
    {
      "cell_type": "markdown",
      "source": [
        "**Side note:** the pop() method makes Python lists similar to a “LIFO” (last in, first out) “stack” used in languages like C. "
      ],
      "metadata": {
        "id": "6QsFT_PSs_T2"
      }
    },
    {
      "cell_type": "code",
      "source": [
        "# Assigning and re-assigning values by index\n",
        "grocery_list[3] = \"pinto beans\"\n",
        "print(grocery_list)"
      ],
      "metadata": {
        "id": "Rog5AizitqjT",
        "outputId": "8fc5ee9d-1f7e-4f99-9f0b-fadb9662a64d",
        "colab": {
          "base_uri": "https://localhost:8080/"
        }
      },
      "execution_count": null,
      "outputs": [
        {
          "output_type": "stream",
          "name": "stdout",
          "text": [
            "['kale', 'quinoa', 'sweet potatoes', 'pinto beans', 'coffee', 'zucchini']\n"
          ]
        }
      ]
    },
    {
      "cell_type": "code",
      "source": [
        "# List concatenation\n",
        "my_friends_list = [\"Cap'n Crunch\", \"Gatorade\", \"marshmallows\", \"corn chips\"]\n",
        "\n",
        "new_list = grocery_list + my_friends_list\n",
        "print(new_list)"
      ],
      "metadata": {
        "id": "4j8MqOdut0kI",
        "outputId": "74b8dd51-fd6a-4b1b-bafa-310978cd04ab",
        "colab": {
          "base_uri": "https://localhost:8080/"
        }
      },
      "execution_count": null,
      "outputs": [
        {
          "output_type": "stream",
          "name": "stdout",
          "text": [
            "['kale', 'quinoa', 'sweet potatoes', 'pinto beans', 'coffee', 'zucchini', \"Cap'n Crunch\", 'Gatorade', 'marshmallows', 'corn chips']\n"
          ]
        }
      ]
    },
    {
      "cell_type": "code",
      "source": [
        "# Combine lists using \"for x in y\" iteration approach\n",
        "new_list_looped=[]\n",
        "\n",
        "for item in my_friends_list:\n",
        "    new_list_looped.append(item)\n",
        "\n",
        "for item in grocery_list:\n",
        "    new_list_looped.append(item)\n",
        "\n",
        "print(new_list_looped)"
      ],
      "metadata": {
        "id": "D9bHbX4ouzK0",
        "outputId": "0aa445c0-7b66-4196-b51b-81c66b699eea",
        "colab": {
          "base_uri": "https://localhost:8080/"
        }
      },
      "execution_count": null,
      "outputs": [
        {
          "output_type": "stream",
          "name": "stdout",
          "text": [
            "[\"Cap'n Crunch\", 'Gatorade', 'marshmallows', 'corn chips', 'kale', 'quinoa', 'sweet potatoes', 'pinto beans', 'coffee', 'zucchini']\n"
          ]
        }
      ]
    },
    {
      "cell_type": "markdown",
      "source": [
        "**Be aware** that the concatenation approach, in most cases, will be faster and consume less computing resources. \n",
        "\n",
        "**Notice** that the concatenation approach also takes less coding. Sometimes a simple approach is all you need. Part of programming is assessing what your main \"problem\" is and deciding which solution(s) work(s) best."
      ],
      "metadata": {
        "id": "ImojCkaqu90w"
      }
    },
    {
      "cell_type": "markdown",
      "source": [
        "###Parallel Lists\n",
        "Sometimes you will need to have related items or ideas stored in separate lists. For the sake of argument, let's say we want to keep lists of what various flowers are good for. We have one list for the type of flower, one list for its \"usual\" color, and one list for what we think is an appropriate use. When you want to bring them together, you can use a list traversal that indexes all of your parallel lists to access the information you need from each of them."
      ],
      "metadata": {
        "id": "3srkxGv3Wv1j"
      }
    },
    {
      "cell_type": "code",
      "source": [
        "# parallel flower lists \n",
        "parallel_list_1 = [\"Daisy\", \"Rose\", \"Orchid\", \"Carnation\"] #type\n",
        "parallel_list_2 = [\"Yellow\", \"Red\", \"White\", \"Pink\"] #color\n",
        "parallel_list_3 = [\"Friend\", \"Lover\", \"Formal Occasion\", \"Celebration\"] #good for\n",
        "\n",
        "for i in range(len(parallel_list_1)):\n",
        "  print(f'A {parallel_list_1[i]} is {parallel_list_2[i]} and is approrpriate for a {parallel_list_3[i]}')"
      ],
      "metadata": {
        "id": "u3yMT5CRVoC8",
        "outputId": "7647a03a-67dd-4391-ee97-b8cebcc49eaa",
        "colab": {
          "base_uri": "https://localhost:8080/"
        }
      },
      "execution_count": null,
      "outputs": [
        {
          "output_type": "stream",
          "name": "stdout",
          "text": [
            "A Daisy is Yellow and is approrpriate for a Friend\n",
            "A Rose is Red and is approrpriate for a Lover\n",
            "A Orchid is White and is approrpriate for a Formal Occasion\n",
            "A Carnation is Pink and is approrpriate for a Celebration\n"
          ]
        }
      ]
    },
    {
      "cell_type": "code",
      "source": [
        "#randomizing results OPTIONAL\n",
        "from random import randint as randomint\n",
        "for i in range(len(parallel_list_1)):\n",
        "  index = randomint(0,3)\n",
        "  print(f'A {parallel_list_1[i]} is {parallel_list_2[index]} and is approrpriate for a {parallel_list_3[i]}')"
      ],
      "metadata": {
        "id": "Duoe8flCYDE1",
        "outputId": "294838ef-aed0-49d2-88cb-d321205194a0",
        "colab": {
          "base_uri": "https://localhost:8080/"
        }
      },
      "execution_count": null,
      "outputs": [
        {
          "output_type": "stream",
          "name": "stdout",
          "text": [
            "A Daisy is Yellow and is approrpriate for a Friend\n",
            "A Rose is White and is approrpriate for a Lover\n",
            "A Orchid is Yellow and is approrpriate for a Formal Occasion\n",
            "A Carnation is Pink and is approrpriate for a Celebration\n"
          ]
        }
      ]
    },
    {
      "cell_type": "markdown",
      "source": [
        "###Lists as containers\n",
        "Now that we've seen how lists work, let'ssee how we can use them to organize more complex information."
      ],
      "metadata": {
        "id": "DIaCd1z3knes"
      }
    },
    {
      "cell_type": "code",
      "source": [
        "# Use a list to manage tuples\n",
        "my_art = [goth_clowns, doughnuts, llamas]\n",
        "print(my_art)"
      ],
      "metadata": {
        "id": "yEan9DW334JK",
        "outputId": "f4d6345e-0be9-4709-881f-3270293e3edb",
        "colab": {
          "base_uri": "https://localhost:8080/"
        }
      },
      "execution_count": null,
      "outputs": [
        {
          "output_type": "stream",
          "name": "stdout",
          "text": [
            "[('Goth Clowns', 'Kate Warren', '2020', 50), ('Doughnut Tray on Velvet', 'Hermina Mendez', '2021', 75), ('Llama Jazz', 'Artic Star', '2022', 90)]\n"
          ]
        }
      ]
    },
    {
      "cell_type": "code",
      "source": [
        "# Use for loop to access information and print\n",
        "for work in my_art:\n",
        "    print(f\"Title: {work[0]}\\nArtist: {work[1]}\\nDate: {work[2]}\\nPrice: ${work[3]}\\n\")"
      ],
      "metadata": {
        "id": "R4haa99A4OeC",
        "outputId": "933d02e8-9bb2-4966-de77-828cd0290ce5",
        "colab": {
          "base_uri": "https://localhost:8080/"
        }
      },
      "execution_count": null,
      "outputs": [
        {
          "output_type": "stream",
          "name": "stdout",
          "text": [
            "Title: Goth Clowns\n",
            "Artist: Kate Warren\n",
            "Date: 2020\n",
            "Price: $50\n",
            "\n",
            "Title: Doughnut Tray on Velvet\n",
            "Artist: Hermina Mendez\n",
            "Date: 2021\n",
            "Price: $75\n",
            "\n",
            "Title: Llama Jazz\n",
            "Artist: Artic Star\n",
            "Date: 2022\n",
            "Price: $90\n",
            "\n"
          ]
        }
      ]
    },
    {
      "cell_type": "markdown",
      "source": [
        "####Try it yourself: \n",
        "Make a list of items–either your art collection or something else–and assign it to a variable. Choose individual elements in the list to access using list indexing. Use append and pop to add and subtract elements from your list. Iterate over the list using a “for x in y” approach and print the output using an f string. You will have ten minutes; we'll check back in and see what you have.\n"
      ],
      "metadata": {
        "id": "CeXe4ixQ5Pb1"
      }
    },
    {
      "cell_type": "code",
      "source": [
        "#add a tuple to the list\n",
        "big_boat = (\"The Titanic\", \"Jack Dawson\", \"1999\", 150)\n",
        "my_art.append(big_boat)\n",
        "my_art"
      ],
      "metadata": {
        "id": "yJC3PWiGn_dS",
        "outputId": "273eaea9-3ea6-49ea-c6af-b40eebf1324d",
        "colab": {
          "base_uri": "https://localhost:8080/"
        }
      },
      "execution_count": null,
      "outputs": [
        {
          "output_type": "execute_result",
          "data": {
            "text/plain": [
              "[('Goth Clowns', 'Kate Warren', '2020', 50),\n",
              " ('Doughnut Tray on Velvet', 'Hermina Mendez', '2021', 75),\n",
              " ('Llama Jazz', 'Artic Star', '2022', 90),\n",
              " ('The Titanic', 'Jack Dawson', '1999', 150)]"
            ]
          },
          "metadata": {},
          "execution_count": 23
        }
      ]
    },
    {
      "cell_type": "code",
      "source": [
        "#access a tuple in the list by index\n",
        "my_art[2]"
      ],
      "metadata": {
        "id": "Z0DNjX5GpXVW",
        "outputId": "91eb9697-dea9-4de8-f890-ea6801243f42",
        "colab": {
          "base_uri": "https://localhost:8080/"
        }
      },
      "execution_count": null,
      "outputs": [
        {
          "output_type": "execute_result",
          "data": {
            "text/plain": [
              "('Llama Jazz', 'Artic Star', '2022', 90)"
            ]
          },
          "metadata": {},
          "execution_count": 24
        }
      ]
    },
    {
      "cell_type": "code",
      "source": [
        "#access individual element from tuple in list\n",
        "my_art[2][0]"
      ],
      "metadata": {
        "id": "5Xl-RY_rpdLO",
        "outputId": "e3e196de-ff15-41bb-fa63-514f284e26d9",
        "colab": {
          "base_uri": "https://localhost:8080/",
          "height": 35
        }
      },
      "execution_count": null,
      "outputs": [
        {
          "output_type": "execute_result",
          "data": {
            "text/plain": [
              "'Llama Jazz'"
            ],
            "application/vnd.google.colaboratory.intrinsic+json": {
              "type": "string"
            }
          },
          "metadata": {},
          "execution_count": 25
        }
      ]
    },
    {
      "cell_type": "code",
      "source": [
        "#slice a string element in a tuple in a list\n",
        "my_art[2][0][2:5]"
      ],
      "metadata": {
        "id": "NZq3wElDpiQv",
        "outputId": "30a0ab30-6d81-4665-ab35-8d12629d168b",
        "colab": {
          "base_uri": "https://localhost:8080/",
          "height": 35
        }
      },
      "execution_count": null,
      "outputs": [
        {
          "output_type": "execute_result",
          "data": {
            "text/plain": [
              "'ama'"
            ],
            "application/vnd.google.colaboratory.intrinsic+json": {
              "type": "string"
            }
          },
          "metadata": {},
          "execution_count": 26
        }
      ]
    },
    {
      "cell_type": "code",
      "source": [
        "#remove last tuple item from the list\n",
        "my_art.pop()\n",
        "my_art"
      ],
      "metadata": {
        "id": "r8IK3In3qAsy",
        "outputId": "92501a4d-3e52-4720-81d5-967ccd077af2",
        "colab": {
          "base_uri": "https://localhost:8080/"
        }
      },
      "execution_count": null,
      "outputs": [
        {
          "output_type": "execute_result",
          "data": {
            "text/plain": [
              "[('Goth Clowns', 'Kate Warren', '2020', 50),\n",
              " ('Doughnut Tray on Velvet', 'Hermina Mendez', '2021', 75),\n",
              " ('Llama Jazz', 'Artic Star', '2022', 90)]"
            ]
          },
          "metadata": {},
          "execution_count": 27
        }
      ]
    },
    {
      "cell_type": "markdown",
      "source": [
        "###Sets\n",
        "The list of tuples approach provides us with a way to group associated information together and access it. One potential problem with tuples and lists is that they will allow duplicate information. "
      ],
      "metadata": {
        "id": "ojIUQUxE5hHl"
      }
    },
    {
      "cell_type": "code",
      "source": [
        "grocery_list"
      ],
      "metadata": {
        "id": "dreD2I735rgI",
        "outputId": "966de2ed-a09a-4f7f-8756-6a5c71d15df4",
        "colab": {
          "base_uri": "https://localhost:8080/"
        }
      },
      "execution_count": null,
      "outputs": [
        {
          "output_type": "execute_result",
          "data": {
            "text/plain": [
              "['kale', 'quinoa', 'sweet potatoes', 'pinto beans', 'coffee', 'zucchini']"
            ]
          },
          "metadata": {},
          "execution_count": 28
        }
      ]
    },
    {
      "cell_type": "code",
      "source": [
        "# Adding a duplicate item into our list\n",
        "grocery_list.append(\"sweet potatoes\")\n",
        "print(grocery_list)"
      ],
      "metadata": {
        "id": "407ZN-4O6Aqv",
        "outputId": "184f3668-f3f3-407f-8944-9c5dd502fac1",
        "colab": {
          "base_uri": "https://localhost:8080/"
        }
      },
      "execution_count": null,
      "outputs": [
        {
          "output_type": "stream",
          "name": "stdout",
          "text": [
            "['kale', 'quinoa', 'sweet potatoes', 'pinto beans', 'coffee', 'zucchini', 'sweet potatoes']\n"
          ]
        }
      ]
    },
    {
      "cell_type": "code",
      "source": [
        "# Lots of duplicates\n",
        "grocery_list_confused = ['kale', 'coffee', 'quinoa', 'sweet potatoes', 'pinto beans', 'coffee', 'zucchini', 'sweet potatoes', 'coffee', 'kale']\n",
        "print(grocery_list_confused)"
      ],
      "metadata": {
        "id": "bEFdf4sZ6Utg",
        "outputId": "12c83ecb-e52e-4df1-87c8-1de4b4188dff",
        "colab": {
          "base_uri": "https://localhost:8080/"
        }
      },
      "execution_count": null,
      "outputs": [
        {
          "output_type": "stream",
          "name": "stdout",
          "text": [
            "['kale', 'coffee', 'quinoa', 'sweet potatoes', 'pinto beans', 'coffee', 'zucchini', 'sweet potatoes', 'coffee', 'kale']\n"
          ]
        }
      ]
    },
    {
      "cell_type": "code",
      "source": [
        "# Using set() to get rid of duplicates\n",
        "grocery_list_unique = set(grocery_list_confused)\n",
        "print(grocery_list_unique)"
      ],
      "metadata": {
        "id": "URnUZZWo6owk",
        "outputId": "e838c5f7-fe26-4938-c230-4bada328c005",
        "colab": {
          "base_uri": "https://localhost:8080/"
        }
      },
      "execution_count": null,
      "outputs": [
        {
          "output_type": "stream",
          "name": "stdout",
          "text": [
            "{'zucchini', 'sweet potatoes', 'quinoa', 'pinto beans', 'kale', 'coffee'}\n"
          ]
        }
      ]
    },
    {
      "cell_type": "code",
      "source": [
        "# Create a new set of unique items\n",
        "weekend_set = set(['coffee', 'hammer', 'hammock', 'fence post', 'zucchini'])\n",
        "weekend_set"
      ],
      "metadata": {
        "id": "-7pQ7i6y9DX4",
        "outputId": "4cafc5aa-757e-439d-de4a-594b7e331f5a",
        "colab": {
          "base_uri": "https://localhost:8080/"
        }
      },
      "execution_count": null,
      "outputs": [
        {
          "output_type": "execute_result",
          "data": {
            "text/plain": [
              "{'coffee', 'fence post', 'hammer', 'hammock', 'zucchini'}"
            ]
          },
          "metadata": {},
          "execution_count": 32
        }
      ]
    },
    {
      "cell_type": "code",
      "source": [
        "# Set operations | intersection()\n",
        "print(grocery_list_unique.intersection(weekend_set))"
      ],
      "metadata": {
        "id": "luBm5HRW9NHF",
        "outputId": "c10826e4-84e6-46f4-d32b-8445dc5a58c4",
        "colab": {
          "base_uri": "https://localhost:8080/"
        }
      },
      "execution_count": null,
      "outputs": [
        {
          "output_type": "stream",
          "name": "stdout",
          "text": [
            "{'zucchini', 'coffee'}\n"
          ]
        }
      ]
    },
    {
      "cell_type": "code",
      "source": [
        "# Set operations | union()\n",
        "print(grocery_list_unique.union(weekend_set))"
      ],
      "metadata": {
        "id": "eLXuQsSn9X8t",
        "outputId": "5681dac3-4594-4b69-d34c-7476d30bcfba",
        "colab": {
          "base_uri": "https://localhost:8080/"
        }
      },
      "execution_count": null,
      "outputs": [
        {
          "output_type": "stream",
          "name": "stdout",
          "text": [
            "{'zucchini', 'sweet potatoes', 'quinoa', 'pinto beans', 'kale', 'hammock', 'hammer', 'fence post', 'coffee'}\n"
          ]
        }
      ]
    },
    {
      "cell_type": "code",
      "source": [
        "# Set operations | difference()\n",
        "print(grocery_list_unique.difference(weekend_set))"
      ],
      "metadata": {
        "id": "wkjgJLpY9cwg",
        "colab": {
          "base_uri": "https://localhost:8080/"
        },
        "outputId": "88a25a8a-c97f-413a-a89b-7a6f21fc3b10"
      },
      "execution_count": null,
      "outputs": [
        {
          "output_type": "stream",
          "name": "stdout",
          "text": [
            "{'sweet potatoes', 'quinoa', 'pinto beans', 'kale'}\n"
          ]
        }
      ]
    },
    {
      "cell_type": "code",
      "source": [
        "print(weekend_set.difference(grocery_list_unique))"
      ],
      "metadata": {
        "id": "SDH4X_rp9jn6",
        "outputId": "953e12b7-5ee4-4f56-b04a-5d83f9602a96",
        "colab": {
          "base_uri": "https://localhost:8080/"
        }
      },
      "execution_count": null,
      "outputs": [
        {
          "output_type": "stream",
          "name": "stdout",
          "text": [
            "{'fence post', 'hammock', 'hammer'}\n"
          ]
        }
      ]
    },
    {
      "cell_type": "markdown",
      "source": [
        "**Notice** that the first gives only the remaining elements in grocery_list_unique and the second gives the remaining elements from weekend_set (i.e. it gives results for the set invoking the difference() method). This is because this method “resolves from the left.” \n",
        "\n",
        "If we want to see what is in both sets minus what they share, we can use the “symmetric_difference()” method."
      ],
      "metadata": {
        "id": "toWfdz9c9qCV"
      }
    },
    {
      "cell_type": "code",
      "source": [
        "print(grocery_list_unique.symmetric_difference(weekend_set))"
      ],
      "metadata": {
        "id": "bvrFYGwcIgqW",
        "outputId": "80ec94a0-1704-4189-b37a-8324d1d85277",
        "colab": {
          "base_uri": "https://localhost:8080/"
        }
      },
      "execution_count": null,
      "outputs": [
        {
          "output_type": "stream",
          "name": "stdout",
          "text": [
            "{'quinoa', 'pinto beans', 'sweet potatoes', 'kale', 'hammock', 'hammer', 'fence post'}\n"
          ]
        }
      ]
    },
    {
      "cell_type": "markdown",
      "source": [
        "Going further, let’s say that we have two sets and we want to see if they have anything in common at all. Does my weekday set, for example, have any elements in common with my weekend list? \n",
        "\n",
        "We can use the “.isdisjoint()” method to help. If the sets are disjoints (i.e. they share nothing in common) the method returns “True” and if they share elements, it returns “False”. "
      ],
      "metadata": {
        "id": "w6mL9YWvIwLl"
      }
    },
    {
      "cell_type": "code",
      "source": [
        "weekday_set = set(['commute', 'teach', 'grade', 'meetings', 'office hours'])"
      ],
      "metadata": {
        "id": "iEH6CnX-Ixsh"
      },
      "execution_count": null,
      "outputs": []
    },
    {
      "cell_type": "code",
      "source": [
        "print(weekend_set.isdisjoint(weekday_set))"
      ],
      "metadata": {
        "id": "Oia5M16vI8Qs",
        "outputId": "d05d46b6-cdce-49cc-e3d5-e2ba96aa52fb",
        "colab": {
          "base_uri": "https://localhost:8080/"
        }
      },
      "execution_count": null,
      "outputs": [
        {
          "output_type": "stream",
          "name": "stdout",
          "text": [
            "True\n"
          ]
        }
      ]
    },
    {
      "cell_type": "code",
      "source": [
        "# Update a set\n",
        "weekday_set.update(['send email', 'eat lunch'])\n",
        "print(weekday_set)"
      ],
      "metadata": {
        "id": "GHQKnd1hJG6h",
        "outputId": "af2b61f5-d67d-49b8-ae87-f9454d0b5f1b",
        "colab": {
          "base_uri": "https://localhost:8080/"
        }
      },
      "execution_count": null,
      "outputs": [
        {
          "output_type": "stream",
          "name": "stdout",
          "text": [
            "{'grade', 'meetings', 'office hours', 'eat lunch', 'send email', 'commute', 'teach'}\n"
          ]
        }
      ]
    },
    {
      "cell_type": "markdown",
      "source": [
        "**Keep in mind:** sets do not support iterations or slicing. To have that type of access, it is necessary to convert (or cast) the set into a list."
      ],
      "metadata": {
        "id": "REI1MUhIJTaw"
      }
    },
    {
      "cell_type": "code",
      "source": [
        "weekday_list = list(weekday_set)\n",
        "print(weekday_list[1])"
      ],
      "metadata": {
        "id": "n6CH_9q2JfPv",
        "outputId": "e8a2c58f-2e17-4e27-8230-2c5b08d0fc07",
        "colab": {
          "base_uri": "https://localhost:8080/"
        }
      },
      "execution_count": null,
      "outputs": [
        {
          "output_type": "stream",
          "name": "stdout",
          "text": [
            "meetings\n"
          ]
        }
      ]
    },
    {
      "cell_type": "markdown",
      "source": [
        "####Try it yourself: \n",
        "Create a list with duplicate items in it. Create a new variable and apply the set() method to your list and print the set to make sure it is free of duplicates. Use the update() method to add a new unique element to your set. Create a new set, which shares one or two elements with your previous set and use the set algebra operators on both sets. You will have ten minutes; we'll check back in and see what you have.  \n"
      ],
      "metadata": {
        "id": "f6MCR_fjJlaW"
      }
    },
    {
      "cell_type": "markdown",
      "source": [
        "###Dictionaries\n",
        "The last data structure we will discuss today is the dictionary. Dictionaries are based on associations between key and values. The keys must be unique (within one dictionary) but the information associated with them does not have to be. Dictionaries are normally designated by using curly braces ```{ }```. "
      ],
      "metadata": {
        "id": "f5rBbL9nJvXx"
      }
    },
    {
      "cell_type": "code",
      "source": [
        "#create a simple dictionary\n",
        "club_members = {\"member_1\": \"Ben Kanobi\"}\n",
        "print(club_members)"
      ],
      "metadata": {
        "id": "zHxViWuHUsmv",
        "outputId": "166ba1f3-5f5e-42b8-c5e5-1c78266f66b2",
        "colab": {
          "base_uri": "https://localhost:8080/"
        }
      },
      "execution_count": null,
      "outputs": [
        {
          "output_type": "stream",
          "name": "stdout",
          "text": [
            "{'member_1': 'Ben Kanobi'}\n"
          ]
        }
      ]
    },
    {
      "cell_type": "code",
      "source": [
        "#use index to access value\n",
        "print(club_members[\"member_1\"])"
      ],
      "metadata": {
        "id": "PNa2suXYUygb",
        "outputId": "57893719-3903-454d-bc39-1952921c0239",
        "colab": {
          "base_uri": "https://localhost:8080/"
        }
      },
      "execution_count": null,
      "outputs": [
        {
          "output_type": "stream",
          "name": "stdout",
          "text": [
            "Ben Kanobi\n"
          ]
        }
      ]
    },
    {
      "cell_type": "markdown",
      "source": [
        "####Try it yourself: \n",
        "Create a simple dictionary with one key and one value. Be sure that you can access the value associated with your key. Take two or three minutes and we'll check in to see how you did.\n"
      ],
      "metadata": {
        "id": "kE1rN7zbU4_K"
      }
    },
    {
      "cell_type": "code",
      "source": [
        "club_members = {\"member_1\": \"Ben Kanobi\", \"member_2\": \"Luke Skywalker\"}\n",
        "print(club_members)"
      ],
      "metadata": {
        "id": "Q7N7HVQ7VD4b",
        "outputId": "228ad2a3-99d0-40fa-eead-0752cc46622d",
        "colab": {
          "base_uri": "https://localhost:8080/"
        }
      },
      "execution_count": null,
      "outputs": [
        {
          "output_type": "stream",
          "name": "stdout",
          "text": [
            "{'member_1': 'Ben Kanobi', 'member_2': 'Luke Skywalker'}\n"
          ]
        }
      ]
    },
    {
      "cell_type": "code",
      "source": [
        "# Iterating over a dictionary\n",
        "for key, value in club_members.items():\n",
        "    print(key, \":\", value)"
      ],
      "metadata": {
        "id": "5N4f1pTYVJy8",
        "outputId": "4be21793-e45d-4788-a441-b994849c141e",
        "colab": {
          "base_uri": "https://localhost:8080/"
        }
      },
      "execution_count": null,
      "outputs": [
        {
          "output_type": "stream",
          "name": "stdout",
          "text": [
            "member_1 : Ben Kanobi\n",
            "member_2 : Luke Skywalker\n"
          ]
        }
      ]
    },
    {
      "cell_type": "markdown",
      "source": [
        "**Take note** that “key” and “value” are temporary variables used for the process of iterating over the dictionary. We could, and should, use more descriptive variables:\n",
        "```\n",
        "for person, information in club_members.items():\n",
        "    print(person, \":\", information)\n",
        "```\n",
        "In this approach, we get access to both the keys and the values by using the “.items()” method. If we do not use that method, we get an error:\n",
        "```\n",
        "for person, information in club_members:\n",
        "    print(person, \":\", information)\n",
        "```\n",
        ">ValueError: too many values to unpack (expected 2)\n",
        "\n",
        "We don’t necessarily have to use “.items()”, however, and can get the same information. The syntax just gets more complicated:\n"
      ],
      "metadata": {
        "id": "hnG4J5KHVbBk"
      }
    },
    {
      "cell_type": "code",
      "source": [
        "for entry in club_members:\n",
        "    print(entry, \":\", club_members[entry])"
      ],
      "metadata": {
        "id": "8DB1IOpRVl6q",
        "outputId": "0bb57310-17ce-4ad2-eb34-d5264253930b",
        "colab": {
          "base_uri": "https://localhost:8080/"
        }
      },
      "execution_count": null,
      "outputs": [
        {
          "output_type": "stream",
          "name": "stdout",
          "text": [
            "member_1 : Ben Kanobi\n",
            "member_2 : Luke Skywalker\n"
          ]
        }
      ]
    },
    {
      "cell_type": "markdown",
      "source": [
        "####Try it yourself: \n",
        "Expand your dictionary to have two or more key/value pairs. Use either (or both) of the approaches we’ve just seen to iterate through your dictionary. Take two or three minutes and we'll check in to see how you did.\n"
      ],
      "metadata": {
        "id": "Gy1JJG2pWSAr"
      }
    },
    {
      "cell_type": "code",
      "source": [
        "# Add more members, one at a time\n",
        "club_members[\"member_3\"] = \"Uncle Owen\"\n",
        "club_members[\"member_4\"] = \"Aunt Beru\"\n",
        "print(club_members)"
      ],
      "metadata": {
        "id": "lvQDlWW-WcQF",
        "outputId": "ca169d41-44a7-4a48-ac09-ec2c60313117",
        "colab": {
          "base_uri": "https://localhost:8080/"
        }
      },
      "execution_count": null,
      "outputs": [
        {
          "output_type": "stream",
          "name": "stdout",
          "text": [
            "{'member_1': 'Ben Kanobi', 'member_2': 'Luke Skywalker', 'member_3': 'Uncle Owen', 'member_4': 'Aunt Beru'}\n"
          ]
        }
      ]
    },
    {
      "cell_type": "code",
      "source": [
        "# Add more members using a list and .update()\n",
        "new_members = [(\"member_5\", \"C3P0\"), (\"member_6\", \"R2D2\")]\n",
        "club_members.update(new_members)\n",
        "print(club_members)"
      ],
      "metadata": {
        "id": "QRdfJQNWWuta",
        "colab": {
          "base_uri": "https://localhost:8080/"
        },
        "outputId": "a5bbf26e-31cf-4a93-bce7-95d441b217aa"
      },
      "execution_count": null,
      "outputs": [
        {
          "output_type": "stream",
          "name": "stdout",
          "text": [
            "{'member_1': 'Ben Kanobi', 'member_2': 'Luke Skywalker', 'member_3': 'Uncle Owen', 'member_4': 'Aunt Beru', 'member_5': 'C3P0', 'member_6': 'R2D2'}\n"
          ]
        }
      ]
    },
    {
      "cell_type": "markdown",
      "source": [
        "**Notice** that the variable “new_members” uses a tuple and that the key and value are separated by a comma rather than a colon. Differences like this can lead to syntax errors, so make sure you are using the right format. "
      ],
      "metadata": {
        "id": "U-NhWLTGXAW7"
      }
    },
    {
      "cell_type": "code",
      "source": [
        "# Use 'Pop' to remove a member\n",
        "club_members.pop(\"member_3\")\n",
        "print(club_members)"
      ],
      "metadata": {
        "id": "KUSRA3_HXFnF",
        "colab": {
          "base_uri": "https://localhost:8080/"
        },
        "outputId": "1a8a3019-e6a3-4d0e-ca9c-a26a8af9c69f"
      },
      "execution_count": null,
      "outputs": [
        {
          "output_type": "stream",
          "name": "stdout",
          "text": [
            "{'member_1': 'Ben Kanobi', 'member_2': 'Luke Skywalker', 'member_4': 'Aunt Beru', 'member_5': 'C3P0', 'member_6': 'R2D2'}\n"
          ]
        }
      ]
    },
    {
      "cell_type": "code",
      "source": [
        "# Use 'del' to remove a member\n",
        "del club_members[\"member_4\"]\n",
        "print(club_members)"
      ],
      "metadata": {
        "id": "jlyFPVPFXN3F",
        "colab": {
          "base_uri": "https://localhost:8080/"
        },
        "outputId": "19fc1df0-276a-4fa3-c341-7364b2aa9600"
      },
      "execution_count": null,
      "outputs": [
        {
          "output_type": "stream",
          "name": "stdout",
          "text": [
            "{'member_1': 'Ben Kanobi', 'member_2': 'Luke Skywalker', 'member_5': 'C3P0', 'member_6': 'R2D2'}\n"
          ]
        }
      ]
    },
    {
      "cell_type": "markdown",
      "source": [
        "**Notice** that with “del” we use square brackets to specify the key."
      ],
      "metadata": {
        "id": "XdxRLxJN2NsM"
      }
    },
    {
      "cell_type": "code",
      "source": [
        "# Reassign club member numbers\n",
        "club_members[\"member_3\"]=\"C3P0\"\n",
        "club_members[\"member_4\"]= \"R2D2\"\n",
        "print(club_members)"
      ],
      "metadata": {
        "id": "ey_r4-j92dO1",
        "outputId": "1cd13eea-f007-426c-faad-2009b49ad673",
        "colab": {
          "base_uri": "https://localhost:8080/"
        }
      },
      "execution_count": null,
      "outputs": [
        {
          "output_type": "stream",
          "name": "stdout",
          "text": [
            "{'member_1': 'Ben Kanobi', 'member_2': 'Luke Skywalker', 'member_5': 'C3P0', 'member_6': 'R2D2', 'member_3': 'C3P0', 'member_4': 'R2D2'}\n"
          ]
        }
      ]
    },
    {
      "cell_type": "code",
      "source": [
        "# Delete previous entries to fix list numbering\n",
        "club_members.pop(\"member_5\")\n",
        "del club_members[\"member_6\"]\n",
        "print(club_members)"
      ],
      "metadata": {
        "id": "SsSBHp2w3Rxh",
        "outputId": "c200b4cb-cbee-4d1f-f083-bd7ccce8cb3f",
        "colab": {
          "base_uri": "https://localhost:8080/"
        }
      },
      "execution_count": null,
      "outputs": [
        {
          "output_type": "stream",
          "name": "stdout",
          "text": [
            "{'member_1': 'Ben Kanobi', 'member_2': 'Luke Skywalker', 'member_3': 'C3P0', 'member_4': 'R2D2'}\n"
          ]
        }
      ]
    },
    {
      "cell_type": "markdown",
      "source": [
        "####Try it yourself: \n",
        "Use the methods we’ve discussed to add more key/value pairs to your dictionary as well as subtract at least one key/value pair. You will have ten minutes; we'll check back in and see what you have."
      ],
      "metadata": {
        "id": "FATECxfq3jjo"
      }
    },
    {
      "cell_type": "markdown",
      "source": [
        "###Dictionary of Dictionaries\n",
        "dictionaries are flexible and can contain other data structures. Let’s try a dictionary with a dictionary in it. To do this, we need to establish a dictionary, then establish a key, and then associate a dictionary with that key. The nested dictionary, then, will have its own keys and values. For example:\n",
        "```\n",
        "example_dictionary = {\"first_key\": {\"inner_key\": \"inner_value\"}, \"second_key\":{\"inner_key\": \"inner_value\"}}\n",
        "print(example_dictionary)\n",
        "```\n",
        "**Notice** that even though a dictionary will not allow duplicate keys (i.e. we could not have two keys named “first_key”), we can use recurring key value pairs in our inner dictionaries (“inner_key” and “inner_value”). This is because each nested dictionary is an independent structure with its own scope (which we will discuss later). This feature is useful if you want to track similar information for each entry. For our club members, let’s keep track of four points of interest\n",
        "* name\n",
        "* occupation\n",
        "* likes\n",
        "* goals "
      ],
      "metadata": {
        "id": "ETIadKcu3vrv"
      }
    },
    {
      "cell_type": "code",
      "source": [
        "club_members_detailed = {\"member_1\":\n",
        "    {\"name\": \"Ben Kanobi\",\n",
        "    \"occupation\": \"Retired General\",\n",
        "    \"likes\": 'convincing authorities to look the other way',\n",
        "    \"goals\": \"undo past mistakes\"},\n",
        "    \"member_2\":\n",
        "    {\"name\": \"Luke Skywalker\",\n",
        "    \"occupation\" : \"Moisture Farmer\",\n",
        "    \"likes\" : \"going into town\",\n",
        "    \"goals\" : \"getting off the farm\"},\n",
        "    \"member_3\":\n",
        "    {\"name\": \"C3P0\",\n",
        "    \"occupation\" : \"Protocol Droid\",\n",
        "    \"likes\" : \"order and stability\",\n",
        "    \"goals\" : \"keeping R2 from getting into trouble\"},\n",
        "    \"member_4\":\n",
        "    {\"name\": \"R2D2\",\n",
        "    \"occupation\" : \"Astromech Droid\",\n",
        "    \"likes\" : \"getting into trouble\",\n",
        "    \"goals\" : \"bringing help to the princess\"}\n",
        "    }\n",
        "club_members_detailed"
      ],
      "metadata": {
        "id": "IOFREKnw4UXR",
        "outputId": "d915d482-b7d6-4321-8776-47f4b4afa2d1",
        "colab": {
          "base_uri": "https://localhost:8080/"
        }
      },
      "execution_count": null,
      "outputs": [
        {
          "output_type": "execute_result",
          "data": {
            "text/plain": [
              "{'member_1': {'name': 'Ben Kanobi',\n",
              "  'occupation': 'Retired General',\n",
              "  'likes': 'convincing authorities to look the other way',\n",
              "  'goals': 'undo past mistakes'},\n",
              " 'member_2': {'name': 'Luke Skywalker',\n",
              "  'occupation': 'Moisture Farmer',\n",
              "  'likes': 'going into town',\n",
              "  'goals': 'getting off the farm'},\n",
              " 'member_3': {'name': 'C3P0',\n",
              "  'occupation': 'Protocol Droid',\n",
              "  'likes': 'order and stability',\n",
              "  'goals': 'keeping R2 from getting into trouble'},\n",
              " 'member_4': {'name': 'R2D2',\n",
              "  'occupation': 'Astromech Droid',\n",
              "  'likes': 'getting into trouble',\n",
              "  'goals': 'bringing help to the princess'}}"
            ]
          },
          "metadata": {},
          "execution_count": 53
        }
      ]
    },
    {
      "cell_type": "code",
      "source": [
        "# Add dictionaries to a dictionary\n",
        "club_members_detailed[\"member_5\"] = {\"name\": \"Han Solo\", \"occupation\" : \"Smuggler\", \"likes\": \"danger and adventure\", \"goals\": \"keeping one step ahead of the Empire\"}\n",
        "\n",
        "club_members_detailed[\"member_6\"] = {\"name\": \"Chewbacca\", \"occupation\" : \"Smuggler\", \"likes\": \"holo chess\", \"goals\": \"keeping the Millennium Falcon flying\"} \n",
        "club_members_detailed"
      ],
      "metadata": {
        "id": "RI6b1-zL4nSw",
        "outputId": "85395067-0b3d-46ea-962a-dc66a581f9a8",
        "colab": {
          "base_uri": "https://localhost:8080/"
        }
      },
      "execution_count": null,
      "outputs": [
        {
          "output_type": "execute_result",
          "data": {
            "text/plain": [
              "{'member_1': {'name': 'Ben Kanobi',\n",
              "  'occupation': 'Retired General',\n",
              "  'likes': 'convincing authorities to look the other way',\n",
              "  'goals': 'undo past mistakes'},\n",
              " 'member_2': {'name': 'Luke Skywalker',\n",
              "  'occupation': 'Moisture Farmer',\n",
              "  'likes': 'going into town',\n",
              "  'goals': 'getting off the farm'},\n",
              " 'member_3': {'name': 'C3P0',\n",
              "  'occupation': 'Protocol Droid',\n",
              "  'likes': 'order and stability',\n",
              "  'goals': 'keeping R2 from getting into trouble'},\n",
              " 'member_4': {'name': 'R2D2',\n",
              "  'occupation': 'Astromech Droid',\n",
              "  'likes': 'getting into trouble',\n",
              "  'goals': 'bringing help to the princess'},\n",
              " 'member_5': {'name': 'Han Solo',\n",
              "  'occupation': 'Smuggler',\n",
              "  'likes': 'danger and adventure',\n",
              "  'goals': 'keeping one step ahead of the Empire'},\n",
              " 'member_6': {'name': 'Chewbacca',\n",
              "  'occupation': 'Smuggler',\n",
              "  'likes': 'holo chess',\n",
              "  'goals': 'keeping the Millennium Falcon flying'}}"
            ]
          },
          "metadata": {},
          "execution_count": 54
        }
      ]
    },
    {
      "cell_type": "code",
      "source": [
        "# Accessing dictionaries in a dictionary\n",
        "for person_dict in club_members_detailed.values():\n",
        "    print(\"\\r\")\n",
        "    for category, information in person_dict.items():\n",
        "        print(f\"{category}: {information}\")"
      ],
      "metadata": {
        "id": "LnpSayJi5DWl",
        "outputId": "7647c341-525d-4224-d65b-0e2889b78af3",
        "colab": {
          "base_uri": "https://localhost:8080/"
        }
      },
      "execution_count": null,
      "outputs": [
        {
          "output_type": "stream",
          "name": "stdout",
          "text": [
            "\r\n",
            "name: Ben Kanobi\n",
            "occupation: Retired General\n",
            "likes: convincing authorities to look the other way\n",
            "goals: undo past mistakes\n",
            "\r\n",
            "name: Luke Skywalker\n",
            "occupation: Moisture Farmer\n",
            "likes: going into town\n",
            "goals: getting off the farm\n",
            "\r\n",
            "name: C3P0\n",
            "occupation: Protocol Droid\n",
            "likes: order and stability\n",
            "goals: keeping R2 from getting into trouble\n",
            "\r\n",
            "name: R2D2\n",
            "occupation: Astromech Droid\n",
            "likes: getting into trouble\n",
            "goals: bringing help to the princess\n",
            "\r\n",
            "name: Han Solo\n",
            "occupation: Smuggler\n",
            "likes: danger and adventure\n",
            "goals: keeping one step ahead of the Empire\n",
            "\r\n",
            "name: Chewbacca\n",
            "occupation: Smuggler\n",
            "likes: holo chess\n",
            "goals: keeping the Millennium Falcon flying\n"
          ]
        }
      ]
    },
    {
      "cell_type": "markdown",
      "source": [
        "We can take our nested data structures even further. What if, for example, our members had many likes instead of just one. We could keep them as a list and associate them with the “likes” key in our inner dictionary. The format for this looks like:\n",
        "```\n",
        "dictionary_with_list = {\"first_key\": {\"inner_key\": [\"list_item_1\", \"list_item_2\", \"list_item_3\"]}}\n",
        "```"
      ],
      "metadata": {
        "id": "PTwaR81P5Trz"
      }
    },
    {
      "cell_type": "code",
      "source": [
        "# Dictionary of dictionaries containing lists\n",
        "rebel_alliance_club = {\"member_1\":\n",
        "    {\"name\": \"Ben Kanobi\",\n",
        "    \"occupation\": \"Retired General\",\n",
        "    \"likes\": ['convincing authorities to look the other way', 'building lightsabers', 'fighting evil'],\n",
        "    \"goals\": \"undo past mistakes\"},\n",
        "    \"member_2\":\n",
        "    {\"name\": \"Luke Skywalker\",\n",
        "    \"occupation\" : \"Moisture Farmer\",\n",
        "    \"likes\" : [\"going into town\", \"working on droids\", \"driving a land speeder\"],\n",
        "    \"goals\" : \"getting off the farm\"},\n",
        "    \"member_3\":\n",
        "    {\"name\": \"C3P0\",\n",
        "    \"occupation\" : \"Protocol Droid\",\n",
        "    \"likes\" : [\"order and stability\", \"hot oil baths for squeaky joints\"],\n",
        "    \"goals\" : \"keeping R2 from getting into trouble\"},\n",
        "    \"member_4\":\n",
        "    {\"name\": \"R2D2\",\n",
        "    \"occupation\" : \"Astromech Droid\",\n",
        "    \"likes\" : [\"getting into trouble\", \"hacking into Imperial computers\"],\n",
        "    \"goals\" : \"bringing help to the princess\"},\n",
        "    \"member_5\":\n",
        "    {\"name\": \"Han Solo\",\n",
        "    \"occupation\" : \"Smuggler\",\n",
        "    \"likes\": [\"danger and adventure\", \"making money\", \"flying through asteroid fields\"],\n",
        "    \"goals\": \"keeping one step ahead of the Empire\"},\n",
        "    \"member_6\":\n",
        "    {\"name\": \"Chewbacca\",\n",
        "    \"occupation\" : \"Smuggler\",\n",
        "    \"likes\": [\"holo chess\", \"sleeping in a hammock\", \"warm tropical beaches\"],\n",
        "    \"goals\": \"keeping the Millennium Falcon flying\"}\n",
        "    }\n",
        "rebel_alliance_club"
      ],
      "metadata": {
        "id": "l2eV4Ntw5etR",
        "outputId": "5e927a64-1a02-455f-dee1-5752cee043dc",
        "colab": {
          "base_uri": "https://localhost:8080/"
        }
      },
      "execution_count": null,
      "outputs": [
        {
          "output_type": "execute_result",
          "data": {
            "text/plain": [
              "{'member_1': {'name': 'Ben Kanobi',\n",
              "  'occupation': 'Retired General',\n",
              "  'likes': ['convincing authorities to look the other way',\n",
              "   'building lightsabers',\n",
              "   'fighting evil'],\n",
              "  'goals': 'undo past mistakes'},\n",
              " 'member_2': {'name': 'Luke Skywalker',\n",
              "  'occupation': 'Moisture Farmer',\n",
              "  'likes': ['going into town', 'working on droids', 'driving a land speeder'],\n",
              "  'goals': 'getting off the farm'},\n",
              " 'member_3': {'name': 'C3P0',\n",
              "  'occupation': 'Protocol Droid',\n",
              "  'likes': ['order and stability', 'hot oil baths for squeaky joints'],\n",
              "  'goals': 'keeping R2 from getting into trouble'},\n",
              " 'member_4': {'name': 'R2D2',\n",
              "  'occupation': 'Astromech Droid',\n",
              "  'likes': ['getting into trouble', 'hacking into Imperial computers'],\n",
              "  'goals': 'bringing help to the princess'},\n",
              " 'member_5': {'name': 'Han Solo',\n",
              "  'occupation': 'Smuggler',\n",
              "  'likes': ['danger and adventure',\n",
              "   'making money',\n",
              "   'flying through asteroid fields'],\n",
              "  'goals': 'keeping one step ahead of the Empire'},\n",
              " 'member_6': {'name': 'Chewbacca',\n",
              "  'occupation': 'Smuggler',\n",
              "  'likes': ['holo chess', 'sleeping in a hammock', 'warm tropical beaches'],\n",
              "  'goals': 'keeping the Millennium Falcon flying'}}"
            ]
          },
          "metadata": {},
          "execution_count": 56
        }
      ]
    },
    {
      "cell_type": "code",
      "source": [
        "# Accessing lists inside dictionaries inside a dictionary\n",
        "for person_dict in rebel_alliance_club.values():\n",
        "    print(\"\\r\")\n",
        "    for category, information in person_dict.items():\n",
        "         if(isinstance(information, list)):\n",
        "             for item in information:\n",
        "                 print(f\"{category}: \")\n",
        "                 print(f\"\\t{item}\")\n",
        "         else:\n",
        "             print(f\"{category}: {information}\")"
      ],
      "metadata": {
        "id": "gea_2G7p55XB",
        "outputId": "5bbb7d4d-84ad-4806-b317-a7a9d25f375c",
        "colab": {
          "base_uri": "https://localhost:8080/"
        }
      },
      "execution_count": null,
      "outputs": [
        {
          "output_type": "stream",
          "name": "stdout",
          "text": [
            "\r\n",
            "name: Ben Kanobi\n",
            "occupation: Retired General\n",
            "likes: \n",
            "\tconvincing authorities to look the other way\n",
            "likes: \n",
            "\tbuilding lightsabers\n",
            "likes: \n",
            "\tfighting evil\n",
            "goals: undo past mistakes\n",
            "\r\n",
            "name: Luke Skywalker\n",
            "occupation: Moisture Farmer\n",
            "likes: \n",
            "\tgoing into town\n",
            "likes: \n",
            "\tworking on droids\n",
            "likes: \n",
            "\tdriving a land speeder\n",
            "goals: getting off the farm\n",
            "\r\n",
            "name: C3P0\n",
            "occupation: Protocol Droid\n",
            "likes: \n",
            "\torder and stability\n",
            "likes: \n",
            "\thot oil baths for squeaky joints\n",
            "goals: keeping R2 from getting into trouble\n",
            "\r\n",
            "name: R2D2\n",
            "occupation: Astromech Droid\n",
            "likes: \n",
            "\tgetting into trouble\n",
            "likes: \n",
            "\thacking into Imperial computers\n",
            "goals: bringing help to the princess\n",
            "\r\n",
            "name: Han Solo\n",
            "occupation: Smuggler\n",
            "likes: \n",
            "\tdanger and adventure\n",
            "likes: \n",
            "\tmaking money\n",
            "likes: \n",
            "\tflying through asteroid fields\n",
            "goals: keeping one step ahead of the Empire\n",
            "\r\n",
            "name: Chewbacca\n",
            "occupation: Smuggler\n",
            "likes: \n",
            "\tholo chess\n",
            "likes: \n",
            "\tsleeping in a hammock\n",
            "likes: \n",
            "\twarm tropical beaches\n",
            "goals: keeping the Millennium Falcon flying\n"
          ]
        }
      ]
    },
    {
      "cell_type": "markdown",
      "source": [
        "**Notice** The .isinstance() method allows us to test for a specific data type (in this case, a list). If we encounter it, we can take a specific action. This allows us to handle instances in our dictionary in which we have a list as well as those in which we do not."
      ],
      "metadata": {
        "id": "3RmbjA5K6w5u"
      }
    },
    {
      "cell_type": "code",
      "source": [
        "# Creating a rival \"club\"\n",
        "empire_club = {\"member_1\":\n",
        "{\"name\": \"Darth Vader\",\n",
        "    \"occupation\": \"Sith Lord\",\n",
        "    \"likes\": ['choking people with the force', 'crushing rebellions', 'flying TIE fighters'],\n",
        "    \"goals\": \"get revenge, so much revenge\"},\n",
        "    \"member_2\":\n",
        "    {\"name\": \"Emperor Palpatine\",\n",
        "    \"occupation\": \"Despot\",\n",
        "    \"likes\": ['luring people to the dark side', 'ruling the empire with force', 'building death stars'],\n",
        "    \"goals\": \"control everything and everyone\"},\n",
        "    \"member_3\":\n",
        "    {\"name\": \"Wilhuff Tarkin\",\n",
        "    \"occupation\": \"Commander of the Death Star\",\n",
        "    \"likes\": \"order and discipline\",\n",
        "    \"goals\": \"destroy the rebels\"},\n",
        "    \"member_4\":\n",
        "    {\"name\": \"Boba Fett\",\n",
        "    \"occupation\": \"Bounty Hunter\",\n",
        "    \"likes\": \"the hunt\",\n",
        "    \"goals\": \"become a legend\"},\n",
        "    \"member_5\":\n",
        "    {\"name\": \"Jabba the Hut\",\n",
        "    \"occupation\": \"Crime Boss\",\n",
        "    \"likes\": [\"money\", \"throwing enemies in the Rancor Pit\", \"rigging Pod races\"],\n",
        "    \"goals\": \"build a criminal empire\"}\n",
        "    }\n",
        "empire_club"
      ],
      "metadata": {
        "id": "3f-j7IrX7Jg8",
        "outputId": "fcce8ae5-9105-4281-97ff-d404bf060a66",
        "colab": {
          "base_uri": "https://localhost:8080/"
        }
      },
      "execution_count": null,
      "outputs": [
        {
          "output_type": "execute_result",
          "data": {
            "text/plain": [
              "{'member_1': {'name': 'Darth Vader',\n",
              "  'occupation': 'Sith Lord',\n",
              "  'likes': ['choking people with the force',\n",
              "   'crushing rebellions',\n",
              "   'flying TIE fighters'],\n",
              "  'goals': 'get revenge, so much revenge'},\n",
              " 'member_2': {'name': 'Emperor Palpatine',\n",
              "  'occupation': 'Despot',\n",
              "  'likes': ['luring people to the dark side',\n",
              "   'ruling the empire with force',\n",
              "   'building death stars'],\n",
              "  'goals': 'control everything and everyone'},\n",
              " 'member_3': {'name': 'Wilhuff Tarkin',\n",
              "  'occupation': 'Commander of the Death Star',\n",
              "  'likes': 'order and discipline',\n",
              "  'goals': 'destroy the rebels'},\n",
              " 'member_4': {'name': 'Boba Fett',\n",
              "  'occupation': 'Bounty Hunter',\n",
              "  'likes': 'the hunt',\n",
              "  'goals': 'become a legend'},\n",
              " 'member_5': {'name': 'Jabba the Hut',\n",
              "  'occupation': 'Crime Boss',\n",
              "  'likes': ['money',\n",
              "   'throwing enemies in the Rancor Pit',\n",
              "   'rigging Pod races'],\n",
              "  'goals': 'build a criminal empire'}}"
            ]
          },
          "metadata": {},
          "execution_count": 58
        }
      ]
    },
    {
      "cell_type": "code",
      "source": [
        "# Create a list of dictionaries with dictionaries with lists\n",
        "good_v_evil = [rebel_alliance_club, empire_club]\n",
        "good_v_evil"
      ],
      "metadata": {
        "id": "g2IqAJ4p7i1z",
        "outputId": "641d2750-360e-4f94-f310-199e15aff41a",
        "colab": {
          "base_uri": "https://localhost:8080/"
        }
      },
      "execution_count": null,
      "outputs": [
        {
          "output_type": "execute_result",
          "data": {
            "text/plain": [
              "[{'member_1': {'name': 'Ben Kanobi',\n",
              "   'occupation': 'Retired General',\n",
              "   'likes': ['convincing authorities to look the other way',\n",
              "    'building lightsabers',\n",
              "    'fighting evil'],\n",
              "   'goals': 'undo past mistakes'},\n",
              "  'member_2': {'name': 'Luke Skywalker',\n",
              "   'occupation': 'Moisture Farmer',\n",
              "   'likes': ['going into town', 'working on droids', 'driving a land speeder'],\n",
              "   'goals': 'getting off the farm'},\n",
              "  'member_3': {'name': 'C3P0',\n",
              "   'occupation': 'Protocol Droid',\n",
              "   'likes': ['order and stability', 'hot oil baths for squeaky joints'],\n",
              "   'goals': 'keeping R2 from getting into trouble'},\n",
              "  'member_4': {'name': 'R2D2',\n",
              "   'occupation': 'Astromech Droid',\n",
              "   'likes': ['getting into trouble', 'hacking into Imperial computers'],\n",
              "   'goals': 'bringing help to the princess'},\n",
              "  'member_5': {'name': 'Han Solo',\n",
              "   'occupation': 'Smuggler',\n",
              "   'likes': ['danger and adventure',\n",
              "    'making money',\n",
              "    'flying through asteroid fields'],\n",
              "   'goals': 'keeping one step ahead of the Empire'},\n",
              "  'member_6': {'name': 'Chewbacca',\n",
              "   'occupation': 'Smuggler',\n",
              "   'likes': ['holo chess', 'sleeping in a hammock', 'warm tropical beaches'],\n",
              "   'goals': 'keeping the Millennium Falcon flying'}},\n",
              " {'member_1': {'name': 'Darth Vader',\n",
              "   'occupation': 'Sith Lord',\n",
              "   'likes': ['choking people with the force',\n",
              "    'crushing rebellions',\n",
              "    'flying TIE fighters'],\n",
              "   'goals': 'get revenge, so much revenge'},\n",
              "  'member_2': {'name': 'Emperor Palpatine',\n",
              "   'occupation': 'Despot',\n",
              "   'likes': ['luring people to the dark side',\n",
              "    'ruling the empire with force',\n",
              "    'building death stars'],\n",
              "   'goals': 'control everything and everyone'},\n",
              "  'member_3': {'name': 'Wilhuff Tarkin',\n",
              "   'occupation': 'Commander of the Death Star',\n",
              "   'likes': 'order and discipline',\n",
              "   'goals': 'destroy the rebels'},\n",
              "  'member_4': {'name': 'Boba Fett',\n",
              "   'occupation': 'Bounty Hunter',\n",
              "   'likes': 'the hunt',\n",
              "   'goals': 'become a legend'},\n",
              "  'member_5': {'name': 'Jabba the Hut',\n",
              "   'occupation': 'Crime Boss',\n",
              "   'likes': ['money',\n",
              "    'throwing enemies in the Rancor Pit',\n",
              "    'rigging Pod races'],\n",
              "   'goals': 'build a criminal empire'}}]"
            ]
          },
          "metadata": {},
          "execution_count": 59
        }
      ]
    },
    {
      "cell_type": "markdown",
      "source": [
        "**Notice**, this structure ends up being a list with a dictionary that contains multiple dictionaries, some of which contain a list. We can iterate over this structure, it is just a bit more complicated."
      ],
      "metadata": {
        "id": "RVJL1dWO70E8"
      }
    },
    {
      "cell_type": "code",
      "source": [
        "for item in good_v_evil:\n",
        "    for club_dict in item.values():\n",
        "        print(\"\\r\")\n",
        "        for category, information in club_dict.items():\n",
        "            if(isinstance(information, list)):\n",
        "                for item in information:\n",
        "                    print(f\"{category}: \")\n",
        "                    print(f\"\\t{item}\")\n",
        "            else:\n",
        "                print(f\"{category}: {information}\")"
      ],
      "metadata": {
        "id": "i3iqlffP8PJZ",
        "outputId": "d76e8cb3-7d79-4aab-f36f-c07ca9bc90f9",
        "colab": {
          "base_uri": "https://localhost:8080/"
        }
      },
      "execution_count": null,
      "outputs": [
        {
          "output_type": "stream",
          "name": "stdout",
          "text": [
            "\n",
            "name: Ben Kanobi\n",
            "occupation: Retired General\n",
            "likes: \n",
            "\tconvincing authorities to look the other way\n",
            "likes: \n",
            "\tbuilding lightsabers\n",
            "likes: \n",
            "\tfighting evil\n",
            "goals: undo past mistakes\n",
            "\n",
            "name: Luke Skywalker\n",
            "occupation: Moisture Farmer\n",
            "likes: \n",
            "\tgoing into town\n",
            "likes: \n",
            "\tworking on droids\n",
            "likes: \n",
            "\tdriving a land speeder\n",
            "goals: getting off the farm\n",
            "\n",
            "name: C3P0\n",
            "occupation: Protocol Droid\n",
            "likes: \n",
            "\torder and stability\n",
            "likes: \n",
            "\thot oil baths for squeaky joints\n",
            "goals: keeping R2 from getting into trouble\n",
            "\n",
            "name: R2D2\n",
            "occupation: Astromech Droid\n",
            "likes: \n",
            "\tgetting into trouble\n",
            "likes: \n",
            "\thacking into Imperial computers\n",
            "goals: bringing help to the princess\n",
            "\n",
            "name: Han Solo\n",
            "occupation: Smuggler\n",
            "likes: \n",
            "\tdanger and adventure\n",
            "likes: \n",
            "\tmaking money\n",
            "likes: \n",
            "\tflying through asteroid fields\n",
            "goals: keeping one step ahead of the Empire\n",
            "\n",
            "name: Chewbacca\n",
            "occupation: Smuggler\n",
            "likes: \n",
            "\tholo chess\n",
            "likes: \n",
            "\tsleeping in a hammock\n",
            "likes: \n",
            "\twarm tropical beaches\n",
            "goals: keeping the Millennium Falcon flying\n",
            "\n",
            "name: Darth Vader\n",
            "occupation: Sith Lord\n",
            "likes: \n",
            "\tchoking people with the force\n",
            "likes: \n",
            "\tcrushing rebellions\n",
            "likes: \n",
            "\tflying TIE fighters\n",
            "goals: get revenge, so much revenge\n",
            "\n",
            "name: Emperor Palpatine\n",
            "occupation: Despot\n",
            "likes: \n",
            "\tluring people to the dark side\n",
            "likes: \n",
            "\truling the empire with force\n",
            "likes: \n",
            "\tbuilding death stars\n",
            "goals: control everything and everyone\n",
            "\n",
            "name: Wilhuff Tarkin\n",
            "occupation: Commander of the Death Star\n",
            "likes: order and discipline\n",
            "goals: destroy the rebels\n",
            "\n",
            "name: Boba Fett\n",
            "occupation: Bounty Hunter\n",
            "likes: the hunt\n",
            "goals: become a legend\n",
            "\n",
            "name: Jabba the Hut\n",
            "occupation: Crime Boss\n",
            "likes: \n",
            "\tmoney\n",
            "likes: \n",
            "\tthrowing enemies in the Rancor Pit\n",
            "likes: \n",
            "\trigging Pod races\n",
            "goals: build a criminal empire\n"
          ]
        }
      ]
    },
    {
      "cell_type": "markdown",
      "source": [
        "####Try it yourself: \n",
        "Create a simple dictionary (key/value pair only). Access the value using one of the methods we’ve discussed and print only the value using an f string. Do the same thing but only access the keys and print them. Challenge yourself by creating a dictionary with a dictionary in it (keep it simple) and then traverse the inner dictionary to get its values. Take ten minutes to give this a try. We'll check in to see what you have."
      ],
      "metadata": {
        "id": "clu54nlk8die"
      }
    }
  ]
}