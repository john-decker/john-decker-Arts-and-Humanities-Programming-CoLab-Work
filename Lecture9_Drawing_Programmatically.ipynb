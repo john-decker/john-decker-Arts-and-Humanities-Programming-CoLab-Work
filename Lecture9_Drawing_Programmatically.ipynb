{
  "cells": [
    {
      "cell_type": "markdown",
      "metadata": {
        "id": "view-in-github",
        "colab_type": "text"
      },
      "source": [
        "<a href=\"https://colab.research.google.com/github/john-decker/john-decker-Arts-and-Humanities-Programming-CoLab-Work/blob/main/Lecture9_Drawing_Programmatically.ipynb\" target=\"_parent\"><img src=\"https://colab.research.google.com/assets/colab-badge.svg\" alt=\"Open In Colab\"/></a>"
      ]
    },
    {
      "cell_type": "code",
      "execution_count": null,
      "metadata": {
        "colab": {
          "base_uri": "https://localhost:8080/"
        },
        "id": "tlzGh3pp41c3",
        "outputId": "da888a8b-edbb-4d78-cc21-031581e4fbd8"
      },
      "outputs": [
        {
          "output_type": "stream",
          "name": "stdout",
          "text": [
            "Looking in indexes: https://pypi.org/simple, https://us-python.pkg.dev/colab-wheels/public/simple/\n",
            "Collecting ColabTurtlePlus\n",
            "  Downloading ColabTurtlePlus-2.0.1-py3-none-any.whl (31 kB)\n",
            "Installing collected packages: ColabTurtlePlus\n",
            "Successfully installed ColabTurtlePlus-2.0.1\n"
          ]
        }
      ],
      "source": [
        "# doumentation @ https://docs.python.org/3/library/turtle.html#methods-of-turtlescreen-screen-and-corresponding-functions\n",
        "# it is necesary to do an install of turtle for colab\n",
        "# see: https://www.youtube.com/watch?v=DSAERrcgN88\n",
        "# !pip install colabturtle\n",
        "!pip install ColabTurtlePlus"
      ]
    },
    {
      "cell_type": "markdown",
      "metadata": {
        "id": "tb2MJnHqj38S"
      },
      "source": [
        "#Turtle Power!\n",
        "Turtle allows you to draw programmatically.\n",
        "\n",
        "**Things to remember** \n",
        "+ Default background color is white\n",
        "+ Default pen color is black\n",
        "+ Default pen size is 1\n",
        "+ Default shape is classic\n",
        "+ Default window size is 800x600\n",
        "+ Default mode is standard:\n",
        "++ center of window has coordinates (0,0)\n",
        "++ initial turtle heading is to the right (east)\n",
        "++ positive angles are measured counterclockwise with 0° pointing right (i.e. unit circle approach)\n"
      ]
    },
    {
      "cell_type": "code",
      "execution_count": null,
      "metadata": {
        "id": "tr77r649hZjz"
      },
      "outputs": [],
      "source": [
        "#import TurtlePlus\n",
        "from ColabTurtlePlus.Turtle import *\n",
        "#use clearscreen() to re-run commands in the cell\n",
        "clearscreen()\n",
        "setup(800,800) #note: default is 800 x 600\n",
        "# bgcolor('black') #set background to black if so desired\n",
        "\n",
        "#initialize a Turtle object\n",
        "leonardo = Turtle()\n",
        "#set turtle object color\n",
        "leonardo.color((0,0,255)) #color is in RGB. Note: requires a tuple\n",
        "#set turtle object shape\n",
        "leonardo.shape('classic') #Possible shapes: Square, Arrow, Circle, Turtle, Triangle, Classic\n",
        "\n",
        "#basic commands part 1\n",
        "leonardo.forward(100)\n",
        "leonardo.left(90)\n",
        "leonardo.forward(100)"
      ]
    },
    {
      "cell_type": "code",
      "execution_count": null,
      "metadata": {
        "id": "ybufsKaPlfgw"
      },
      "outputs": [],
      "source": [
        "#basic commands part 2\n",
        "rafael = Turtle()\n",
        "rafael.color((255,0,0))\n",
        "rafael.back(100)\n",
        "rafael.right(45)\n",
        "rafael.forward(100)"
      ]
    },
    {
      "cell_type": "code",
      "execution_count": null,
      "metadata": {
        "id": "iFLGk-6loiEi"
      },
      "outputs": [],
      "source": [
        "#basic commands part 3\n",
        "michelangelo = Turtle()\n",
        "michelangelo.color((255,174,66))\n",
        "michelangelo.penup()\n",
        "michelangelo.forward(100)\n",
        "michelangelo.right(90)\n",
        "michelangelo.pendown()\n",
        "michelangelo.forward(100)\n",
        "michelangelo.left(120)\n",
        "michelangelo.forward(100)"
      ]
    },
    {
      "cell_type": "code",
      "execution_count": null,
      "metadata": {
        "id": "lY_-U1l3qBDh"
      },
      "outputs": [],
      "source": [
        "#basic commands part 4\n",
        "donatello = Turtle()\n",
        "donatello.color('purple')\n",
        "donatello.left(120)\n",
        "donatello.pensize(3)\n",
        "donatello.forward(100)\n",
        "donatello.right(70)\n",
        "donatello.hideturtle()\n",
        "donatello.write(\"Turtle Power!\", align=\"center\",font=('Arial', 12, 'normal'))\n",
        "donatello.jumpto(0,0) #move turtle to a new location directly by specifying x, y coordinates\n",
        "donatello.showturtle()\n"
      ]
    },
    {
      "cell_type": "code",
      "execution_count": null,
      "metadata": {
        "id": "yEN-pXA5s4AA"
      },
      "outputs": [],
      "source": [
        "#reset all turtles -- returns them to 0,0 and rests them to default color and shape\n",
        "leonardo.reset()\n",
        "rafael.reset()\n",
        "michelangelo.reset()\n",
        "donatello.reset()"
      ]
    },
    {
      "cell_type": "code",
      "execution_count": null,
      "metadata": {
        "id": "DK-W9XBo2DmA"
      },
      "outputs": [],
      "source": [
        "#re-establish colors for turtle objects\n",
        "leonardo.color((0,0,255))\n",
        "rafael.color((255,0,0))\n",
        "michelangelo.color((255,174,66))\n",
        "donatello.color('purple')"
      ]
    },
    {
      "cell_type": "code",
      "execution_count": null,
      "metadata": {
        "id": "tUP8au611oI3"
      },
      "outputs": [],
      "source": [
        "#handling basic shapes\n",
        "\n",
        "#square\n",
        "for i in range(4):\n",
        "  leonardo.forward(100)\n",
        "  leonardo.left(90)"
      ]
    },
    {
      "cell_type": "code",
      "execution_count": null,
      "metadata": {
        "id": "TDQIuGo6cSfj"
      },
      "outputs": [],
      "source": [
        "#clear turtle\n",
        "leonardo.clear()"
      ]
    },
    {
      "cell_type": "code",
      "execution_count": null,
      "metadata": {
        "id": "i1kKxvSj24CO"
      },
      "outputs": [],
      "source": [
        "#create a function to draw a square for use by all turlte objects\n",
        "#uses iteration to decrease the amount of code required for multiple turtles\n",
        "def draw_square(turtle_object, side_length):\n",
        "  for i in range(4):\n",
        "    turtle_object.forward(side_length)\n",
        "    turtle_object.left(90)"
      ]
    },
    {
      "cell_type": "code",
      "execution_count": null,
      "metadata": {
        "id": "LOnVZl3U3Ws2"
      },
      "outputs": [],
      "source": [
        "#draw squares using function\n",
        "draw_square(michelangelo, 100)"
      ]
    },
    {
      "cell_type": "code",
      "execution_count": null,
      "metadata": {
        "id": "wkimnp5o3dYP"
      },
      "outputs": [],
      "source": [
        "donatello.jumpto(50,0)\n",
        "draw_square(donatello, 100)"
      ]
    },
    {
      "cell_type": "code",
      "execution_count": null,
      "metadata": {
        "id": "381jda7Y3o6P"
      },
      "outputs": [],
      "source": [
        "rafael.jumpto(100,0)\n",
        "draw_square(rafael, 100)"
      ]
    },
    {
      "cell_type": "code",
      "execution_count": null,
      "metadata": {
        "id": "Y8Lh0qgQ4sH8"
      },
      "outputs": [],
      "source": [
        "#create clear function to streamline the process\n",
        "def clear_turtles(turtle_list):\n",
        "  for turtle_object in turtle_list:\n",
        "    turtle_object.clear()\n",
        "    turtle_object.jumpto(0,0)"
      ]
    },
    {
      "cell_type": "code",
      "execution_count": null,
      "metadata": {
        "id": "MmpshDF85VXr"
      },
      "outputs": [],
      "source": [
        "#create turtle list for function\n",
        "my_turtles = [leonardo, rafael, michelangelo, donatello]\n",
        "\n",
        "clear_turtles(my_turtles)"
      ]
    },
    {
      "cell_type": "code",
      "execution_count": null,
      "metadata": {
        "id": "kHQZUMam6pnE"
      },
      "outputs": [],
      "source": [
        "#draw a triangle\n",
        "for i in range(3):\n",
        "  leonardo.forward(50)\n",
        "  leonardo.left(360/3) #note this will give you the exterior angle, which is what is needed rather than the interior angle"
      ]
    },
    {
      "cell_type": "code",
      "execution_count": null,
      "metadata": {
        "id": "uLMtP8g0dOka"
      },
      "outputs": [],
      "source": [
        "leonardo.clear()"
      ]
    },
    {
      "cell_type": "code",
      "execution_count": null,
      "metadata": {
        "id": "QugpnX-z7Kmq"
      },
      "outputs": [],
      "source": [
        "#generalize for polygons\n",
        "def draw_polygon(turtle_obj, side_number, side_length):\n",
        "\tfor side in range(side_number):\n",
        "\t\tturtle_obj.fd(side_length)\n",
        "\t\tturtle_obj.lt(360/side_number)"
      ]
    },
    {
      "cell_type": "code",
      "execution_count": null,
      "metadata": {
        "id": "WS5YAuwg7nVp"
      },
      "outputs": [],
      "source": [
        "#use function to draw polygons with multile turtles\n",
        "draw_polygon(rafael,5,75)"
      ]
    },
    {
      "cell_type": "code",
      "execution_count": null,
      "metadata": {
        "id": "vUjv-_i77yHy"
      },
      "outputs": [],
      "source": [
        "michelangelo.jumpto(80,0)\n",
        "draw_polygon(michelangelo, 6, 60)"
      ]
    },
    {
      "cell_type": "code",
      "execution_count": null,
      "metadata": {
        "id": "ILM0w4X48AUV"
      },
      "outputs": [],
      "source": [
        "leonardo.jumpto(150, 0)\n",
        "draw_polygon(leonardo,7, 50)"
      ]
    },
    {
      "cell_type": "code",
      "execution_count": null,
      "metadata": {
        "id": "cQCZnYNA_1CZ"
      },
      "outputs": [],
      "source": [
        "#clear screen\n",
        "clear_turtles(my_turtles)"
      ]
    },
    {
      "cell_type": "code",
      "execution_count": null,
      "metadata": {
        "id": "6lEOcyJGGLkp"
      },
      "outputs": [],
      "source": [
        "#make it possible to draw a mirror image\n",
        "def draw_polygon_reverse(turtle_obj, side_number, side_length):\n",
        "\tfor side in range(side_number):\n",
        "\t\tturtle_obj.fd(side_length)\n",
        "\t\tturtle_obj.rt(360/side_number)"
      ]
    },
    {
      "cell_type": "code",
      "execution_count": null,
      "metadata": {
        "id": "zFs5wGAdGWhR"
      },
      "outputs": [],
      "source": [
        "draw_polygon(leonardo, 5, 100)\n",
        "draw_polygon_reverse(michelangelo, 5, 100)"
      ]
    },
    {
      "cell_type": "code",
      "execution_count": null,
      "metadata": {
        "id": "GvAYIsfmHOz1"
      },
      "outputs": [],
      "source": [
        "#use begin_fill() and end_fill() methods\n",
        "rafael.jumpto(50,50)\n",
        "rafael.rt(90)\n",
        "rafael.begin_fill()\n",
        "draw_polygon(rafael,8,80)\n",
        "rafael.end_fill()\n",
        "donatello.jumpto(50,50)\n",
        "donatello.rt(90)\n",
        "donatello.begin_fill()\n",
        "draw_polygon_reverse(donatello,8,80)\n",
        "donatello.end_fill()"
      ]
    },
    {
      "cell_type": "code",
      "execution_count": null,
      "metadata": {
        "id": "LZ7IDqcILSsO"
      },
      "outputs": [],
      "source": [
        "#clear and return to original orientation\n",
        "clear_turtles(my_turtles)\n",
        "rafael.lt(90)#return to original orientation\n",
        "donatello.lt(90)#return to original orientation"
      ]
    },
    {
      "cell_type": "code",
      "execution_count": null,
      "metadata": {
        "id": "KjhZaUhhoUf9"
      },
      "outputs": [],
      "source": [
        "#add to our tools with a circle function\n",
        "#function leverages our polygon tool by treating a circle as a polygon of numerous sides of very short length\n",
        "def draw_circle(turtle_obj, radius):\n",
        "  from math import pi as pi\n",
        "  circumference = 2*pi*radius\n",
        "  sides = int(circumference/3)+3 #decreases the number of sides for speed while still maintaining acceptable precision\n",
        "  length = circumference/sides\n",
        "  draw_polygon(turtle_obj, sides, length)"
      ]
    },
    {
      "cell_type": "code",
      "execution_count": null,
      "metadata": {
        "colab": {
          "base_uri": "https://localhost:8080/"
        },
        "id": "YpNlsJbDpbv1",
        "outputId": "3bba7657-3e9a-47c0-fdec-17db8802a5e0"
      },
      "outputs": [
        {
          "name": "stdout",
          "output_type": "stream",
          "text": [
            "sides: 628 | length: 1.0005072145190423\n",
            "revised_sides: 212.43951023931956 | revised length: 6.0/\n"
          ]
        }
      ],
      "source": [
        "radius = 100\n",
        "circumference = 2*math.pi*radius\n",
        "sides = int(circumference)\n",
        "length = circumference/sides\n",
        "\n",
        "print(f'sides: {sides} | length: {length}')\n",
        "print(f'revised_sides: {(circumference/3)+3} | revised length: {circumference/(circumference/3)+3}/')"
      ]
    },
    {
      "cell_type": "code",
      "execution_count": null,
      "metadata": {
        "id": "mk3CwGHfo9A8"
      },
      "outputs": [],
      "source": [
        "#used function to draw circles with multiple turtles\n",
        "leonardo.jumpto(-50,0)\n",
        "draw_circle(leonardo, 100)\n",
        "donatello.jumpto(50,0)\n",
        "draw_circle(donatello, 100)"
      ]
    },
    {
      "cell_type": "code",
      "execution_count": null,
      "metadata": {
        "id": "O3II9VpvTn18"
      },
      "outputs": [],
      "source": [
        "clear_turtles(my_turtles)\n"
      ]
    },
    {
      "cell_type": "code",
      "execution_count": null,
      "metadata": {
        "id": "uaQ3zgs1Kj5t"
      },
      "outputs": [],
      "source": [
        "#draw only an arc instead of an entire circle\n",
        "#useful for adding curved elements\n",
        "def draw_arc(turtle_obj, radius, start_angle):\n",
        "  from math import pi as pi\n",
        "  arc_length = 2*pi*radius*start_angle/360 #determines how much of the circle to draw\n",
        "  sides = int(arc_length/3)+1 #adjusts the number of segments for better speed\n",
        "  step_length = arc_length/sides #tells the turtle how far forward to go\n",
        "  step_angle = start_angle/sides #tells the turtle how much to turn after each step\n",
        "  \n",
        "  for i in range(sides):\n",
        "    turtle_obj.fd(step_length)\n",
        "    turtle_obj.lt(step_angle)"
      ]
    },
    {
      "cell_type": "code",
      "execution_count": null,
      "metadata": {
        "id": "lyq5uJRmKpWv"
      },
      "outputs": [],
      "source": [
        "draw_arc(donatello, 300, 37)\n",
        "draw_arc(michelangelo, 100, 60)\n",
        "draw_arc(rafael, 200, 90)"
      ]
    },
    {
      "cell_type": "code",
      "source": [
        "clear_turtles(my_turtles)"
      ],
      "metadata": {
        "id": "VR4wtmOx4fI5"
      },
      "execution_count": null,
      "outputs": []
    },
    {
      "cell_type": "code",
      "source": [
        "#if you'd prefer, however, you can just use the Turtle function .circle() to draw circles or arcs\n",
        "leonardo.circle(200)\n",
        "draw_circle(rafael, 150)\n",
        "michelangelo.circle(100, 50)\n",
        "draw_arc(donatello, 100, 50)"
      ],
      "metadata": {
        "id": "CxoSnI383xoB"
      },
      "execution_count": null,
      "outputs": []
    },
    {
      "cell_type": "code",
      "execution_count": null,
      "metadata": {
        "id": "k-rAMkAgMMla"
      },
      "outputs": [],
      "source": [
        "clear_turtles(my_turtles)"
      ]
    },
    {
      "cell_type": "code",
      "execution_count": null,
      "metadata": {
        "id": "0Oa-qGdLRhbX"
      },
      "outputs": [],
      "source": [
        "#the turtles are turned at various directions, let's reset everyting\n",
        "def full_reset_turtles(turtle_list, color_list):\n",
        "  for turtle_object in turtle_list:\n",
        "    turtle_object.reset()\n",
        "    turtle_object.jumpto(0,0)\n",
        "  for index, value in enumerate(turtle_list):\n",
        "    turtle_list[index].color(color_list[index])\n",
        "\n",
        "turtle_colors = [(0,0,255),(255,0,0),(255,174,66), 'purple']\n",
        "full_reset_turtles(my_turtles, turtle_colors)"
      ]
    },
    {
      "cell_type": "code",
      "execution_count": null,
      "metadata": {
        "id": "O-kiQPAscmDO"
      },
      "outputs": [],
      "source": [
        "def draw_star(turtle_object, side_length):\n",
        "\tfor i in range(5):\n",
        "\t\tturtle_object.forward(side_length)\n",
        "\t\tturtle_object.right(144)"
      ]
    },
    {
      "cell_type": "code",
      "execution_count": null,
      "metadata": {
        "id": "JJy8dKdbculo"
      },
      "outputs": [],
      "source": [
        "#usw function to draw a star\n",
        "draw_star(rafael, 150)"
      ]
    },
    {
      "cell_type": "code",
      "execution_count": null,
      "metadata": {
        "id": "_I9VuwtSdFLW"
      },
      "outputs": [],
      "source": [
        "clear_turtles(my_turtles)\n"
      ]
    },
    {
      "cell_type": "code",
      "execution_count": null,
      "metadata": {
        "id": "_CxX62y8M3Gp"
      },
      "outputs": [],
      "source": [
        "#draw a line of 4 stars\n",
        "start_x = 0\n",
        "start_y = 50\n",
        "end = 0\n",
        "side_length = 100\n",
        "donatello.jumpto((start_x, start_y))\n",
        "for i in range(4):\n",
        "  draw_star(donatello, side_length)\n",
        "  end += side_length \n",
        "  donatello.jumpto((end, start_y))\n"
      ]
    },
    {
      "cell_type": "code",
      "execution_count": null,
      "metadata": {
        "id": "5V7pBgK3R3CB"
      },
      "outputs": [],
      "source": [
        "clear_turtles(my_turtles)"
      ]
    },
    {
      "cell_type": "code",
      "execution_count": null,
      "metadata": {
        "id": "zFz_1xY9dPV6"
      },
      "outputs": [],
      "source": [
        "# draw a spiral of stars\n",
        "iteration_number = 30\n",
        "right_turn = 5\n",
        "side_length = 5\n",
        "my_turtle = leonardo\n",
        "for j in range(iteration_number):\n",
        "\tdraw_star(my_turtle, side_length)\n",
        "\tmy_turtle.right(right_turn)\n",
        "\tside_length += 5"
      ]
    },
    {
      "cell_type": "code",
      "execution_count": null,
      "metadata": {
        "id": "OgqnITBfbG4U"
      },
      "outputs": [],
      "source": [
        "full_reset_turtles(my_turtles, turtle_colors)"
      ]
    },
    {
      "cell_type": "code",
      "execution_count": null,
      "metadata": {
        "id": "EGmpxsaTkKlP"
      },
      "outputs": [],
      "source": [
        "def ant_trails(turtle_obj, cycles):\n",
        "\n",
        "  '''\n",
        "  This function creates random paths for a turtle object and records the data\n",
        "  in a diction, which it returns. The function also outputs turtle data to the screen\n",
        "\n",
        "  input: turtle object, integer value for the number of cycles to create x, y data\n",
        "  output: dictionary of x,y values, position values, heading values\n",
        "  '''\n",
        "  from random import randint as rando\n",
        "  \n",
        "  #initialize empty lists\n",
        "  x_steps_list = []\n",
        "  y_steps_list = []\n",
        "  full_steps_list = []\n",
        "  x_y_list = []\n",
        "  direction_list = []\n",
        "\n",
        "  #initialize dictionary to receive data\n",
        "  telemetry_dict = {\n",
        "      'full_steps': '',\n",
        "      'x_y_coords' : '',\n",
        "      'direction': '',\n",
        "      }\n",
        "\n",
        "  #create list of step numbers for x and y directions\n",
        "  for i in range(cycles):\n",
        "    telemetry_dict_list = []\n",
        "    x_step = rando(-20,20)\n",
        "    y_step = rando(-60,60)\n",
        "    x_steps_list.append(x_step)\n",
        "    y_steps_list.append(y_step)\n",
        "\n",
        "\n",
        "  #iterate over step list\n",
        "  for j in range(cycles):    \n",
        "    #set random x direction\n",
        "    start_direction = rando(-60,60)\n",
        "\n",
        "    #set and test for random y direction\n",
        "    turn_direction = rando(0,1)\n",
        "    if turn_direction == 1:\n",
        "      turtle_obj.rt(start_direction)\n",
        "    else:\n",
        "      turtle_obj.lt(start_direction)\n",
        "\n",
        "    #test to determine forward or back, up or down\n",
        "    if x_steps_list[j] >= 0:\n",
        "      turtle_obj.fd(x_steps_list[j])\n",
        "    else:\n",
        "      turtle_obj.bk(x_steps_list[j])\n",
        "    \n",
        "    if y_steps_list[j] >= 0:\n",
        "      turtle_obj.lt(y_steps_list[j])\n",
        "    else:\n",
        "      turtle_obj.rt(y_steps_list[j])\n",
        "\n",
        "    #put data in lists\n",
        "    x_y_list.append(turtle_obj.pos()) #gets a tuple of x,y coordinates\n",
        "    direction_list.append(turtle_obj.heading()) #get degree heading of turtle\n",
        "  \n",
        "  #get list of steps taken for journey\n",
        "  x_y_steps = zip(x_steps_list, y_steps_list)\n",
        "  full_steps_list.append(list(x_y_steps))\n",
        "\n",
        "  #populate dictionary\n",
        "  telemetry_dict['full_steps'] = full_steps_list\n",
        "  telemetry_dict['x_y_coords'] = x_y_list\n",
        "  telemetry_dict['direction'] = direction_list\n",
        "\n",
        "  return telemetry_dict  \n"
      ]
    },
    {
      "cell_type": "code",
      "execution_count": null,
      "metadata": {
        "id": "jFonZe0AkXlR"
      },
      "outputs": [],
      "source": [
        "#give each turtle a different pen size\n",
        "leonardo.pensize(2)\n",
        "rafael.pensize(3)\n",
        "michelangelo.pensize(2)\n",
        "donatello.pensize(3)\n",
        "\n",
        "#create trails\n",
        "leonardo_path = ant_trails(leonardo, 100)\n",
        "rafael_path = ant_trails(rafael, 100)\n",
        "michelangelo_path = ant_trails(michelangelo, 100)\n",
        "donatello_path = ant_trails(donatello, 100)\n",
        " \n",
        "draw_dict = {\n",
        "\t\"turtle_1\": leonardo_path,\n",
        "\t\"turtle_2\": rafael_path,\n",
        "\t\"turtle_3\": michelangelo_path,\n",
        "\t\"turtle_4\": donatello_path\n",
        "}"
      ]
    },
    {
      "cell_type": "code",
      "execution_count": null,
      "metadata": {
        "id": "JZ4zKv0amOdX"
      },
      "outputs": [],
      "source": [
        "for turtle, telem_dict in draw_dict.items():\n",
        "  print(turtle)\n",
        "  for category, data in telem_dict.items():\n",
        "    print(f'category: {category} data: {data}')\n",
        "\n",
        "# for key, data in draw_dict['turtle_3'].items():\n",
        "#   print(key, data)\n",
        "\n",
        " \n",
        " "
      ]
    },
    {
      "cell_type": "code",
      "source": [
        "#save data as json file\n",
        "import json\n",
        "with open('Turtle_Data.json', 'w') as json_object:\n",
        "  json.dump(draw_dict, json_object, indent=2)\n",
        "print(\"file written\")"
      ],
      "metadata": {
        "colab": {
          "base_uri": "https://localhost:8080/"
        },
        "id": "NHzi6TRcQskr",
        "outputId": "2687a08b-1419-4d53-96fd-4313644379a3"
      },
      "execution_count": null,
      "outputs": [
        {
          "output_type": "stream",
          "name": "stdout",
          "text": [
            "file written\n"
          ]
        }
      ]
    },
    {
      "cell_type": "code",
      "execution_count": null,
      "metadata": {
        "id": "8LMewAyeSp64"
      },
      "outputs": [],
      "source": [
        "#saving a drawing\n",
        "screen_obj = Screen() #first capture the data written to the screen\n",
        "print(screen_obj)\n",
        "# screen_obj.saveSVG('test_turtle.svg', False) #False tells save to not include the turtles"
      ]
    },
    {
      "cell_type": "code",
      "execution_count": null,
      "metadata": {
        "id": "bL-A8Et1bSok"
      },
      "outputs": [],
      "source": [
        "# def repeating_pattern(turtle_obj, start_angle, side_length_1, side_length_2):\n",
        "\n",
        "# \tturtle_obj.lt(start_angle)\n",
        "\n",
        "# \tfor iterations in range(4):\n",
        "# \t\tdraw_square(turtle_obj, side_length_1)\n",
        "# \t\tturtle_obj.lt(45)\n",
        "# \t\tdraw_square(turtle_obj, side_length_1)\n",
        "# \t\tturtle_obj.lt(45)\n",
        "\t\n",
        "# \tturtle_obj.bk(3)\n",
        "\t\n",
        "# \tdraw_polygon(turtle_obj, 30, side_length_2)\n",
        "# \tdraw_polygon_reverse(turtle_obj, 30, side_length_2)\n",
        "\t\n",
        "# \tturtle_obj.fd(2)\n",
        "# \tturtle_obj.lt(90)\n",
        "\n",
        "# \tdraw_polygon(turtle_obj, 30, side_length_2)\n",
        "# \tturtle_obj.bk(2)\n",
        "# \tdraw_polygon_reverse(turtle_obj, 30, side_length_2)"
      ]
    },
    {
      "cell_type": "code",
      "execution_count": null,
      "metadata": {
        "id": "hAlGEYu-bWV5"
      },
      "outputs": [],
      "source": [
        "# repeating_pattern(michelangelo, 3, 50, 7)\n",
        "# leonardo.jumpto(-150, 0)\n",
        "# repeating_pattern(leonardo, -10, 75, 10)"
      ]
    },
    {
      "cell_type": "code",
      "execution_count": null,
      "metadata": {
        "id": "VuXpPb6CcdfD"
      },
      "outputs": [],
      "source": [
        "# clear_turtles(my_turtles)"
      ]
    }
  ],
  "metadata": {
    "colab": {
      "provenance": [],
      "include_colab_link": true
    },
    "kernelspec": {
      "display_name": "Python 3",
      "name": "python3"
    },
    "language_info": {
      "name": "python"
    }
  },
  "nbformat": 4,
  "nbformat_minor": 0
}