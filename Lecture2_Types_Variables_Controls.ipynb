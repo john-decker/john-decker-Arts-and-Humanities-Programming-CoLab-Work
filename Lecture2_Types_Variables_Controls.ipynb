{
  "nbformat": 4,
  "nbformat_minor": 0,
  "metadata": {
    "colab": {
      "provenance": [],
      "collapsed_sections": [],
      "authorship_tag": "ABX9TyMXH9b49Jz65b+Cz53bScpc",
      "include_colab_link": true
    },
    "kernelspec": {
      "name": "python3",
      "display_name": "Python 3"
    },
    "language_info": {
      "name": "python"
    }
  },
  "cells": [
    {
      "cell_type": "markdown",
      "metadata": {
        "id": "view-in-github",
        "colab_type": "text"
      },
      "source": [
        "<a href=\"https://colab.research.google.com/github/john-decker/john-decker-Arts-and-Humanities-Programming-CoLab-Work/blob/main/Lecture2_Types_Variables_Controls.ipynb\" target=\"_parent\"><img src=\"https://colab.research.google.com/assets/colab-badge.svg\" alt=\"Open In Colab\"/></a>"
      ]
    },
    {
      "cell_type": "markdown",
      "source": [
        "##Data Types <br/>\n",
        "Programming languages support various data types. The most common in each langauge are often referred to as _primitive_ types because they are the most basic starting points. Python supports several:\n",
        "\n",
        "|Type       |   |   |   |Name                          | \n",
        "|:---       |---|---|---|:---                          |\n",
        "|Text       |   |   |   |str                           |   \n",
        "|Numeric    |   |   |   |int, float, complex           |   \n",
        "|Sequence   |   |   |   |list, tuple, range            |   \n",
        "|Mapping    |   |   |   |dict                          |  \n",
        "|Sets       |   |   |   |set, frozenset                | \n",
        "|Boolean    |   |   |   |bool                          | \n",
        "|Binary     |   |   |   |bytes, bytearray, memoryview  |\n",
        "|None.      |   |   |   |none                          | \n",
        "\n"
      ],
      "metadata": {
        "id": "SnVdJ4a3_33W"
      }
    },
    {
      "cell_type": "markdown",
      "source": [
        "The list, above, shows the various types you might encounter in Python. Below, is an explanation of the most common (at least for starting programmers):\n",
        "\n",
        "**String** <br/>\n",
        "supports the use of text. Each letter in a text string is called a character or char. In some languages (such as C, C++, and Java) you can allocate memory for strings down to the char level. Strings tend to be placed between double quotes “” though sometimes single quotes ‘’ can be used. Convention is to use double quotes so that you can use single quotes within a string as needed. Sometimes, in order to format a string, it will be necessary to use escape characters.\n",
        "\n",
        "**Integer**<br/>\n",
        "allows us to represent whole numbers (e.g. 4, 260, 90,000). In general, Python allocates 32 bits (4 bytes) for ints. This can accommodate numbers from -2,147,483,648 to 2,147,483,648. Or, for a non-negative range it can represent from 0 to 4,294,967,295. That said, Python 3 dynamically allocates memory and can assign from 8 bits to 64 bits as needed. The maximum representable int in Python depends on the amount of memory available in the particular system.\n",
        "\n",
        "**Floating Point Number** <br/>\n",
        "makes it possible to represent rational numbers (e.g. 1.2, 33/144, 156.7932435). Python allocates 64 bits (8 bytes) for floats. The maximum value for a float in Python is 1.797691348623157e+308 and the minimum is 2.2250738585072014e-308.\n",
        "\n",
        "Knowing that there are upper and lower limits on the numbers that can be represented is important. It reminds us that the machine is constrained by its own architecture and is not capable of infinitely modeling the universe. \n",
        "\n",
        "You should be aware that you can represent integers and floats as strings by placing them in double quotes “ ”.\n",
        "\n",
        "**Complex** <br/>\n",
        "contains both a real and an imaginary portion. The ability to use and calculate complex numbers is important for vector calculus, high-level physics, and trigonometry.\n",
        "\n",
        "**Boolean** <br/>\n",
        "represents “yes” or “no,” “true” or “false,” “on” or “off.” Boolean expressions and terms are valuable for handling certain types of logical tests for controlling a program.\n",
        "\n",
        "**None** <br/>\n",
        "represents a null value or no value at all. It is not defined as 0 or any other numeric value. It is not the same as  false, or the empty string. It returns nothing.\n"
      ],
      "metadata": {
        "id": "SmXfs_KWJFHd"
      }
    },
    {
      "cell_type": "markdown",
      "source": [
        "##Variables\n",
        "Variables are a means of storing information, retrieving that information, and working with/manipulating that information. A variable can be named anything, though in modern programming best practice suggests that the variable be descriptive, understandable, and meaningful. In Python, variables must begin with a letter and there can be no spaces in the name. \n",
        "\n",
        "|Example         || |Comments                                     |\n",
        "|:----           || |:----                                        |\n",
        "|myvariable      || |**acceptable** but hard to read              |\n",
        "|myVariable      || |this is called \"camel case\"                  |\n",
        "|my_New_Variable || |this is called \"snake case\"                  |\n",
        "|1Variable       || |**unacceptable**, cannot start with a number |\n",
        "|myvariable1     || |**accetable** numbers can be at the end      |\n",
        "|my Variable     || |**unacceptable**, cannot have spaces         |\n",
        "\n",
        "**Take note**<br/>\n",
        "It is possible to use an underscore at the end of a variable name (e.g. myVariable_) as well as at the beginning (e.g. _myVariable).<br/> \n",
        "* Puting an underscore at the end of a variable can be hard to see and may make it hard to troubleshoot (especially for typos). \n",
        "* Putting an undersore at the beginning will parse (i.e. it won't cause an error) but it is a convention that means something very specific in Python and you should avoid using it unless you know what that convention is."
      ],
      "metadata": {
        "id": "dz9g9wqSLwBJ"
      }
    },
    {
      "cell_type": "markdown",
      "source": [
        "##Reserved Words\n",
        "In addition to these restrictions on variables, there is another important limitation. Python has a few **reserved words** that _cannot_ be used as a variable name. These include: \n",
        "* in \n",
        "* and\n",
        "* not\n",
        "* for\n",
        "* if\n",
        "* else\n",
        "* true\n",
        "* false\n",
        "* none\n",
        "* not\n",
        "* return \n",
        "\n",
        "Be sure to familiarize yourself with the full list of reserved words. Fortunately, there are only around 32 words that are “off limits” for variables. This means that you have a lot of leeway when choosing variable names. "
      ],
      "metadata": {
        "id": "CKtohy1RX7FH"
      }
    },
    {
      "cell_type": "markdown",
      "source": [
        "##Good Style\n",
        "Python has a set of coding style guidelines for good, readable code. The Python Enhancement Proposal 8 (or [PEP8](https://peps.python.org/pep-0008/ \"Python Enhancement Proposal 8\")) is the go-to source for best practices in Python."
      ],
      "metadata": {
        "id": "BlZ8Br_ebYWb"
      }
    },
    {
      "cell_type": "markdown",
      "source": [
        "##Operators\n",
        "Python uses several basic operator for programming:\n",
        "* Assignment\n",
        "* Equality\n",
        "* Basic Mathematics\n",
        "* String Manipulation\n",
        "* Boolean Operations"
      ],
      "metadata": {
        "id": "0rVws5lcdAHk"
      }
    },
    {
      "cell_type": "code",
      "source": [
        "# Assignment\n",
        "\n",
        "my_variable = 42\n",
        "\n",
        "my_variable"
      ],
      "metadata": {
        "id": "K-HH2g5aH_Y0"
      },
      "execution_count": null,
      "outputs": []
    },
    {
      "cell_type": "code",
      "source": [
        "my_variable = \"peanut butter\"\n",
        "\n",
        "my_variable"
      ],
      "metadata": {
        "id": "Sh6wqSkudtjb"
      },
      "execution_count": null,
      "outputs": []
    },
    {
      "cell_type": "code",
      "source": [
        "# use this with CoLab (or other jupyter notebooks) or with the Command Line\n",
        "type(my_variable)"
      ],
      "metadata": {
        "colab": {
          "base_uri": "https://localhost:8080/"
        },
        "id": "6UDNxt02d4R4",
        "outputId": "bb918d04-7038-4d65-a4cf-a5e92f2903e5"
      },
      "execution_count": null,
      "outputs": [
        {
          "output_type": "execute_result",
          "data": {
            "text/plain": [
              "str"
            ]
          },
          "metadata": {},
          "execution_count": 3
        }
      ]
    },
    {
      "cell_type": "code",
      "source": [
        "# use this either with CoLab (or other jupyter notebooks) as well as in IDEs or the Command Line.\n",
        "print(type(my_variable))"
      ],
      "metadata": {
        "id": "ZReCvJ-gd_st"
      },
      "execution_count": null,
      "outputs": []
    },
    {
      "cell_type": "markdown",
      "source": [
        "###Your Turn\n",
        "Create a variable and set it equal to a value. Try the type() method to see the data type for your variable. Use the syntax: type(variable) <br/>\n",
        "If you are using print, you will need to use a slightly different syntax. Use: print(type(variable))"
      ],
      "metadata": {
        "id": "eklxAxvwe9pG"
      }
    },
    {
      "cell_type": "code",
      "source": [
        "# Equality\n",
        "my_int_variable = 42 # begin by assigning a variable\n",
        "\n",
        "my_int_variable == (40 + 2) # check for equality. This will return \"true\". Why?"
      ],
      "metadata": {
        "id": "xlqRFy-Ze1Gv"
      },
      "execution_count": null,
      "outputs": []
    },
    {
      "cell_type": "markdown",
      "source": [
        "## A traditional 'first program'\n",
        "Create a variable named ‘message’ and then assign it the value “Hello World.” <br/> \n",
        "Once you are done, use the print statement to output your message. "
      ],
      "metadata": {
        "id": "1nMjaoDLgAMy"
      }
    },
    {
      "cell_type": "code",
      "source": [
        "message = \"Hello World\"\n",
        "print(message)"
      ],
      "metadata": {
        "id": "t2gg5pQegPsh"
      },
      "execution_count": null,
      "outputs": []
    },
    {
      "cell_type": "markdown",
      "source": [
        "##Beginning Operations\n",
        "Modern programming languages support a variety of basic operations that allow you to do things with information. The most common operations are mathematical and string manipulation. The most commonly used math operations include: addition, subtraction, multiplication, division, modulus division, and exponentiation. Mathematical calculations in Python observe the standard PEMDAS order of operations. String operations include: concatenation, replacement, change case, split, join, and count (to name only a few)."
      ],
      "metadata": {
        "id": "y9cFGKxnhQ2b"
      }
    },
    {
      "cell_type": "markdown",
      "source": [
        "#Simple Calculations\n",
        "**Before** you run each operation, predict what you think the answer will be -- work through all of the steps to the end.<br/> Run the operation, print the result, and check to see if what you thought would happen happened. "
      ],
      "metadata": {
        "id": "jSlHSg9phfxR"
      }
    },
    {
      "cell_type": "code",
      "source": [
        "sum = 3 \n",
        "sum\n"
      ],
      "metadata": {
        "id": "40L2KMCLhi7A",
        "colab": {
          "base_uri": "https://localhost:8080/"
        },
        "outputId": "873debe4-061b-4fc9-e2ed-f0585e54c9a0"
      },
      "execution_count": null,
      "outputs": [
        {
          "output_type": "execute_result",
          "data": {
            "text/plain": [
              "3"
            ]
          },
          "metadata": {},
          "execution_count": 8
        }
      ]
    },
    {
      "cell_type": "code",
      "source": [
        "sum = sum + 5\n",
        "sum"
      ],
      "metadata": {
        "id": "uE8rRKuwhmww",
        "colab": {
          "base_uri": "https://localhost:8080/"
        },
        "outputId": "ab99b2f2-1791-4989-8da9-97a004b7c67a"
      },
      "execution_count": null,
      "outputs": [
        {
          "output_type": "execute_result",
          "data": {
            "text/plain": [
              "8"
            ]
          },
          "metadata": {},
          "execution_count": 9
        }
      ]
    },
    {
      "cell_type": "code",
      "source": [
        "sum = sum - 6\n",
        "sum"
      ],
      "metadata": {
        "id": "Ke-Bb_EMhp5N",
        "colab": {
          "base_uri": "https://localhost:8080/"
        },
        "outputId": "a63205d9-e52a-41fb-fbe4-1bd7cb615969"
      },
      "execution_count": null,
      "outputs": [
        {
          "output_type": "execute_result",
          "data": {
            "text/plain": [
              "2"
            ]
          },
          "metadata": {},
          "execution_count": 10
        }
      ]
    },
    {
      "cell_type": "code",
      "source": [
        "sum = sum * 8\n",
        "sum"
      ],
      "metadata": {
        "id": "l4TC3ARvhtLw",
        "colab": {
          "base_uri": "https://localhost:8080/"
        },
        "outputId": "7367e971-f348-49de-cae9-ffacb934c3ec"
      },
      "execution_count": null,
      "outputs": [
        {
          "output_type": "execute_result",
          "data": {
            "text/plain": [
              "16"
            ]
          },
          "metadata": {},
          "execution_count": 11
        }
      ]
    },
    {
      "cell_type": "code",
      "source": [
        "sum = sum/4\n",
        "sum"
      ],
      "metadata": {
        "id": "gY_pZIwFhyg9",
        "colab": {
          "base_uri": "https://localhost:8080/"
        },
        "outputId": "1daa8666-340b-4b9f-8fe9-0aa7d66517c3"
      },
      "execution_count": null,
      "outputs": [
        {
          "output_type": "execute_result",
          "data": {
            "text/plain": [
              "4.0"
            ]
          },
          "metadata": {},
          "execution_count": 12
        }
      ]
    },
    {
      "cell_type": "markdown",
      "source": [
        "Having an idea of what the output should be is very helpful for assessing whether or not your program is working properly. If you had gotten an answer of -30 in your third calculation, would that have made sense?"
      ],
      "metadata": {
        "id": "7T6cWChFiLL-"
      }
    },
    {
      "cell_type": "markdown",
      "source": [
        "We have worked with the basics–addition, subtraction, multiplication, and division–let’s work with a few more operations. For exponentiation, the convention is to use ** as the operator.  As with the previous calculations, **try to predict** what the output will be before you run the code."
      ],
      "metadata": {
        "id": "YpboYBfYmEAe"
      }
    },
    {
      "cell_type": "code",
      "source": [
        "# Exponentiation\n",
        "two_squared = 2**2\n",
        "two_squared"
      ],
      "metadata": {
        "id": "Ws-IJTTniOYV"
      },
      "execution_count": null,
      "outputs": []
    },
    {
      "cell_type": "code",
      "source": [
        "four_cubed = 4**3\n",
        "four_cubed"
      ],
      "metadata": {
        "id": "qUUk0n83mS8d"
      },
      "execution_count": null,
      "outputs": []
    },
    {
      "cell_type": "markdown",
      "source": [
        "Now, let’s turn to a type of division that you may not have encountered before – modulus division. The operator for this is %. What do you think will happen when you run the following statement?\n",
        "\n",
        "result = 17%3"
      ],
      "metadata": {
        "id": "GnQq1OYfoOnx"
      }
    },
    {
      "cell_type": "code",
      "source": [
        "# Modulus operation\n",
        "result = 17%3\n",
        "result"
      ],
      "metadata": {
        "id": "J8AGpKsnF4lw"
      },
      "execution_count": null,
      "outputs": []
    },
    {
      "cell_type": "markdown",
      "source": [
        "###Question\n",
        "Where do you think modulus division might be helpful? "
      ],
      "metadata": {
        "id": "F9q8gVD8fLXM"
      }
    },
    {
      "cell_type": "markdown",
      "source": [
        "##Getting more complex\n",
        "Simple actions like basic arithmetic as well as assignment are great building blocks. If we want to program more complex things, hwoever, we'll need to put them together.\n",
        "\n",
        "To begin, let’s write some conversions from fahrenheit to centigrade and from centigrade to fahrenheit. These kinds of conversions are handy and automating them saves us the time, and hassle, of having to do them by hand. The conversions for each are as follows:\n",
        "\n",
        "* To convert _from fahrenheit to centigrade_, subtract 32 from the temperature in fahrenheit and multiply the result by 5/9.\n",
        "\n",
        "* To convert _from centigrade to fahrenheit_, multiply the temperature in centigrade by 9/5 and then add 32.\n",
        "\n",
        "####Try it yourself\n",
        "You should have separate variables for your starting fahrenheit and starting centigrade numbers."
      ],
      "metadata": {
        "id": "gSl_n-uZflco"
      }
    },
    {
      "cell_type": "code",
      "source": [
        "fahrenheit = 78\n",
        "to_centigrade = 5/9*(fahrenheit-32)\n",
        "print(to_centigrade)"
      ],
      "metadata": {
        "id": "z0kFox4PiqrK"
      },
      "execution_count": null,
      "outputs": []
    },
    {
      "cell_type": "code",
      "source": [
        "centigrade = 25\n",
        "to_fahrenheit = (centigrade * 9/5) + 32\n",
        "print(to_fahrenheit)"
      ],
      "metadata": {
        "id": "nvP6QXLviubx"
      },
      "execution_count": null,
      "outputs": []
    },
    {
      "cell_type": "code",
      "source": [
        "# test output by feeding one conversion to its complement\n",
        "fahrenheit = 78\n",
        "to_centigrade = 5/9*(fahrenheit-32)\n",
        "print(to_centigrade)\n",
        "\n",
        "centigrade = to_centigrade\n",
        "to_fahrenheit = (centigrade * 9/5) + 32\n",
        "print(to_fahrenheit)"
      ],
      "metadata": {
        "id": "g9qMQQNJixLh"
      },
      "execution_count": null,
      "outputs": []
    },
    {
      "cell_type": "code",
      "source": [
        "# round to make the result more human-readable\n",
        "to_centigrade_rounded = round(5/9*(fahrenheit-32),2)\n",
        "print(to_centigrade_rounded)"
      ],
      "metadata": {
        "id": "kULIjL2Ji0-v"
      },
      "execution_count": null,
      "outputs": []
    },
    {
      "cell_type": "markdown",
      "source": [
        "###Math Library\n",
        "Let’s move to another calculation, this time using part of the math library. Let us calculate the area and circumference of a circle. Begin by creating a variable for your radius. Next, use the basic formulas for area and circumference. \n",
        "\n",
        "* The area of a circle is equal to pi times the square of the radius.\n",
        "* The circumference of a circle is equal to two times pi, times the radius.\n",
        "\n",
        "In order to use pi in Python, you will need to write the following statement:\n",
        "\n",
        ">from math import pi as pi\n",
        "\n",
        "This imports a specific item from the math library, in this case pi, and sets an “alias” to make it easier to use in your code. In general, it is best practice to import only what you need from a library rather than importing the whole thing. If you need to import the entire thing, you can use the statement: from LIBRARY import *, or you can use import LIBRARY (where LIBRARY is replaced by the name of the specific library you wish to use).\n",
        "\n",
        "####Try it yourself\n",
        "You should have two separate calculations, one for area and one for circumference, with appropriate variables.\n"
      ],
      "metadata": {
        "id": "_AHCQFZ8qk5l"
      }
    },
    {
      "cell_type": "code",
      "source": [
        "from math import pi as pi\n",
        "\n",
        "radius = 3\n",
        "\n",
        "circumference = 2*pi*radius\n",
        "\n",
        "area = pi*(radius**2)\n",
        "\n",
        "print(circumference)\n",
        "print(area)\n"
      ],
      "metadata": {
        "id": "ZYA8j3OdrgEb"
      },
      "execution_count": null,
      "outputs": []
    },
    {
      "cell_type": "code",
      "source": [
        "# round to make results more readable\n",
        "print(round(circumference,2))\n",
        "print(round(area,2))"
      ],
      "metadata": {
        "id": "abVPfE5Drxix"
      },
      "execution_count": null,
      "outputs": []
    },
    {
      "cell_type": "markdown",
      "source": [
        "##Strings\n",
        "Strings are a fundamental part of computing, especially in Humanities-based computing. You can perofrm many operations on strings. These include, but are not limited do:\n",
        "* concatenate\n",
        "* split\n",
        "* join\n",
        "* capitalize\n",
        "* upper case\n",
        "* lower case\n",
        "* slice"
      ],
      "metadata": {
        "id": "0aXid8m9sCqU"
      }
    },
    {
      "cell_type": "code",
      "source": [
        "# concatenation\n",
        "string_1 = \"foo\"\n",
        "string_2 = \"bar\"\n",
        "string_3 = string_1 + string_2\n",
        "print(string_3)"
      ],
      "metadata": {
        "id": "0Fd2mE47d39T"
      },
      "execution_count": null,
      "outputs": []
    },
    {
      "cell_type": "code",
      "source": [
        "# add a space between words\n",
        "string_3 = string_1 + \" \" + string_2\n",
        "print(string_3)"
      ],
      "metadata": {
        "id": "4tIqDO1geh8J"
      },
      "execution_count": null,
      "outputs": []
    },
    {
      "cell_type": "code",
      "source": [
        "# string \"multiplication\"\n",
        "my_string = \"spam\"\n",
        "print(my_string * 4)"
      ],
      "metadata": {
        "id": "d4hufqakesWk"
      },
      "execution_count": null,
      "outputs": []
    },
    {
      "cell_type": "code",
      "source": [
        "# add spaces\n",
        "string_1 = \"spam\"\n",
        "print((string_1 + \" \") * 4)"
      ],
      "metadata": {
        "id": "oHBzbSDsew4y"
      },
      "execution_count": null,
      "outputs": []
    },
    {
      "cell_type": "markdown",
      "source": [
        "####Important\n",
        "Just because you can use the addition and multiplication operator for strings, however, does not mean you can also use division or subtraction. In the case of strings, division and subtraction make no sense. If you try to use them, you will get a “Type Error” informing you that you cannot use those operators on strings:\n",
        "\n",
        "TypeError: unsupported operand type(s) for /: 'str' and 'int'"
      ],
      "metadata": {
        "id": "_MFOAm74fEdI"
      }
    },
    {
      "cell_type": "markdown",
      "source": [
        "####Experiment\n",
        "We’ve seen how we can use the + operator to concatenate strings. Let’s return for a moment to something I mentioned earlier. You _can_ represent integers and floats as strings. We’ll begin with two variables that refer to numbers as strings:\n",
        "\n",
        "> my_int = \"42\"<br/>\n",
        "> my_float = \"3.14159\"\n",
        "\n",
        "What do you think we will get if we try to add these numbers? "
      ],
      "metadata": {
        "id": "pTHIvL-JgZu7"
      }
    },
    {
      "cell_type": "code",
      "source": [
        "my_int = \"42\"\n",
        "my_float = \"3.14159\"\n",
        "print(my_int + my_float)"
      ],
      "metadata": {
        "id": "_DrhhZb9hJyg"
      },
      "execution_count": null,
      "outputs": []
    },
    {
      "cell_type": "markdown",
      "source": [
        "Was that what you expected? Why do you think that happened? Try using the type() function and see what type each is."
      ],
      "metadata": {
        "id": "W5N07PsJpIMx"
      }
    },
    {
      "cell_type": "code",
      "source": [
        "type(my_int)\n",
        "type(my_float)"
      ],
      "metadata": {
        "id": "Xd_K6brxpct2"
      },
      "execution_count": null,
      "outputs": []
    },
    {
      "cell_type": "markdown",
      "source": [
        "If you want these to behave as numbers again, you will have to “cast” them into the correct type. To cast a variable, you need to \"wrap\" it in the target variable type. (This will be important to remember in the future when we are asking users for input)\n",
        "\n",
        "**Note:** it is not possible to cast all variables into other variable types. For example, if you attempt to cast a string like “bbq sauce” as an int, you will get a “Value Error”."
      ],
      "metadata": {
        "id": "N8b3aUpOplJD"
      }
    },
    {
      "cell_type": "code",
      "source": [
        "my_int = \"42\"\n",
        "my_float = \"3.14159\"\n",
        "print(int(my_int) + float(my_float))"
      ],
      "metadata": {
        "id": "xbhQCjQlq4DZ"
      },
      "execution_count": null,
      "outputs": []
    },
    {
      "cell_type": "markdown",
      "source": [
        "You can recast the variable in place (which will change the variable) or you can create a separate variable for the newly cast information: <br/>\n",
        "\n",
        "my_int = \"42\" <br/>\n",
        "my_int_new = int(my_int)"
      ],
      "metadata": {
        "id": "PhSWrl_3rN8j"
      }
    },
    {
      "cell_type": "markdown",
      "source": [
        "###String Manipulation I\n",
        "Python makes it possible to transform strings in a number of ways. We’ll begin with the following string:"
      ],
      "metadata": {
        "id": "CAXQR4XZ0SVi"
      }
    },
    {
      "cell_type": "code",
      "source": [
        "string_to_fix_a = \"once, a long time ago, I didn’t know how to program.\"\n",
        "string_to_fix_a"
      ],
      "metadata": {
        "id": "DMTtvLvn0vzi"
      },
      "execution_count": null,
      "outputs": []
    },
    {
      "cell_type": "code",
      "source": [
        "print(string_to_fix_a.capitalize())"
      ],
      "metadata": {
        "id": "i5wrEJGT1Gjx"
      },
      "execution_count": null,
      "outputs": []
    },
    {
      "cell_type": "code",
      "source": [
        "string_to_fix_b = \"THIS SENTENCE IS ALL CAPS AND IT SHOULD BE LOWERCASE.\"\n",
        "string_to_fix_b"
      ],
      "metadata": {
        "id": "OAdarWyM1e85"
      },
      "execution_count": null,
      "outputs": []
    },
    {
      "cell_type": "code",
      "source": [
        "print(string_to_fix_b.lower())"
      ],
      "metadata": {
        "id": "Hhv4jSXr1ltK"
      },
      "execution_count": null,
      "outputs": []
    },
    {
      "cell_type": "code",
      "source": [
        "string_to_fix_c = \"this sentence is all in lowercase and should be in caps.\"\n",
        "string_to_fix_c"
      ],
      "metadata": {
        "id": "zpRUUzuP1sZH"
      },
      "execution_count": null,
      "outputs": []
    },
    {
      "cell_type": "code",
      "source": [
        "print(string_to_fix_c.upper())"
      ],
      "metadata": {
        "id": "1l_yGhuK1zVW"
      },
      "execution_count": null,
      "outputs": []
    },
    {
      "cell_type": "markdown",
      "source": [
        "###Sting Manipulation II\n",
        "Sometimes, the transformation is a bit more subtle. Extra spaces can often cause problems when trying to process data. If the string you are working with has extra spaces, you can use the “strip()” function. "
      ],
      "metadata": {
        "id": "im52kbWp2BsN"
      }
    },
    {
      "cell_type": "code",
      "source": [
        "string_to_fix_d = \" this sentence has a space at the beginning.\"\n",
        "string_to_fix_d"
      ],
      "metadata": {
        "id": "1FdjzXQs2Io4"
      },
      "execution_count": null,
      "outputs": []
    },
    {
      "cell_type": "code",
      "source": [
        "# remove extra spaces at beginning and end\n",
        "print(string_to_fix_d.strip())"
      ],
      "metadata": {
        "id": "SlutwYoX2RUw"
      },
      "execution_count": null,
      "outputs": []
    },
    {
      "cell_type": "code",
      "source": [
        "# chain methods to fix multiple things all at once\n",
        "print(string_to_fix_d.strip().capitalize())"
      ],
      "metadata": {
        "id": "aufCTeXl2rFC"
      },
      "execution_count": null,
      "outputs": []
    },
    {
      "cell_type": "markdown",
      "source": [
        "###String Manipulation III\n",
        "So far, we’ve worked with relatively short stings. Let’s say, though, that you have a long string and you want to output it a particular way.\n",
        "\n",
        "We will use Imtiaz Dharker’s poem “[A Century Later](http://www.imtiazdharker.com/poems_16-a-century-later, \"A Century Later\")” as our string:\n",
        "\n",
        "The school-bell is a call to battle,<br/>\n",
        "every step to class, a step into the firing-line.<br/>\n",
        "Here is the target, fine skin at the temple,<br/>\n",
        "cheek still rounded from being fifteen.<br/>\n",
        "\n",
        "Surrendered, surrounded, she<br/>\n",
        "takes the bullet in the head\n",
        "\n",
        "and walks on. The missile cuts<br/>\n",
        "a pathway in her mind, to an orchard<br/>\n",
        "in full bloom, a field humming under the sun,<br/>\n",
        "its lap open and full of poppies.<br/>\n",
        "\n",
        "This girl has won<br/>\n",
        "the right to be ordinary,<br/>\n",
        "\n",
        "wear bangles to a wedding, paint her fingernails,<br/>\n",
        "go to school. Bullet, she says, you are stupid.<br/>\n",
        "You have failed. You cannot kill a book<br/>\n",
        "or the buzzing in it.<br/>\n",
        "\n",
        "A murmur, a swarm. Behind her, one by one,<br/>\n",
        "the schoolgirls are standing up<br/>\n",
        "to take their places on the front line."
      ],
      "metadata": {
        "id": "hFRAhLkh3Chp"
      }
    },
    {
      "cell_type": "code",
      "source": [
        "# This string is available in the course resources\n",
        "long_string = \"The school-bell is a call to battle, every step to class, a step into the firing-line. Here is the target, fine skin at the temple, cheek still rounded from being fifteen. Surrendered, surrounded, she takes the bullet in the head and walks on. The missile cuts a pathway in her mind, to an orchard in full bloom, a field humming under the sun, its lap open and full of poppies. This girl has won the right to be ordinary, wear bangles to a wedding, paint her fingernails, go to school. Bullet, she says, you are stupid. You have failed. You cannot kill a book or the buzzing in it. A murmur, a swarm. Behind her, one by one, the schoolgirls are standing up to take their places on the front line.\"\n",
        "long_string"
      ],
      "metadata": {
        "id": "veqTmXpC4D5x"
      },
      "execution_count": null,
      "outputs": []
    },
    {
      "cell_type": "markdown",
      "source": [
        "How do we put in breaks in a way that the computer will display? You could try using return but you will find that IDEs will object because using a hard return causes a syntax error. Instead, we need to use “escape characters.” The most common are:\n",
        "\n",
        "\\n [new line]<br/>\n",
        "\\r [carriage return]<br/>\n",
        "\\t [tab]<br/>\n",
        "\n",
        "The basic syntax for using escape characters is:<br/>\n",
        ">\"This is one line.\\rThis is another.\"\n",
        "\n",
        "You can also chain escape characters together to get specific results. Try printing:\n",
        "\n",
        ">\"This is one line.\\n\\nThis is another but with a space between them.\"\n",
        "\n",
        "**Be aware:** Escaping is used for more than just carriage returns and new lines. If you are using a string with quotation marks in it, you will need to escape those marks. For example:\n",
        "\n",
        ">\"Then he said \\\"you’ll live to regret this\\\" and walked away.\"\n",
        "\n",
        "You can avoid having to escape quotations marks if you use double quotes (“) on the outside of the string and single quotes (‘) inside it (or vice versa).<br/>\n",
        "\n",
        "####Try it yourself\n",
        "Format the long string so that it looks more like the example I showed you earlier. You will have 10 minutes to work on this.\n",
        "\n",
        "**Hint:** \\n works most reliably in colab; \\r can make the line fail to show up. To print with your formatting intact, use the print() function."
      ],
      "metadata": {
        "id": "kQOHihs14osK"
      }
    },
    {
      "cell_type": "code",
      "source": [
        "long_string_formatted = \"The school-bell is a call to battle,\\nevery step to class, a step into the firing-line.\\nHere is the target, fine skin at the temple,\\ncheek still rounded from being fifteen.\\n\\nSurrendered, surrounded, she\\ntakes the bullet in the head\\n\\nand walks on. The missile cuts\\na pathway in her mind, to an orchard\\rin full bloom, a field humming under the sun,\\nits lap open and full of poppies.\\n\\nThis girl has won\\nthe right to be ordinary,\\n\\nwear bangles to a wedding, paint her fingernails,\\ngo to school. Bullet, she says, you are stupid.\\nYou have failed. You cannot kill a book\\nor the buzzing in it.\\n\\nA murmur, a swarm. Behind her, one by one,\\nthe schoolgirls are standing up\\nto take their places on the front line.\"\n",
        "print(long_string_formatted)"
      ],
      "metadata": {
        "id": "XnDeEgAc5dAR"
      },
      "execution_count": null,
      "outputs": []
    },
    {
      "cell_type": "markdown",
      "source": [
        "###String Manipulation IV\n",
        "Now, let’s say that you only want access to part of your long string. You can use the \"slice\" method to isolate part of it. We’ll use the original long_string (i.e. without formatting) to keep things simple.\n",
        "\n",
        "The string is a series of characters that can be accessed by using an index. In Python, and many other modern programming languages, indexing starts at 0 rather than 1. \n",
        "* If we want the first character, we will use index 0\n",
        "* If we want the 16th character, we will use index 17. \n",
        "* If we want the last character, we will use -1 (this indicates the end of a string or array). \n",
        "\n",
        "The sytax for a basic string slice is:\n",
        "\n",
        ">target_string[start: stop]\n",
        "\n",
        "We will see similar indexing when we talk about lists in a future lecture."
      ],
      "metadata": {
        "id": "_bXUnDCwByhJ"
      }
    },
    {
      "cell_type": "code",
      "source": [
        "first_sixteen = long_string[0:17] \n",
        "print(first_sixteen)"
      ],
      "metadata": {
        "id": "vZvWlm_KCoGd"
      },
      "execution_count": null,
      "outputs": []
    },
    {
      "cell_type": "code",
      "source": [
        "first_sixteen = long_string[:17] \n",
        "print(first_sixteen)"
      ],
      "metadata": {
        "id": "HYVXovRRCrnj"
      },
      "execution_count": null,
      "outputs": []
    },
    {
      "cell_type": "code",
      "source": [
        "last_sixteen = long_string[-17:] \n",
        "print(last_sixteen)"
      ],
      "metadata": {
        "colab": {
          "base_uri": "https://localhost:8080/"
        },
        "id": "vVwXsihyC11p",
        "outputId": "f2a325c2-2299-403c-c13b-f1577c8c99a9"
      },
      "execution_count": null,
      "outputs": [
        {
          "output_type": "stream",
          "name": "stdout",
          "text": [
            "n the front line.\n"
          ]
        }
      ]
    },
    {
      "cell_type": "code",
      "source": [
        "last_character = long_string[-1]\n",
        "last_character"
      ],
      "metadata": {
        "id": "1PtE8bdrDKdT"
      },
      "execution_count": null,
      "outputs": []
    },
    {
      "cell_type": "markdown",
      "source": [
        "What if you want the characters in the middle? How do you find the index for those without having to count all the characters by hand? You can use the “len()” function to tell you the length of the string and then find the middle from there."
      ],
      "metadata": {
        "id": "kc9EZ4GyDVln"
      }
    },
    {
      "cell_type": "code",
      "source": [
        "print(len(long_string))"
      ],
      "metadata": {
        "id": "BadL3MSQDaXL"
      },
      "execution_count": null,
      "outputs": []
    },
    {
      "cell_type": "markdown",
      "source": [
        "To get the middle we can divide by 2. Note, however, that if the length is odd, we can end up with a float and the slice() function will not be able to deal with it – it only accepts integers, which makes sense because what is the 1.4697245th place? To ensure that we get an integer, we can use floor division (this uses // instead of / for division)."
      ],
      "metadata": {
        "id": "X65Z77tmDi-k"
      }
    },
    {
      "cell_type": "code",
      "source": [
        "print(len(long_string)//2)"
      ],
      "metadata": {
        "id": "1B-lQbfYDkdn"
      },
      "execution_count": null,
      "outputs": []
    },
    {
      "cell_type": "markdown",
      "source": [
        "If we want to find the middle 16 characters, we can create a variable for the midpoint and then choose how many to ask for before that point and after (we are using an even number so it should work out)."
      ],
      "metadata": {
        "id": "aFUBHA6mD7zM"
      }
    },
    {
      "cell_type": "code",
      "source": [
        "mid_point = len(long_string)//2\n",
        "\n",
        "first_half = mid_point - 8\n",
        "second_half = mid_point + 8\n",
        "\n",
        "print(long_string[first_half:second_half])"
      ],
      "metadata": {
        "colab": {
          "base_uri": "https://localhost:8080/"
        },
        "id": "cz9oioJUD-4T",
        "outputId": "c10cf19f-fe6a-4079-9d01-258cdee47bd9"
      },
      "execution_count": null,
      "outputs": [
        {
          "output_type": "stream",
          "name": "stdout",
          "text": [
            "un, its lap open\n"
          ]
        }
      ]
    },
    {
      "cell_type": "markdown",
      "source": [
        "**Additional Technique:** <br/>\n",
        "We have worked with our long string and have figured out how to slice it to get portions we want. We can also use a string slicing technique that takes three arguments – start, stop, and step. To demonstrate this, let’s use a short string:"
      ],
      "metadata": {
        "id": "vDZgthiIELXi"
      }
    },
    {
      "cell_type": "code",
      "source": [
        "my_short_string = \"Mary had a little lamb whose fleece was white as snow.\\nEverywhere that Mary went, the lamb was sure to go.\"\n",
        "print(my_short_string)"
      ],
      "metadata": {
        "id": "xWsibexmEVWo"
      },
      "execution_count": null,
      "outputs": []
    },
    {
      "cell_type": "code",
      "source": [
        "print(my_short_string[4:20:1])"
      ],
      "metadata": {
        "id": "2uAh-6iaExEt"
      },
      "execution_count": null,
      "outputs": []
    },
    {
      "cell_type": "markdown",
      "source": [
        "Unlike the other types of slicing we’ve seen so far, this method allows us some more fine control. What if, for example, we wanted to know what every other string was between our start and stop? What if we wanted to know what every third, or seventh, or tenth character was? We can specify the step to give us that flexibility. For example, let's say that we want to know what _every third character_ is between index 7 and 50. "
      ],
      "metadata": {
        "id": "9X7vXE9LE_jb"
      }
    },
    {
      "cell_type": "code",
      "source": [
        "print(my_short_string[7:50:3])"
      ],
      "metadata": {
        "id": "te_pRXytFA2P"
      },
      "execution_count": null,
      "outputs": []
    },
    {
      "cell_type": "markdown",
      "source": [
        "We can also use this functionality (start, stop, step) to completely reverse the string. If we want to see the entire string reversed, we can use the following approach:"
      ],
      "metadata": {
        "id": "A1OSVMMfFOsa"
      }
    },
    {
      "cell_type": "code",
      "source": [
        "print(my_short_string[::-1])"
      ],
      "metadata": {
        "id": "-m9YEd8WFPkP"
      },
      "execution_count": null,
      "outputs": []
    },
    {
      "cell_type": "code",
      "source": [
        "print(my_short_string[-1:-50:-1])"
      ],
      "metadata": {
        "id": "cYoFqxyBFkwF"
      },
      "execution_count": null,
      "outputs": []
    },
    {
      "cell_type": "markdown",
      "source": [
        "**Thought exercise:** <br/> \n",
        "What do you think will happen if you set a step of -2 or -3? <br/>\n",
        "\n",
        "####Try it yourself:\n",
        "Create your own string and use the start, stop, step approach to select various characters as well as to move backward through all, or a portion, of the string.\n"
      ],
      "metadata": {
        "id": "ZoX8zB5wBIr5"
      }
    },
    {
      "cell_type": "code",
      "source": [],
      "metadata": {
        "id": "LHt_xaBdBXlB"
      },
      "execution_count": null,
      "outputs": []
    },
    {
      "cell_type": "markdown",
      "source": [
        "#Class Break\n",
        "Take 10"
      ],
      "metadata": {
        "id": "-xm6QUtxm8kz"
      }
    },
    {
      "cell_type": "markdown",
      "source": [
        "###Control Structures\n",
        "Up to now, we have been using simple statements to carry out operations on part of our data. What if we need to work with all of our data or need to do something more than once? We can use loops and tests to help us.\n",
        "\n",
        "Let’s say that we wanted to print out all the numbers from 1 to 100. Based on what we have discussed so far, we’d have to write 100 individual print statements. Even with the cut and paste function of your computer, that’s a lot of print statements. Not only is doing a task like this manually tedious, it can also lead to mistakes – suppose, for instance, that you forgot to change one (or two, or ten) numbers in your print statements as you pasted them in or that you mistakenly put the numbers in the wrong order. While the consequences of mistakes in this situation are pretty low, in other circumstances they might be more serious. \n",
        "\n",
        "So, how do we print the numbers from 1 to 100 without having to write a bunch of print statements?\n",
        "\n",
        "One way is to use a conditional loop that checks to see if a particular condition has been met. The “while” statement is a good example of this.\n"
      ],
      "metadata": {
        "id": "cv-QHzLZBWmJ"
      }
    },
    {
      "cell_type": "code",
      "source": [
        "#While loop\n",
        "counter = 0\n",
        "while counter<=100:\n",
        "    print(counter)\n",
        "    counter = counter+1\n"
      ],
      "metadata": {
        "id": "lvuAxpGWCz_s"
      },
      "execution_count": null,
      "outputs": []
    },
    {
      "cell_type": "markdown",
      "source": [
        "We can also use the loop to perform various operations. Let’s square the numbers from 1 to 10 and print them out as we do."
      ],
      "metadata": {
        "id": "wjuumd8UDQsU"
      }
    },
    {
      "cell_type": "code",
      "source": [
        "number=1\n",
        "while number<=10:\n",
        "    print(\"The square of\", number, \"is\", number**2)\n",
        "    number += 1"
      ],
      "metadata": {
        "id": "D9r37ncIDOFO"
      },
      "execution_count": null,
      "outputs": []
    },
    {
      "cell_type": "markdown",
      "source": [
        "In this example, we use commas to separate elements in our list. If we used the plus sign (+) to try to concatenate our output, we would get the following error:\n",
        "> TypeError: can only concatenate str (not \"int\") to str\n",
        "\n",
        "We can use a different type of string formatting to help us avoid this. In particualr, we can use an 'f' string."
      ],
      "metadata": {
        "id": "P62uBc5Oqbuu"
      }
    },
    {
      "cell_type": "code",
      "source": [
        "count_formatted = 1\n",
        "while count_formatted<=10:\n",
        "    print(f\"The square of {count_formatted} is {count_formatted**2}\")\n",
        "    count_formatted += 1\n"
      ],
      "metadata": {
        "id": "rtTELvD8q2pc"
      },
      "execution_count": null,
      "outputs": []
    },
    {
      "cell_type": "markdown",
      "source": [
        "###Thought Exercise:\n",
        "While loops, like all conditional statements, require caution.<br/> What do you think will happen with this loop that is supposed to countdown from 10 to 0?<br/> \n",
        "**Don’t run it**, just think through what happens at each stage in the program.\n",
        "\n",
        "```\n",
        "z = 10\n",
        "while z<=10:\n",
        "    print(z)\n",
        "    z = z-1\n",
        "```"
      ],
      "metadata": {
        "id": "zwTsX8q2rPtC"
      }
    },
    {
      "cell_type": "code",
      "source": [
        "#countdown correct version\n",
        "z = 10\n",
        "while z>=0:\n",
        "    print(z)\n",
        "    z = z-1\n"
      ],
      "metadata": {
        "id": "lz2l9CugsQne"
      },
      "execution_count": null,
      "outputs": []
    },
    {
      "cell_type": "markdown",
      "source": [
        "###If/Elif/Else\n",
        "While loops are just one way of controlling the flow of a program. Let’s explore another conditional–the “if” statement and its follow-on statements: “if/else” and if/elif/else”.\n",
        "\n",
        "####Logical Evaluation:\n",
        "Like the while statement, an if statement checks to see if something is true or false before proceeding. Here is a straightforward example:\n",
        "```\n",
        "if 8 < 10:\n",
        "    print(\"yes, 8 is less than 10\")\n",
        "```\n",
        "In this case, the computer checks to see if 8 is less than 10 and if it is (and it is), carries out a print statement. \n",
        "\n",
        "If statements do not have to compare two separate statements to work.\n",
        "\n",
        "```\n",
        "turtles = True \n",
        "if turtles:\n",
        "    print(\"Yes! There are turtles!\")\n",
        "```"
      ],
      "metadata": {
        "id": "lEEtFJs3sfFI"
      }
    },
    {
      "cell_type": "code",
      "source": [
        "# what will the output to the screen be?\n",
        "# why?\n",
        "turtles = False\n",
        "\n",
        "if turtles:\n",
        "    print(\"Yes! There are turtles!\")"
      ],
      "metadata": {
        "id": "km9D_MmJtOor"
      },
      "execution_count": null,
      "outputs": []
    },
    {
      "cell_type": "code",
      "source": [
        "# using if/else to give output no matter what the condition\n",
        "turtles = False \n",
        "\n",
        "if turtles:\n",
        "    print(\"Yes! There are turtles!\")\n",
        "else:\n",
        "    print(\"Sorry, no turtles today :-(\")"
      ],
      "metadata": {
        "id": "AO2wpuMPuR1R"
      },
      "execution_count": null,
      "outputs": []
    },
    {
      "cell_type": "markdown",
      "source": [
        "Let’s say, though, that we have more than two conditions that we need to test. How do we handle that? \n",
        "\n",
        "Python uses a structure known as if/elif/else. In this example, we have a number and we want to see where in a specific set of ranges it falls.\n",
        "\n",
        "**Before** you run the code, what do you think will happen and why?"
      ],
      "metadata": {
        "id": "KXKze1DB0RyM"
      }
    },
    {
      "cell_type": "code",
      "source": [
        "test_number = 42\n",
        "\n",
        "if test_number <= 20:\n",
        "    print(f\"{test_number} is between 0 and 20\")\n",
        "elif test_number >=21 and test_number <=40:\n",
        "    print(f\"{test_number} is between 21 and 40\")\n",
        "else:\n",
        "    print(f\"{test_number} is greater than 41\")\n"
      ],
      "metadata": {
        "id": "sW-7VqzW0ZqM"
      },
      "execution_count": null,
      "outputs": []
    },
    {
      "cell_type": "markdown",
      "source": [
        "####For Loops\n",
        "The final control structure we will discuss in this section is the for statement. A for statement creates a loop that works by traversing each item in a group of items. Let’s say we want to revisit our counting loop but don’t want to use “while”. How might we do this with a for loop? "
      ],
      "metadata": {
        "id": "tm-aqgiP00ho"
      }
    },
    {
      "cell_type": "code",
      "source": [
        "for number in range(0,101):\n",
        "    print(number)"
      ],
      "metadata": {
        "id": "tMS5KQm405ER"
      },
      "execution_count": null,
      "outputs": []
    },
    {
      "cell_type": "markdown",
      "source": [
        "We can use “for” statements with conditionals and do more complex tasks. Let’s say that we want to generate a random number from 1 to 5. We don’t want to do it just once, however, but want to see what kind of frequencies we end up with if we generate a random number over a series of trials.<br/> For our test, we decide that 50 trials is a good place to start. \n",
        "\n",
        "* First, we’ll need to generate a random number.\n",
        "++ For this we’ll need to import the random integer method from the Random library. \n",
        "* Next we'll need to create some \"buckets\" for our desired frequencies.\n",
        "* We will need to loop so that we can generate a number.\n",
        "* Once we have a number, we will need to increment our counters.\n",
        "* We will need to output our results.\n"
      ],
      "metadata": {
        "id": "J1ShSk7g1GWC"
      }
    },
    {
      "cell_type": "code",
      "source": [
        "from random import randint as randomint\n",
        "\n",
        "ones = 0\n",
        "twos = 0\n",
        "threes = 0\n",
        "fours = 0\n",
        "fives = 0\n",
        "\n",
        "for number in range(1,51):\n",
        "    random_number = randomint(1,5)\n",
        "    if random_number == 1:\n",
        "        ones += 1\n",
        "    elif random_number == 2:\n",
        "        twos += 1\n",
        "    elif random_number == 3:\n",
        "        threes += 1\n",
        "    elif random_number == 4:\n",
        "        fours += 1\n",
        "    elif random_number == 5:\n",
        "        fives += 1\n",
        "\n",
        "print(f\"The frequency of random numbers from 1 - 5 for 50 trials:\\nOnes: {ones}\\nTwos: {twos}\\nThrees: {threes}\\nFours: {fours}\\nFives: {fives}\")\n",
        "\n",
        "\n"
      ],
      "metadata": {
        "id": "qS7AgpGa1OSq"
      },
      "execution_count": null,
      "outputs": []
    },
    {
      "cell_type": "markdown",
      "source": [
        "The program will do the job we asked of it but there are two ways we can improve it. The first is to **make it more generalizable** and the second is to **use comments** to help explain what we are doing.\n",
        "\n",
        "We can generalize by using variables for our start and stop number for the main loop and for our random number generation.\n",
        "\n",
        "```\n",
        "range_start = 1\n",
        "range_end = 51\n",
        "\n",
        "generator_start = 1\n",
        "generator_end = 5\n",
        "```\n",
        "\n",
        "If we want to change our ranges, we can do so by changing the value of the variable. If we want to have 100 trials or 1,000 trials, or we want to generate numbers from 1 to 10 or from 23 to 47, we can do so without much effort (though we would have to change the counters and categories accordingly, which would be a bigger issue.\n",
        "\n",
        " This program is short and we can easily locate the range information to change it. If the program was longer, and the information was used in more than one place, having a single source to change makes maintaining the code easier over time. As we will see when we discuss user input, it also makes it easier to make the code more interactive.\n",
        "\n",
        "Another way to make the code easier to maintain is to add comments. Thus far, we have not commented any of our code examples. To be fair, we were working with short snippets and were concentrating on getting the syntax right. Moving forward, we will want to be sure to comment our code. Not only will anyone else who uses what we create benefit by having guidance on what parts of it mean, our future selves will also benefit from having a clear roadmap of what we were thinking when we wrote the code in the first place.\n",
        "\n",
        "In Python, a single line comment begins with an octothorpe (#) and a multi-line comment begins and ends with triple quotes (‘’’ ‘’’). The interpreter will ignore any text that occurs after, or between, these symbols. "
      ],
      "metadata": {
        "id": "5F6OTMQ93Bp4"
      }
    },
    {
      "cell_type": "code",
      "source": [
        "# this program generates a random number across a number of trials and then counts the frequencies of each number\n",
        "\n",
        "# gain access to the random integer generator from the Random library and provide alias\n",
        "from random import randint as randomint\n",
        "\n",
        "# intialize number counter variables\n",
        "ones = 0\n",
        "twos = 0\n",
        "threes = 0\n",
        "fours = 0\n",
        "fives = 0\n",
        "\n",
        "# set start and end points for the number of trials to carry out\n",
        "range_start = 1\n",
        "range_end = 51\n",
        "\n",
        "# set the start and end points for the range of random numbers to generate\n",
        "generator_start = 1\n",
        "generator_end = 5\n",
        "\n",
        "# begin loop through trials, generating a new random number for each trial\n",
        "for number in range(range_start,range_end):\n",
        "    random_number = randomint(generator_start, generator_end)\n",
        "\n",
        "    # count numbers generated to determine frequencies\n",
        "    if random_number == 1:\n",
        "        ones += 1\n",
        "    elif random_number == 2:\n",
        "        twos += 1\n",
        "    elif random_number == 3:\n",
        "        threes += 1\n",
        "    elif random_number == 4:\n",
        "        fours += 1\n",
        "    elif random_number == 5:\n",
        "        fives += 1\n",
        "\n",
        "# output results as an f string for better readability\n",
        "print(f\"The frequency of random numbers from {generator_start} to {generator_end} for {range_end-1} trials:\\nOnes: {ones}\\nTwos: {twos}\\nThrees: {threes}\\nFours: {fours}\\nFives: {fives}\")\n"
      ],
      "metadata": {
        "id": "wNmvF1yV2_Ab"
      },
      "execution_count": null,
      "outputs": []
    }
  ]
}