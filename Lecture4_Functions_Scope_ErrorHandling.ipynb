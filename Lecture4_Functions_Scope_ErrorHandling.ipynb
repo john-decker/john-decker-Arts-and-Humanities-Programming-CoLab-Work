{
  "nbformat": 4,
  "nbformat_minor": 0,
  "metadata": {
    "colab": {
      "provenance": [],
      "collapsed_sections": [],
      "authorship_tag": "ABX9TyNqfxPEfaMd7dR7ep9H4akS",
      "include_colab_link": true
    },
    "kernelspec": {
      "name": "python3",
      "display_name": "Python 3"
    },
    "language_info": {
      "name": "python"
    }
  },
  "cells": [
    {
      "cell_type": "markdown",
      "metadata": {
        "id": "view-in-github",
        "colab_type": "text"
      },
      "source": [
        "<a href=\"https://colab.research.google.com/github/john-decker/john-decker-Arts-and-Humanities-Programming-CoLab-Work/blob/main/Lecture4_Functions_Scope_ErrorHandling.ipynb\" target=\"_parent\"><img src=\"https://colab.research.google.com/assets/colab-badge.svg\" alt=\"Open In Colab\"/></a>"
      ]
    },
    {
      "cell_type": "markdown",
      "source": [
        "###Functions\n",
        "Up to now, we’ve been working with “one off” code blocks to get things done. In a few cases, we’ve reused bits and pieces (such as the traversal for our dictionaries), but this is not a good long-term solution. Having repeated blocks of code not only violates the DRY (Don’t Repeat Yourself) principle of modern programming, it is also harder to maintain. Imagine having to fix one word in a code block and then having to hunt down repeated blocks and fix the same word across a large program. A better way of using blocks of code in various parts of your program is to write functions. \n",
        "\n",
        "Python supports four basic types of function: \n",
        "* built-in (things like print(), type(), len())\n",
        "* user-defined\n",
        "* lambda expression (so-called “anonymous” functions) \n",
        "* recursion. \n",
        "\n",
        "The most common we will deal with are built-in and user-defined. For this lesson, we will not cover lambda functions (which are somewhat advanced) and if we have time, we may be able to get to recursion. \n",
        "\n",
        "A function takes in a value, performs an operation (or multiple operations) on that value and then returns another value. We can say that a function maps one value to another.\n"
      ],
      "metadata": {
        "id": "GcLh4VgrQzmI"
      }
    },
    {
      "cell_type": "code",
      "source": [
        "# Mapping one temperature scale to another\n",
        "fahrenheit = 78\n",
        "to_centigrade = 5/9*(fahrenheit-32)\n",
        "\n",
        "print(to_centigrade)"
      ],
      "metadata": {
        "id": "pJNbf3HQQ50K",
        "colab": {
          "base_uri": "https://localhost:8080/"
        },
        "outputId": "0aa7ff35-fe81-4d0f-b196-b74d4be91fac"
      },
      "execution_count": null,
      "outputs": [
        {
          "output_type": "stream",
          "name": "stdout",
          "text": [
            "25.555555555555557\n"
          ]
        }
      ]
    },
    {
      "cell_type": "markdown",
      "source": [
        "###Function, Version 1\n",
        "Functions are capable of supporting control structures (loops, conditionals, etc.) and data structures (lists, dictionaries, tuples, etc.). If we return to our temperature conversion, we can make a function out of it quite easily.\n"
      ],
      "metadata": {
        "id": "sZAI3MYwWObT"
      }
    },
    {
      "cell_type": "code",
      "source": [
        "def convert_to_centigrade(fahrenheit):\n",
        "    to_centigrade = round(5/9*(fahrenheit-32),2)\n",
        "    print(to_centigrade)\n",
        "\n",
        "convert_to_centigrade(82)"
      ],
      "metadata": {
        "id": "4CtcouF-WS2u",
        "colab": {
          "base_uri": "https://localhost:8080/"
        },
        "outputId": "7df0633f-c9fc-4c30-89af-6e93b353962f"
      },
      "execution_count": null,
      "outputs": [
        {
          "output_type": "stream",
          "name": "stdout",
          "text": [
            "27.78\n"
          ]
        }
      ]
    },
    {
      "cell_type": "markdown",
      "source": [
        "###Scope\n",
        "On the surface, the stand-alone formula and the new function we’ve defined look very similar (and they are). There is a substantial difference between them, however. When we use the stand alone formula, we can use the value stored in “to_centigrade” anywhere in the program. We have already implemented the code for it and have given it a number to convert. We can write more code, taking us farther “downstream” from when the variables were declared, and still be able to use those values again.\n"
      ],
      "metadata": {
        "id": "qrPuj5zCWkQn"
      }
    },
    {
      "cell_type": "code",
      "source": [
        "temperature_message = f\"The current outside temperature is {fahrenheit}\"\n",
        "temperature_message_updated = f\"{fahrenheit} in centigrade is {to_centigrade}\""
      ],
      "metadata": {
        "id": "sAKFcFeAWyJQ"
      },
      "execution_count": null,
      "outputs": []
    },
    {
      "cell_type": "code",
      "source": [
        "print(temperature_message)\n",
        "print(temperature_message_updated)"
      ],
      "metadata": {
        "id": "Xd1IwM0uW148",
        "colab": {
          "base_uri": "https://localhost:8080/"
        },
        "outputId": "a1f2e4ac-e449-4af0-fc46-c721717549c4"
      },
      "execution_count": null,
      "outputs": [
        {
          "output_type": "stream",
          "name": "stdout",
          "text": [
            "The current outside temperature is 78\n",
            "78 in centigrade is 25.555555555555557\n"
          ]
        }
      ]
    },
    {
      "cell_type": "markdown",
      "source": [
        "We were able to access the previously assigned variable and calculated answer because they have what is called “Global” scope.This means that they can be accessed, used, and changed anywhere in the program. In contrast, the variable “to_centigrade” in our function only exists inside the function because it has what is called “local scope”. "
      ],
      "metadata": {
        "id": "87mgkFU_W-30"
      }
    },
    {
      "cell_type": "code",
      "source": [
        "my_variable = 42\n",
        "print(my_variable)"
      ],
      "metadata": {
        "id": "KKqFsS8qXEn6",
        "colab": {
          "base_uri": "https://localhost:8080/"
        },
        "outputId": "d82ff044-2edc-41d5-ff0c-a3918e775b11"
      },
      "execution_count": null,
      "outputs": [
        {
          "output_type": "stream",
          "name": "stdout",
          "text": [
            "42\n"
          ]
        }
      ]
    },
    {
      "cell_type": "code",
      "source": [
        "my_variable = 42**2\n",
        "print(my_variable)"
      ],
      "metadata": {
        "id": "xuYCrRFjXFvC",
        "colab": {
          "base_uri": "https://localhost:8080/"
        },
        "outputId": "5baeeb4a-dadc-4835-fcef-9f777832c376"
      },
      "execution_count": null,
      "outputs": [
        {
          "output_type": "stream",
          "name": "stdout",
          "text": [
            "1764\n"
          ]
        }
      ]
    },
    {
      "cell_type": "code",
      "source": [
        "my_variable = \"pumpkin\"\n",
        "print(my_variable)"
      ],
      "metadata": {
        "id": "92m0XsVSXIaJ",
        "colab": {
          "base_uri": "https://localhost:8080/"
        },
        "outputId": "6f6088b5-a58f-4689-dcd7-025f9c038d90"
      },
      "execution_count": null,
      "outputs": [
        {
          "output_type": "stream",
          "name": "stdout",
          "text": [
            "pumpkin\n"
          ]
        }
      ]
    },
    {
      "cell_type": "markdown",
      "source": [
        "**Notice** that we maintain the same variable name but reassign it multiple times. With each assignment, the variable points to a different value. This is great for being able to change and update information but not so great if we need the original value later in our program."
      ],
      "metadata": {
        "id": "lfPauNipXQQs"
      }
    },
    {
      "cell_type": "markdown",
      "source": [
        "###Functions & Scope\n",
        "One way to safeguard our program while still allowing ourselves the flexibility of reusing code, which implies reassigning certain variables, is to use functions. The variables inside functions have “local scope”, which means that they exist or “live” only in the confines of the function itself. If we return to the function we created for converting from fahrenheit to centigrade, we notice that we reuse the variable to_centigrade.\n",
        "```\n",
        "def convert_to_centigrade(fahrenheit):\n",
        "    to_centigrade = round(5/9*(fahrenheit-32),2)\n",
        "    print(to_centigrade)\n",
        "```\n",
        "At first glance you might think that because the variable inside the function and the variable in the stand-alone code outside the function are the same, they would be prone to overwriting each other. To test our assertion, we will call the function first and then the stand alone. If any overwriting has happened, we would expect both outputs to be the same.\n"
      ],
      "metadata": {
        "id": "I1Y2je7aXhIo"
      }
    },
    {
      "cell_type": "code",
      "source": [
        "convert_to_centigrade(82)\n",
        "print(to_centigrade)"
      ],
      "metadata": {
        "id": "BAYHqETrXv2E",
        "colab": {
          "base_uri": "https://localhost:8080/"
        },
        "outputId": "183c8509-20fc-40af-d6f6-20221ca0be3a"
      },
      "execution_count": null,
      "outputs": [
        {
          "output_type": "stream",
          "name": "stdout",
          "text": [
            "27.78\n",
            "25.555555555555557\n"
          ]
        }
      ]
    },
    {
      "cell_type": "markdown",
      "source": [
        "When we call our function and print out the stand-alone variable, however, we see that they output different values. This is because the variable called “to_centigrade” inside the function is isolated from the rest of the program. We can pass new numbers to the function, and thus reassign the locally scoped variable, as many times as we want and never alter the output of the original stand-alone variable (unless of course we purposefully reassign it). \n",
        "\n",
        "To illustrate that the locally scoped variable inside a function does not “exist” outside it, let’s create another function and then try to gain access to it outside the function.\n"
      ],
      "metadata": {
        "id": "xdWUbGpNYAUk"
      }
    },
    {
      "cell_type": "code",
      "source": [
        "def another_function():\n",
        "    secret_message = \"This is super secret, don't share it!\"\n",
        "\n",
        "print(secret_message)"
      ],
      "metadata": {
        "id": "RC7HMOXRYFa8",
        "colab": {
          "base_uri": "https://localhost:8080/",
          "height": 204
        },
        "outputId": "efab5278-eef8-48b7-b54b-b4e6eb850600"
      },
      "execution_count": null,
      "outputs": [
        {
          "output_type": "error",
          "ename": "NameError",
          "evalue": "ignored",
          "traceback": [
            "\u001b[0;31m---------------------------------------------------------------------------\u001b[0m",
            "\u001b[0;31mNameError\u001b[0m                                 Traceback (most recent call last)",
            "\u001b[0;32m<ipython-input-9-0ce79068084b>\u001b[0m in \u001b[0;36m<module>\u001b[0;34m\u001b[0m\n\u001b[1;32m      2\u001b[0m     \u001b[0msecret_message\u001b[0m \u001b[0;34m=\u001b[0m \u001b[0;34m\"This is super secret, don't share it!\"\u001b[0m\u001b[0;34m\u001b[0m\u001b[0;34m\u001b[0m\u001b[0m\n\u001b[1;32m      3\u001b[0m \u001b[0;34m\u001b[0m\u001b[0m\n\u001b[0;32m----> 4\u001b[0;31m \u001b[0mprint\u001b[0m\u001b[0;34m(\u001b[0m\u001b[0msecret_message\u001b[0m\u001b[0;34m)\u001b[0m\u001b[0;34m\u001b[0m\u001b[0;34m\u001b[0m\u001b[0m\n\u001b[0m",
            "\u001b[0;31mNameError\u001b[0m: name 'secret_message' is not defined"
          ]
        }
      ]
    },
    {
      "cell_type": "markdown",
      "source": [
        "###Error Handling\n",
        "Thus far, we have created a function that works well for very specific inputs. For our temperature conversion function, the only reasonable inputs are of type int or float. See what happens when you attempt to pass a string to the function. You get an error like this:\n",
        "\n",
        "> TypeError: unsupported operand type(s) for -: 'str' and 'int'\n",
        "\n",
        "We should address this potential problem so that when we use our function, by itself or with another function, it will be robust and less prone to crashing. \n",
        "\n",
        "**Note**, that this process uses an incremental approach to programming. We bring our code  (this can be a code block, a function, or even a single statement) to a state in which it is working fairly reliably. We then save our working version and begin modifying it for the next stage in development. If this next stage crashes, generates errors, or starts outputting nonsensical data we can always “back off” to the previous working version and try again."
      ],
      "metadata": {
        "id": "IlQUJkPYYbSP"
      }
    },
    {
      "cell_type": "markdown",
      "source": [
        "###Function Version 2\n",
        "One way we can address the error raised above is to check the input for its type. If the function finds an unsupported type, we can either allow the input to “fail silently” or raise an error. The first approach can be helpful for systems that run without too much human interaction and need to continue to function even when there are occasional errors in input (though keeping a log of errors would still be helpful). \n",
        "\n",
        "Raising an error is useful for a human running the program in that it can help them make changes to the inputs so that they match what is expected. This, in fact, is what the interpreter does when it raises the error above–it tells us that we are asking for something incorrect and need to adjust our input. We can make our error message more friendly and helpful for non programmers and avoid “breaking” the program. \n",
        "\n",
        "We will consider both the silent and verbose approaches, starting with the silent option."
      ],
      "metadata": {
        "id": "p0emjpNjY8xX"
      }
    },
    {
      "cell_type": "code",
      "source": [
        "#silent fail\n",
        "def to_centigrade(fahrenheit):\n",
        "    # test and if input is string or bool, pass without failing.\n",
        "    if(isinstance(fahrenheit, str) or isinstance(fahrenheit, bool)):\n",
        "        pass\n",
        "    # otherwise carry out the conversion\n",
        "    else:\n",
        "        converted = round(5/9*(fahrenheit-32),2)\n",
        "        print(converted)"
      ],
      "metadata": {
        "id": "r908d_1YZVD-"
      },
      "execution_count": null,
      "outputs": []
    },
    {
      "cell_type": "code",
      "source": [
        "# test inputs to see if there are any failures\n",
        "to_centigrade(40)\n",
        "to_centigrade(103.135)\n",
        "to_centigrade(\"Henry\")\n",
        "to_centigrade(True)"
      ],
      "metadata": {
        "id": "HgyGVYaiZYYy",
        "colab": {
          "base_uri": "https://localhost:8080/"
        },
        "outputId": "61e24d3b-9dc0-4002-9f9e-431a7ba49e2c"
      },
      "execution_count": null,
      "outputs": [
        {
          "output_type": "stream",
          "name": "stdout",
          "text": [
            "4.44\n",
            "39.52\n"
          ]
        }
      ]
    },
    {
      "cell_type": "markdown",
      "source": [
        "In our revised function, we use the “or” reserved word to allow us some logical flexibility. The “or” lets us tell the program that if one “or” the other condition is true, then we should execute the code associated with the if statement. The “or” operator uses a basic truth table:\n",
        "\n",
        "|Input 1 ||  |Input 2  || |Output\n",
        "|:----   ||  |:----    || |:----\n",
        "|True    ||  |True     || |True\n",
        "|True    ||  |False    || |True\n",
        "|False   ||  |True     || |True\n",
        "|False   ||  |False    || |False\n",
        "\n",
        "The table shows that with a basic or statement the statement will return true if either input is true and will return false only if both inputs are false. There is another type of “or” called the “exclusive or” (or xor) that uses stricter rules, which is beyond the scope of an introductory course like this.\n",
        "\n",
        "In other words, if the input is one of the types we do not want, we pass to the end of the loop without failing. If the input is an int or float, it will not meet the condition specified, the program will continue to the else statement, and the conversion will take place. When we test this, we see that we have made our function more robust. It produces usable output when we enter numbers and does not fail when we get strings or booleans. \n",
        "\n",
        "We can use the same code but make a small alteration to have our function produce an error statement if the input is incorrect."
      ],
      "metadata": {
        "id": "Q0Khmu5caFCj"
      }
    },
    {
      "cell_type": "code",
      "source": [
        "# generate error message\n",
        "def to_centigrade(fahrenheit):\n",
        "    # test and if input is string or bool, print error message without failing.\n",
        "    if(isinstance(fahrenheit, str) or isinstance(fahrenheit, bool)):\n",
        "        print(f\"The data entered, '{fahrenheit},' is of an incorrect type. Please be sure that it is an integer (e.g. 1, 2, 3) or a decimal number (e.g. 3.3, 4.1). Numbers should not be in quotes ''.\")\n",
        "    # otherwise carry out the conversion\n",
        "    else:\n",
        "        converted = round(5/9*(fahrenheit-32),2)\n",
        "        print(converted)"
      ],
      "metadata": {
        "id": "q0v36PV3bJto"
      },
      "execution_count": null,
      "outputs": []
    },
    {
      "cell_type": "code",
      "source": [
        "# test inputs to see if there are any failures\n",
        "to_centigrade(40)\n",
        "to_centigrade(103.135)\n",
        "to_centigrade(\"Henry\")\n",
        "to_centigrade(True)\n",
        "to_centigrade(\"15\")"
      ],
      "metadata": {
        "id": "63Xx0ew2bcA-",
        "colab": {
          "base_uri": "https://localhost:8080/"
        },
        "outputId": "b5b530bd-09e2-4a64-edc6-47d46908931a"
      },
      "execution_count": null,
      "outputs": [
        {
          "output_type": "stream",
          "name": "stdout",
          "text": [
            "4.44\n",
            "39.52\n",
            "The data entered, 'Henry,' is of an incorrect type. Please be sure that it is an integer (e.g. 1, 2, 3) or a decimal number (e.g. 3.3, 4.1). Numbers should not be in quotes ''.\n",
            "The data entered, 'True,' is of an incorrect type. Please be sure that it is an integer (e.g. 1, 2, 3) or a decimal number (e.g. 3.3, 4.1). Numbers should not be in quotes ''.\n",
            "The data entered, '15,' is of an incorrect type. Please be sure that it is an integer (e.g. 1, 2, 3) or a decimal number (e.g. 3.3, 4.1). Numbers should not be in quotes ''.\n"
          ]
        }
      ]
    },
    {
      "cell_type": "markdown",
      "source": [
        "###Function Version 3\n",
        "We have now taken our function through another increment. It works as expected and can handle predictable errors. We still have one issue, however. Right now, our function does not allow a number to be entered as a string. There are several ways we can handle this but we need to be careful as we do it. We could, for example, cast all inputs as type int and handle any exceptions that come that way. While we could undoubtedly handle the exceptions, we would unfortunately preclude our function from handling floats, which seems to be a huge problem for temperature data. How might we tackle this problem?\n",
        "\n",
        "One solution is to realize that treating an int as a float, in this instance, does not cause problems. In other words, 15.0 is not any different for the purposes of recording a temperature than 15. The opposite of this, treating a float as an int, causes issues. For example, 17 is very different from 17.98 (we lose almost an entire degree!). To make the change, we need to add a second layer of testing to our initial layer. Specifically, once we’ve determined that the input is a str or bool, we check to see whether or not the str can be cast as a float. If it can, we have more usable data. If it can’t, we ignore it and pass to the next statement.\n",
        "\n",
        "Let’s modify our silent fail version to make this new, more robust version.\n"
      ],
      "metadata": {
        "id": "q22PA7Ekbuh9"
      }
    },
    {
      "cell_type": "code",
      "source": [
        "def to_centigrade(fahrenheit):\n",
        "    # test to see if input is a str, a bool, or a None type. If it is a string, test further to see if it can become a float.\n",
        "    if(isinstance(fahrenheit, str) or isinstance(fahrenheit, bool) or isinstance(fahrenheit, type(None))):\n",
        "        #test string to see if it can become a float\n",
        "        if(isinstance(fahrenheit, str)):\n",
        "            #use try/except to handle anticipated value error if the str cannot be converted\n",
        "            try:\n",
        "                fahrenheit = float(fahrenheit)\n",
        "                converted = round(5/9*(fahrenheit-32),2)\n",
        "                print(converted)\n",
        "                \n",
        "            except ValueError:\n",
        "                pass\n",
        "        else:\n",
        "            pass\n",
        "    # if it is an int or float, carry out the conversion\n",
        "    else:\n",
        "        converted = round(5/9*(fahrenheit-32),2)\n",
        "        print(converted)"
      ],
      "metadata": {
        "id": "O0YhLkMQb_KE"
      },
      "execution_count": null,
      "outputs": []
    },
    {
      "cell_type": "code",
      "source": [
        "# test to see if any errors occur\n",
        "to_centigrade(40)\n",
        "to_centigrade(103.135)\n",
        "to_centigrade(\"Henry\")\n",
        "to_centigrade(True)\n",
        "to_centigrade(\"15\")\n",
        "to_centigrade(\"17.98\")\n",
        "to_centigrade(None)"
      ],
      "metadata": {
        "id": "fGC95htQcGQn",
        "colab": {
          "base_uri": "https://localhost:8080/"
        },
        "outputId": "f6ab365f-788c-42ea-ceec-5e6395e345c6"
      },
      "execution_count": null,
      "outputs": [
        {
          "output_type": "stream",
          "name": "stdout",
          "text": [
            "4.44\n",
            "39.52\n",
            "-9.44\n",
            "-7.79\n"
          ]
        }
      ]
    },
    {
      "cell_type": "markdown",
      "source": [
        "The _try/except_ pairing is a Pythonic way of handling expected errors. We create a conditional in which we tell the interpreter to “try” to perform an action–in this case casting the input to a float–and if there are no errors, continue to the next line of code (here we tell the function to carry out our conversion). If the interpreter detects the expected error (a Value Error), the “except” comes into play and instructs the program what to do (here it tells it to pass and move to the end of the program). Try/except statements are handy for handling errors that you expect but will fail if they encounter those you don’t.\n",
        "\n",
        "**Lesson:** making a function or code block resilient through error handling does not guarantee that it will **NEVER** break. It simply means that you have done your best to anticipate the greatest majority of errors so that your code does not fail easily.  "
      ],
      "metadata": {
        "id": "UqGYK59FcVDZ"
      }
    },
    {
      "cell_type": "markdown",
      "source": [
        "###Function Version 4\n",
        "This version of our function is great! It ensures that it can handle the most likely input it will receive and it prints values that are correct. We have another improvement to make before it is ready to move on. We need a way of giving back the answer it generates in a way that the computer can use. Right now, it prints the answer. This is great for us because we can see what it is doing and determine if everything is working. If we wanted to use the answer it generates in another part of our program, however, printing doesn’t help us. We need to use a “return” statement. \n",
        "\n",
        "A return statement uses the reserved word “return” to tell a function or method to end and to send something back to the program that called the function. By default, all functions are of return type None. This means that we do not designate a form of return or output, when we call the function, nothing will come back to us. For example, if we write a simple function that has a defined variable in it but do not tell the function to print the message or return it, we will get nothing back when we call the function.\n"
      ],
      "metadata": {
        "id": "lbDTsK3VmCUf"
      }
    },
    {
      "cell_type": "code",
      "source": [
        "def simple_function():\n",
        "    message = \"This is my simple function\"\n",
        "simple_function()"
      ],
      "metadata": {
        "id": "SCHoqvnMmHjM"
      },
      "execution_count": null,
      "outputs": []
    },
    {
      "cell_type": "code",
      "source": [
        "print(simple_function())"
      ],
      "metadata": {
        "id": "mXYz_R3ZmNaw",
        "colab": {
          "base_uri": "https://localhost:8080/"
        },
        "outputId": "656506c9-6bd6-437f-e4c7-265e871c4b8c"
      },
      "execution_count": null,
      "outputs": [
        {
          "output_type": "stream",
          "name": "stdout",
          "text": [
            "None\n"
          ]
        }
      ]
    },
    {
      "cell_type": "code",
      "source": [
        "def simple_function():\n",
        "    message = \"This is my simple function\"\n",
        "    return(message)"
      ],
      "metadata": {
        "id": "qCltMpfwma3g"
      },
      "execution_count": null,
      "outputs": []
    },
    {
      "cell_type": "code",
      "source": [
        "print(simple_function())"
      ],
      "metadata": {
        "id": "OtAYEgujmecg"
      },
      "execution_count": null,
      "outputs": []
    },
    {
      "cell_type": "markdown",
      "source": [
        "###Function Version 5\n",
        "Building on what we’ve seen with our simple function, let’s modify our working conversion function to return values instead of just printing them. What changes do you think we will need to make? \n",
        "\n",
        "####Try it yourself\n",
        "Modify the function so that it returns information when and where we need it. Take ten minutes and we'll check in to see what you have.\n"
      ],
      "metadata": {
        "id": "6OS-__LTm5hm"
      }
    },
    {
      "cell_type": "code",
      "source": [
        "def to_centigrade(fahrenheit):\n",
        "    # test to see if input is a str, a bool, or a None type. If it is a string, test further to see if it can become a float.\n",
        "    if(isinstance(fahrenheit, str) or isinstance(fahrenheit, bool) or isinstance(fahrenheit, type(None))):\n",
        "        #test string to see if it can become a float\n",
        "        if(isinstance(fahrenheit, str)):\n",
        "            #use try/except to handle anticipated value error if the str cannot be converted\n",
        "            try:\n",
        "                fahrenheit = float(fahrenheit)\n",
        "                return(round(5/9*(fahrenheit-32),2))\n",
        "                \n",
        "            except ValueError:\n",
        "                pass\n",
        "        else:\n",
        "            pass\n",
        "    # if it is an int or float, carry out the conversion\n",
        "    else:\n",
        "        return(round(5/9*(fahrenheit-32),2))"
      ],
      "metadata": {
        "id": "iTd_VBghnLuS"
      },
      "execution_count": null,
      "outputs": []
    },
    {
      "cell_type": "code",
      "source": [
        "#test to see if any errors occur\n",
        "print(to_centigrade(40))\n",
        "print(to_centigrade(\"Henry\"))\n",
        "print(to_centigrade(103.135))\n",
        "print(to_centigrade(\"15\"))\n",
        "print(to_centigrade(\"17.98\"))\n",
        "print(to_centigrade(None))"
      ],
      "metadata": {
        "id": "R966CRr0nRb8",
        "colab": {
          "base_uri": "https://localhost:8080/"
        },
        "outputId": "bd49e4b9-08cc-4fe0-8caa-3ca5d2bcaa65"
      },
      "execution_count": null,
      "outputs": [
        {
          "output_type": "stream",
          "name": "stdout",
          "text": [
            "4.44\n",
            "None\n",
            "39.52\n",
            "-9.44\n",
            "-7.79\n",
            "None\n"
          ]
        }
      ]
    },
    {
      "cell_type": "markdown",
      "source": [
        "###Function Version 6\n",
        "**Notice** that when we print the returned values, the print method will output None for the inputs that could not be converted (i.e. “Henry” and None). This is because when we use pass, the function ends and returns None as its value. The print method then dutifully outputs it. To handle this, we make one more change to our function and replace the “pass” instruction with strings to return.\n",
        "\n",
        "####Try it yourself\n",
        "Modify the function so that it has appropriate error messages if a bool or None is entered. Take five or ten minutes and we'll check in to see what you have."
      ],
      "metadata": {
        "id": "k5c-Pytxnpjl"
      }
    },
    {
      "cell_type": "code",
      "source": [
        "def to_centigrade(fahrenheit):\n",
        "    # test to see if input is a str or a bool. If it is a string, test further to see if it can become a float.\n",
        "    if(isinstance(fahrenheit, str) or isinstance(fahrenheit, bool) or isinstance(fahrenheit, type(None))):\n",
        "        #test string to see if it can become a float\n",
        "        if(isinstance(fahrenheit, str)):\n",
        "            #use try/except to handle anticipated value error if the str cannot be converted\n",
        "            try:\n",
        "                fahrenheit = float(fahrenheit)\n",
        "                return(round(5/9*(fahrenheit-32),2))\n",
        "                \n",
        "            except ValueError:\n",
        "                return(\"Invalid Value Entered\")\n",
        "        else:\n",
        "            return(\"No Value Entered\")\n",
        "    # # if it is an int or float, carry out the conversion\n",
        "    else:\n",
        "        return(round(5/9*(fahrenheit-32),2))"
      ],
      "metadata": {
        "id": "Xk6lL0faoMJN"
      },
      "execution_count": null,
      "outputs": []
    },
    {
      "cell_type": "code",
      "source": [
        "#test to see if any errors occur\n",
        "print(to_centigrade(40))\n",
        "print(to_centigrade(\"Henry\"))\n",
        "print(to_centigrade(103.135))\n",
        "print(to_centigrade(\"15\"))\n",
        "print(to_centigrade(\"17.98\"))\n",
        "print(to_centigrade(None))"
      ],
      "metadata": {
        "id": "fxtiSxamocAo",
        "colab": {
          "base_uri": "https://localhost:8080/"
        },
        "outputId": "2dca44a9-c70f-43f6-878e-be901a37d9c8"
      },
      "execution_count": null,
      "outputs": [
        {
          "output_type": "stream",
          "name": "stdout",
          "text": [
            "4.44\n",
            "Invalid Value Entered\n",
            "39.52\n",
            "-9.44\n",
            "-7.79\n",
            "No Value Entered\n"
          ]
        }
      ]
    },
    {
      "cell_type": "markdown",
      "source": [
        "###Try it for yourself:\n",
        "Try re-running our test calls to the function and see what the output is. Try using your own inputs and see whether or not you can “break” the function. Take a minute or two with different inputs and see if/where the function breaks.\n"
      ],
      "metadata": {
        "id": "K-Ae6Nz3o0C4"
      }
    },
    {
      "cell_type": "markdown",
      "source": [
        "###Things to Consider\n",
        "**Notice** that in our solution, we output warning strings for the values that were of the wrong type. We could also have chosen a different route. We could, for instance, have chosen to output 0 in the case of a string or a None or we could have used an arbitrary number like -10,000. Each of these choices (message, 0, or arbitrary number) have their strengths and weaknesses. What do you think some of those might be?"
      ],
      "metadata": {
        "id": "8JEUMCnFpAHy"
      }
    },
    {
      "cell_type": "markdown",
      "source": [
        "**Solution** String (error message)\n",
        "> **Strengths**\n",
        ">>* Communicates a problem to a potential user. \n",
        ">>* Can be used for logging information.\n",
        "\n",
        "> **Weaknesses**\n",
        ">>* Has to be accounted for in any “downstream” use that may not be ready to handle strings. \n",
        ">>* Must be removed before attempting to do any statistical analysis.\n",
        "\n",
        "**Solution** Zero (0)\n",
        "> **Strengths**\n",
        ">>* Provides a number that can be mathematically neutral. \n",
        ">>* Its presence will not adversely effect operations such as summation.\n",
        "\n",
        "> **Weaknesses**\n",
        ">>* Can skew statistical measures such as mean, median, and mode if there are a great number of entries like this by overrepresenting the times when the temperature was actually 0. \n",
        ">>* Ignores the fact that None is an absence of value and cannot be assumed to be 0. If this was a sensor reading, a None might mean that the sensor malfunctioned and did not record a temp.\n",
        "\n",
        "**Solution** Arbitrary Number (-10,000)\n",
        "> **Strengths**\n",
        ">>* If chosen well, it can be easy to pick out as an error number and can be discarded.\n",
        "\n",
        "> **Weaknesses**\n",
        ">>* Requires documentation so that another user knows what it is. \n",
        ">>* Has to be accounted for before any statistical measures can be made.\n",
        ">>* If chosen poorly can be confused with actual data and removing it will cause problems."
      ],
      "metadata": {
        "id": "bfq1ecN2pH7r"
      }
    },
    {
      "cell_type": "markdown",
      "source": [
        "**Thought exercise:** what would be the advantages and disadvantages of printing our error statement but returning None for an input of none?"
      ],
      "metadata": {
        "id": "tPkPw-9mtWRA"
      }
    },
    {
      "cell_type": "markdown",
      "source": [
        "###Function: Going Further\n",
        "The function we have so far is very good. It has not, however, handled all of the potential problems. The function, for example, does not check to see if the input temperature makes sense. Absolute zero (0 Kelvin: -459.67 fahrenheit or -273.15 centigrade) is the lowest a temperature can go – it is so cold that atomic movement essentially stops (with the exception of quantum fluctuations). Any temperature below this is simply not possible. As a result, our function should ideally check its input to make sure that it does not accept any values below -459.67.\n",
        "\n",
        "**Thought Exercise:** how would you check for this input limit? Where would you place it in the function?\n",
        "\n",
        "####Try it yourself:\n",
        "Once you have determined how and where you would test for values below absolute 0, try implementing it in your code (taking it to version 7). Be sure to put your function through appropriate test cases to determine whether or not you have been successful. You can do this at home.\n"
      ],
      "metadata": {
        "id": "7pW66OBjtko1"
      }
    },
    {
      "cell_type": "markdown",
      "source": [
        "**Side note:** the maximum temperature possible according to current physical models of the universe is so high (around 1.42e33 centigrade, 2.556e33 fahrenheit) that it doesn’t require checking for a function like this.\n",
        "\n",
        "**Why worry about this stuff?** If you are writing a small function and you will be controlling the input to it, it may not be necessary to build in this level of error checking and prevention. If you are writing functions that others might use, or if you are allowing users to directly provide input to your function, keeping an eye toward fault tolerance is important.\n"
      ],
      "metadata": {
        "id": "_OqFwzart7-Y"
      }
    },
    {
      "cell_type": "markdown",
      "source": [
        "###Compounding Functions, Version 1\n",
        "One of the more powerful features of functions is the ability to nest them inside each other by calling a function within a function.\n",
        "\n",
        "What if we had a list of temperatures we needed to convert? We could repeatedly call the function for each individual number (imagine 30 or 40 identical print statements one after the other like the ones we used to test our function), or we could use a “for x in y” approach to iterate over the list and get the output.\n"
      ],
      "metadata": {
        "id": "f-gkQa6EuYM8"
      }
    },
    {
      "cell_type": "code",
      "source": [
        "to_convert_to_centigrade = [65, 67, 71, 73, 77, 79, 81, 78, 76, 72, 68, 66]\n",
        "\n",
        "for temp in to_convert_to_centigrade:\n",
        "    print(to_centigrade(temp))"
      ],
      "metadata": {
        "id": "1SqXO1LqvGNw",
        "colab": {
          "base_uri": "https://localhost:8080/"
        },
        "outputId": "21871375-d824-4a8c-c66a-09e7c890e88d"
      },
      "execution_count": null,
      "outputs": [
        {
          "output_type": "stream",
          "name": "stdout",
          "text": [
            "18.33\n",
            "19.44\n",
            "21.67\n",
            "22.78\n",
            "25.0\n",
            "26.11\n",
            "27.22\n",
            "25.56\n",
            "24.44\n",
            "22.22\n",
            "20.0\n",
            "18.89\n"
          ]
        }
      ]
    },
    {
      "cell_type": "markdown",
      "source": [
        "###Compounding Functions, Version 2\n",
        "Printing the results one-by-one is fine if we want to see the numbers, but what if we want to save them for use in other parts of the program? We can do this by altering our code just a little."
      ],
      "metadata": {
        "id": "1dU1LYDlvP00"
      }
    },
    {
      "cell_type": "code",
      "source": [
        "converted_to_centigrade =[]\n",
        "\n",
        "for temp in to_convert_to_centigrade:\n",
        "    converted_to_centigrade.append(to_centigrade(temp))\n",
        "\n",
        "print(converted_to_centigrade)"
      ],
      "metadata": {
        "id": "DSv60jd4vYue",
        "colab": {
          "base_uri": "https://localhost:8080/"
        },
        "outputId": "33b38d47-1766-41ca-e541-a1f837ef4fb7"
      },
      "execution_count": null,
      "outputs": [
        {
          "output_type": "stream",
          "name": "stdout",
          "text": [
            "[18.33, 19.44, 21.67, 22.78, 25.0, 26.11, 27.22, 25.56, 24.44, 22.22, 20.0, 18.89]\n"
          ]
        }
      ]
    },
    {
      "cell_type": "markdown",
      "source": [
        "###Compounding Functions, Version 3\n",
        "We can use this behavior to our advantage by creating compound functions that give us more flexibility than a single function. Let’s take all our hard work on creating a workable temperature conversion function and create a function that can handle single inputs, lists, or tuples and output a single value, tuple, or a list. Fortunately, we already have most of the working parts.\n"
      ],
      "metadata": {
        "id": "YDDJ7u5jvmM9"
      }
    },
    {
      "cell_type": "code",
      "source": [
        "def to_centigrade_flexible(temperature):\n",
        "    '''This function accepts a single temperature in int or float form and returns a single temperature.\n",
        "    It also accepts a list of temperatures in int or float form and returns a list.\n",
        "    It also accepts a tuple of temperatures in int or float form and returns a tuple.\n",
        "    \n",
        "    Input: int, float; list of int and/or float; tuple of int and/or float\n",
        "    Output: single int or float; list of int and/or float; tuple of int and/or float\n",
        "    '''\n",
        "\n",
        "    # create empty list for returning list data or conversion into tuple data\n",
        "    converted_to_centigrade =[]\n",
        "    # test to see if incoming data is in list form\n",
        "    if(isinstance(temperature, list)):\n",
        "        for temp in temperature:\n",
        "            converted_to_centigrade.append(to_centigrade(temp))\n",
        "        return(converted_to_centigrade)\n",
        "    # test to see if incoming data is in tuple form\n",
        "    elif(isinstance(temperature, tuple)):\n",
        "        for temp in temperature:\n",
        "            converted_to_centigrade.append(to_centigrade(temp))\n",
        "        return(tuple(converted_to_centigrade))\n",
        "    # final option if data is singular\n",
        "    else:\n",
        "        return(to_centigrade(temperature))"
      ],
      "metadata": {
        "id": "mnfIpPAcvxrA"
      },
      "execution_count": null,
      "outputs": []
    },
    {
      "cell_type": "code",
      "source": [
        "# Data for compound function\n",
        "tuple_temp = (72, 78, 83, 90, 87, 77, 68)\n",
        "temps_with_gaps = [66, 68, 73, None, 84, 91, 83, 77, None, 66]\n",
        "\n",
        "# Test to see if any errors occur\n",
        "to_centigrade_flexible(to_convert_to_centigrade)\n",
        "# to_centigrade_flexible(tuple_temp)\n",
        "# to_centigrade_flexible(82)\n",
        "# to_centigrade_flexible(\"Bob\")\n",
        "# to_centigrade_flexible(None)\n",
        "# to_centigrade_flexible(temps_with_gaps)\n"
      ],
      "metadata": {
        "id": "JPNMMVG-w_dM",
        "colab": {
          "base_uri": "https://localhost:8080/"
        },
        "outputId": "ed4903ef-11db-4104-a5c3-5de666f98a03"
      },
      "execution_count": null,
      "outputs": [
        {
          "output_type": "execute_result",
          "data": {
            "text/plain": [
              "[18.33,\n",
              " 19.44,\n",
              " 21.67,\n",
              " 22.78,\n",
              " 25.0,\n",
              " 26.11,\n",
              " 27.22,\n",
              " 25.56,\n",
              " 24.44,\n",
              " 22.22,\n",
              " 20.0,\n",
              " 18.89]"
            ]
          },
          "metadata": {},
          "execution_count": 25
        }
      ]
    },
    {
      "cell_type": "markdown",
      "source": [
        "####Concept check: \n",
        "Why do we have to use a list to record output for our tuple input?"
      ],
      "metadata": {
        "id": "rqO042IlwJaa"
      }
    },
    {
      "cell_type": "markdown",
      "source": [
        "**Notice** that because we have built error checking into “to_centigrade”, our compound function, which calls “to_centigrade”, does not need it. All we need to do is put in checks for the data type of the input (e.g. list, tuple, etc.) and can rely on “to_centigrade” to handle the rest. "
      ],
      "metadata": {
        "id": "M5ojRRPHyc3E"
      }
    },
    {
      "cell_type": "markdown",
      "source": [
        "####Abstraction: \n",
        "Functions like “to_centigrade” and “to_centigrade_flexible” are examples of the concept of abstraction. \n",
        "\n",
        "In various programming languages like Python, abstraction means hiding the specifics of the computation from the user. This keeps coding cleaner (i.e. a call to “to_centigrade_flexible” in a program is only one line – a potential user may never see all of the internal parts of it) and allows a user to focus on higher level concepts. \n",
        "\n",
        "We have relied on this already when using the .print() and .append() methods. Unless we look at the codebase for these methods, we don’t know (or even care) what their internal structures look like. We know that we can use them, that they work, and that we have to employ them following certain rules and restrictions. \n",
        "\n",
        "Abstraction is useful in that it allows us to build on the hard work of others instead of having to write our own functions for things like “print” and “append”. While generally positive, it also has a down side. Abstraction can _obscure_ what is happening in a function and, as a result, we can remain _unaware_ of potential problems with it (this is especially the case for things like machine learning algorithms).\n"
      ],
      "metadata": {
        "id": "1_8d0YNeyeMc"
      }
    },
    {
      "cell_type": "markdown",
      "source": [
        "###User Input\n",
        "So far, we have relied on pre-existing data for our function. This assumes that these values are being generated from a sensor or are being passed by some system that takes in values from somewhere. What if we want to allow a user to enter a value directly?  We can do this with the .input() method.\n"
      ],
      "metadata": {
        "id": "AZw0M54vzEWg"
      }
    },
    {
      "cell_type": "code",
      "source": [
        "print(\"This program converts from Fahrenheit to Centigrade.\")\n",
        "user_temp = input(\"Please enter a temperature in Fahrenheit: \")\n",
        "user_answer = to_centigrade_flexible(user_temp)\n",
        "print(f'{user_temp} Fahrenheit is {user_answer} Centigrade')"
      ],
      "metadata": {
        "id": "Soqz0VjGzJ9j",
        "colab": {
          "base_uri": "https://localhost:8080/"
        },
        "outputId": "cd3886fb-4891-4607-93a6-fabc1030f758"
      },
      "execution_count": null,
      "outputs": [
        {
          "output_type": "stream",
          "name": "stdout",
          "text": [
            "This program converts from Fahrenheit to Centigrade.\n",
            "Please enter a temperature in Fahrenheit: 98\n",
            "98 Fahrenheit is 36.67 Centigrade\n"
          ]
        }
      ]
    },
    {
      "cell_type": "markdown",
      "source": [
        "**Be aware** that the .input() method returns a string object no matter what was typed into it. Fortunately, we have already anticipated this in our inner “to_centigrade” function and the ‘to_centigrade_flexible” function should be able to handle whatever the user enters without crashing. \n",
        "\n",
        "**Remember:** that we handled this by casting viable inputs into the float type. If you are using input  to get numeric information from a user, you must remember to cast your variable to the proper type before working with it any further. If you’ve cast the input properly, you should be able to avoid errors. That said, if the user enters something that is not usable (a bool or None), into our function, it will return a helpful error message and quit. The user will not have a chance to try again without restarting the program. Even if they do input a viable number, once the temperature is returned, the program will end (i.e. they get “one shot” at using our function).\n",
        "\n",
        "**Though exercise:** How might we help a user recover from an input error so that they get a useful output?  "
      ],
      "metadata": {
        "id": "l18hm6XWzRKT"
      }
    },
    {
      "cell_type": "markdown",
      "source": [
        "####Try it yourself:\n",
        "Use the .input() method to get user inputs for your temperature conversion function. See if you, or your friends, can break your function. If so, when and how did it break? Can you think of ways to address these issues? You can do this at home.\n"
      ],
      "metadata": {
        "id": "xbRRTwHBz1xc"
      }
    },
    {
      "cell_type": "markdown",
      "source": [
        "###Recursion\n",
        "In addition to calling a function within a function–like our flexible temperature conversion function–many languages (and Python is one) support the ability of a function to call itself inside itself. This process is called recursion. \n",
        "\n",
        "To demonstrate this, we will use a mathematical construction that can be solved recursively–factorial. We can think of n factorial being the total number of ways you can arrange n objects. To calculate the factorial of a number, we multiply each number by the number that came before it. For example:\n",
        "\n",
        "> 6! (read as 6 factorial) = ```6*5*4*3*2*1```\n",
        "\n",
        "We will start multiplying from the left side and make our way toward the right. \n",
        ">```6*5 = 30; 30*4 = 120; 120*3 = 360, 360*2 = 720, 720*1 = 720``` \n",
        "\n",
        "So, if we had 6 objects, there would be 720 ways we could arrange them.\n",
        "\n",
        "We can generalize this action by using the following formula \n",
        "> ```n! = n*(n-1)*(n-2)* … *2*1``` \n",
        "\n",
        "In other words, we begin with a particular number and multiply it to 1 minus itself. We then proceed down the line until we reach one, at which point our chain of multiplications ends. \n",
        "\n",
        "Another way of thinking about this problem is that at each step, we have a recurrence of the original problem. We can rewrite 6! as ```6*5!``` (thanks to the distributivity of multiplication). This in turn can be written as ```6*5*4!```, and so on. If we knew, for example, that 4! = 24 we could solve this by multiplying ```6*5``` (or 30) with 24 to get 720 (or we could multiply ```6*(5*24)``` and get the same outcome). Knowing this is helpful because it allows us to break down the problem into manageable pieces. \n",
        "\n",
        "Calculating a small factorial is trivial – larger numbers, say above 10, become more difficult to manage because the product becomes very large. Fortunately, computers are good at handling these problems (up to the memory and performance limit of any given machine)."
      ],
      "metadata": {
        "id": "yjFwlYC00W-u"
      }
    },
    {
      "cell_type": "code",
      "source": [
        "def my_factorial(number):\n",
        "    if number <= 1:\n",
        "        return 1\n",
        "    else:\n",
        "        return(number * my_factorial(number-1))"
      ],
      "metadata": {
        "id": "ayLgej-C1pQi"
      },
      "execution_count": null,
      "outputs": []
    },
    {
      "cell_type": "code",
      "source": [
        "print(my_factorial(6))"
      ],
      "metadata": {
        "id": "xCCxGIZQ1s-D",
        "colab": {
          "base_uri": "https://localhost:8080/"
        },
        "outputId": "8f522ff7-a162-4f84-8bc0-964e89c7fffa"
      },
      "execution_count": null,
      "outputs": [
        {
          "output_type": "stream",
          "name": "stdout",
          "text": [
            "720\n"
          ]
        }
      ]
    },
    {
      "cell_type": "markdown",
      "source": [
        "Let’s work through a simple version of what is happening here by taking 4! \n",
        "\n",
        "We begin by passing 4 to the function. The function checks the base case and since 4 is greater than 1, it moves to the else statement. Here is where things get interesting. When we plug our number into the else statement, we get.  \n",
        "> ```4 * my_factorial(3)``` \n",
        "\n",
        "– we’ve called the my_factorial function inside the my_factorial function. At this point, 3 is passed to the my_factorial function. 3 is greater than 1 so it goes to the else statement, which produces \n",
        "> ```3 * my_factorial(2)```. \n",
        "\n",
        "The function is called inside the function that was called inside the first function. We then pass 2 to the function and since 2 is greater than 1, we get \n",
        "> ```2 * my_factorial(1)``` \n",
        "\n",
        "in the else statement. This time, 1 is passed to the function in the function in the function and triggers the base case. The inner function returns 1, this resolves the previous call to ```2*1```. This then returns to the call above it and renders ```3*2```, which sends 6 back up the line. The next level is ```4*6```, which equals 24 and the calls are done–our answer is 24. \n",
        "\n",
        "**Notice** that at each stage, the function is passed to a “call stack” that holds the information until our base case is reached. Once that base case is met, the answers are returned from the stack and the memory allocated to that call is freed. This is why a base case is vital. Without a case or condition that tells the function to stop, an increasing number of items are placed on the call stack. Eventually, the computer’s memory is reached and the system generates a stack overflow error.\n",
        "\n",
        "###Try it yourself:\n",
        "Using pen and paper, work out what entering 7 into the function would produce. Once you have your answer, check it by running the function in Python and see if you were correct. It may seem tedious but it is an excellent way of understanding how a recursive function works.\n"
      ],
      "metadata": {
        "id": "ajIrUEUf14jo"
      }
    },
    {
      "cell_type": "markdown",
      "source": [
        "###Coding Challenge!\n",
        "Your hero and villain generator will need to handle the parallel lists below. \n",
        "\n",
        "####Hint:\n",
        "You will want a function called \"full_name\" that is capable of:\n",
        "* taking in a first and last name\n",
        "* testing to see if either part is missing and if so, adjust the full name accordingly.\n",
        "* return a full name for output\n",
        "\n",
        "You will want to find a way of specifying if the user wants a hero or villain so that your function can generate the correct type.\n",
        "\n",
        "You will want to be able to differentiate between a single string for a charactersitic or weakness and a list of these items (e.g think of the \"likes\" we saw in our Star Wars themed club dictionaries)."
      ],
      "metadata": {
        "id": "mDAJf9D-4KRx"
      }
    },
    {
      "cell_type": "code",
      "source": [
        "hero_fname = [\"Anung Un\",\"Abe\", \"Liz\", \"Abraham\", \"Ash\", \"James\",\"Thor\", \"Bumble Bee\"]\n",
        "hero_lname = [\"Rama (Hellboy)\", \"Sapien\", \"Sherman\",\"Van Helsing\", \"Williams\", \"Kirk\", \"\", \"\"]\n",
        "hero_species = [\"Demon\", \"Ichthyo sapien\", \"Human\",\"Human\", \"Human\", \"Human\", \"Asgardan\", \"Human\"]\n",
        "hero_characteristics = [\"Right Hand of Doom\", [\"Possibly Immortal\", \"Psychic Abilities\"], \"Pyrokenesis\", \"Extreme Intelligence\", \"Chainsaw Hand\", \"Phaser\", \"Hammer\", [\"Size Shifting\", \"Enhanced Agility\"]]\n",
        "hero_weaknesses = [[\"Insecurity\", \"Jealousy\"], \"Cannot be out of water for long\", \"Uncontrollable Rage\", \"Prone to Obsession\", \"Impulsive\", \"Recklessness\", \"Short Tempered\", \"Lack of Confidence\"]\n",
        "\n",
        "villain_fname = [\"Grigori\", \"Herman\", \"Ilsa\", \"Vlad\", \"\", \"Khan\", \"Loki\", \"Brother Blood\"]\n",
        "villain_lname = [\"Rasputin\", \"von Klempt\", \"Von Hapustein\",\"Tepes\", \"Evil Force\", \"Singh\", \"\", \"\"]\n",
        "villain_species = [\"Human\", \"Cyborg\", \"Human\",\"Vampire\", \"Demon\", \"Homo Superior\", \"Frost Giant\", \"Human\"]\n",
        "villain_characteristics = [\"Master of the Dark Arts\", \"Genius Intellect\", \"Trained Soldier\", \"Controls Human Minds\", \"Turns Humans Evil\", \"Superhuman Strength and Intelligence\", [\"Shape Shifting\", \"Extremely Cunning\"], \"Mind Control\",]\n",
        "villain_weaknesses = [\"Physical body was destroyed\", \"Is a head in a jar\", \"Too trusting of Rasputin\", \"Destroyed by Sunlight\", \"Kandarian Dagger\", \"Excessive Pride\", \"Impulsiveness\", \"Cyborg's Resistance to Mind Control\"]"
      ],
      "metadata": {
        "id": "pel-b_douJH1"
      },
      "execution_count": null,
      "outputs": []
    },
    {
      "cell_type": "code",
      "source": [
        "for i in range(len(hero_fname)):\n",
        "# for i, _ in enumerate(hero_fname):\n",
        "  print(f\"Hero |\\n{hero_fname[i]} {hero_lname[i]},\\n\\t{hero_species[i]}, \\n\\t{hero_characteristics[i]},\\n\\t{hero_weaknesses[i]}\\n\")\n",
        "  print(f\"Villain |\\n{(villain_fname[i].strip())} {villain_lname[i]},\\n\\t{villain_species[i]}, \\n\\t{villain_characteristics[i]},\\n\\t{villain_weaknesses[i]}\\n\")"
      ],
      "metadata": {
        "id": "XDd5Ov93Cd6l",
        "colab": {
          "base_uri": "https://localhost:8080/"
        },
        "outputId": "ee4a5e59-a676-44b6-f69d-bfb7e508e8b6"
      },
      "execution_count": null,
      "outputs": [
        {
          "output_type": "stream",
          "name": "stdout",
          "text": [
            "Hero |\n",
            "Anung Un Rama (Hellboy),\n",
            "\tDemon, \n",
            "\tRight Hand of Doom,\n",
            "\t['Insecurity', 'Jealousy']\n",
            "\n",
            "Villain |\n",
            "Grigori Rasputin,\n",
            "\tHuman, \n",
            "\tMaster of the Dark Arts,\n",
            "\tPhysical body was destroyed\n",
            "\n",
            "Hero |\n",
            "Abe Sapien,\n",
            "\tIchthyo sapien, \n",
            "\t['Possibly Immortal', 'Psychic Abilities'],\n",
            "\tCannot be out of water for long\n",
            "\n",
            "Villain |\n",
            "Herman von Klempt,\n",
            "\tCyborg, \n",
            "\tGenius Intellect,\n",
            "\tIs a head in a jar\n",
            "\n",
            "Hero |\n",
            "Liz Sherman,\n",
            "\tHuman, \n",
            "\tPyrokenesis,\n",
            "\tUncontrollable Rage\n",
            "\n",
            "Villain |\n",
            "Ilsa Von Hapustein,\n",
            "\tHuman, \n",
            "\tTrained Soldier,\n",
            "\tToo trusting of Rasputin\n",
            "\n",
            "Hero |\n",
            "Abraham Van Helsing,\n",
            "\tHuman, \n",
            "\tExtreme Intelligence,\n",
            "\tProne to Obsession\n",
            "\n",
            "Villain |\n",
            "Vlad Tepes,\n",
            "\tVampire, \n",
            "\tControls Human Minds,\n",
            "\tDestroyed by Sunlight\n",
            "\n",
            "Hero |\n",
            "Ash Williams,\n",
            "\tHuman, \n",
            "\tChainsaw Hand,\n",
            "\tImpulsive\n",
            "\n",
            "Villain |\n",
            " Evil Force,\n",
            "\tDemon, \n",
            "\tTurns Humans Evil,\n",
            "\tKandarian Dagger\n",
            "\n",
            "Hero |\n",
            "James Kirk,\n",
            "\tHuman, \n",
            "\tPhaser,\n",
            "\tRecklessness\n",
            "\n",
            "Villain |\n",
            "Khan Singh,\n",
            "\tHomo Superior, \n",
            "\tSuperhuman Strength and Intelligence,\n",
            "\tExcessive Pride\n",
            "\n",
            "Hero |\n",
            "Thor ,\n",
            "\tAsgardan, \n",
            "\tHammer,\n",
            "\tShort Tempered\n",
            "\n",
            "Villain |\n",
            "Loki ,\n",
            "\tFrost Giant, \n",
            "\t['Shape Shifting', 'Extremely Cunning'],\n",
            "\tImpulsiveness\n",
            "\n",
            "Hero |\n",
            "Bumble Bee ,\n",
            "\tHuman, \n",
            "\t['Size Shifting', 'Enhanced Agility'],\n",
            "\tLack of Confidence\n",
            "\n",
            "Villain |\n",
            "Brother Blood ,\n",
            "\tHuman, \n",
            "\tMind Control,\n",
            "\tCyborg's Resistance to Mind Control\n",
            "\n"
          ]
        }
      ]
    },
    {
      "cell_type": "code",
      "source": [
        "for x in range(1, 11):\n",
        "    print(f'{x:02} {x**5:10} {x**32:25}')"
      ],
      "metadata": {
        "id": "dW7oLsBmhDfA"
      },
      "execution_count": null,
      "outputs": []
    }
  ]
}